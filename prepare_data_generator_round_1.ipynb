{
 "cells": [
  {
   "cell_type": "code",
   "execution_count": 1,
   "id": "54aaad68-ca1e-453c-9a82-07d18a4a0578",
   "metadata": {},
   "outputs": [],
   "source": [
    "import sys, os, random\n",
    "import csv\n",
    "import json\n",
    "import openai\n",
    "from datasets import load_dataset\n",
    "from collections import defaultdict, OrderedDict\n",
    "import shutil\n",
    "import ast, re, copy\n",
    "import uuid\n",
    "from tqdm import tqdm\n",
    "from mypy import api as mypyapi\n",
    "import subprocess\n",
    "import mistune"
   ]
  },
  {
   "cell_type": "code",
   "execution_count": 2,
   "id": "a77b0970-74ff-4897-97aa-2351eaa02446",
   "metadata": {},
   "outputs": [],
   "source": [
    "#temperature, top_p = 0.1, 1.0\n",
    "temperature, top_p = 1.0, 0.7\n",
    "#model = \"gpt-4o-mini-2024-07-18\"\n",
    "#model = \"gpt-4o-2024-05-13\"\n",
    "#model = \"gpt-4-turbo-2024-04-09\"\n",
    "#model = \"ft:gpt-4o-mini-2024-07-18:uedin:semantic-inequiv-alice-run-0-round-0:AHFhDD6I\"\n",
    "#model = \"ft:gpt-4o-mini-2024-07-18:uedin:semantic-inequiv-alice-run-1-round-0:AIf2wVxd\"\n",
    "#model = \"ft:gpt-4o-mini-2024-07-18:uedin:semantic-inequiv-alice-run-2-round-0:AJ3BKMSO\"\n",
    "#model = \"ft:gpt-4o-mini-2024-07-18:uedin:semantic-inequiv-alice-run-0-round-1:AKsO2x9L\"\n",
    "#model = \"ft:gpt-4o-mini-2024-07-18:uedin:semantic-inequiv-alice-run-0-round-2:AKxe9TmB\"\n",
    "#model = \"ft:gpt-4o-mini-2024-07-18:uedin:semantic-inequiv-alice-run-0-round-3:Adfdi05r\"\n",
    "#model = \"ft:gpt-4o-mini-2024-07-18:uedin:semantic-inequiv-alice-run-0-round-4:AfXtDlh5\"\n",
    "#model = \"ft:gpt-4o-2024-08-06:uedin:semantic-inequiv-alice-run-0-round-5-dpo:Aq5l34VS\"\n",
    "model = \"ft:gpt-4o-mini-2024-07-18:uedin:semantic-inequiv-alice-run-0-round-5:Aphr2tfR\"\n",
    "max_tokens = 2048\n",
    "n = 10"
   ]
  },
  {
   "cell_type": "code",
   "execution_count": 3,
   "id": "ffe37843-28f7-48a3-a05d-e3366449bc8c",
   "metadata": {},
   "outputs": [],
   "source": [
    "dataset_full = load_dataset(\"mbpp\")"
   ]
  },
  {
   "cell_type": "code",
   "execution_count": 4,
   "id": "465483ee-1137-4394-991b-109ffb2975c3",
   "metadata": {},
   "outputs": [],
   "source": [
    "system_message = \\\n",
    "\"\"\"You are an expert computer scientist. Your task is to take a Python 3.10 program and write a similar program which is not semantically equivalent, which means that there must exist at least a diverging input example such that the original program and your program either produce different outputs or exceptions, or one halts and the other one does not halt. In addition to a program, you need to produce a diverging input example. Start by carefully analyzing the original program and think of how an example would propagate through it from the input to the return value, considering how to modify the program in order to elicit a different behavior. Make sure that the return values or exceptions raised by your program are picklable.\n",
    "The original program and your program will be used in a test to evaluate the skill of an expert computer scientist who will have to produce a diverging example (not necessarily the same as yours), so make sure that the difference you introduce are not very easy to understand. You will be given a difficulty level from 0 (easiest) to 10 (hardest) to target. E.g. difficulty level 0 means that an expert computer scientist in the bottom decile or above should be able to find a diverging example, difficulty level 9 means that only an expert computer scientist in the top decile should be able to find a diverging example, and difficulty level 10 means that only the top 1% or less of expert computer scientists should be able to find a diverging example.\n",
    "Think step by step before writing your program. Use the following Markdown format, making sure that the following sections are delimited by level 1 headings, since they will have to be automatically parsed:\n",
    "# Analysis\n",
    "step by step analysis. This section can include sub-headings and code blocks\n",
    "# Generated program\n",
    "your program inside a Python code block. Do not change the name or signature of the entry point function\n",
    "# Diverging input example\n",
    "your diverging input example as a Python dictionary inside a Python code block\n",
    "For instance, if the entry point function takes two parameters a and b and your diverging example is a=\"foo\" and b=42, write:\n",
    "```python\n",
    "{\n",
    "  \"a\": \"foo\",\n",
    "  \"b\": 42\n",
    "}\n",
    "```\n",
    "do not write the expected outputs\n",
    "\"\"\"\n",
    "\n",
    "def user_message_fn_0(example, difficulty_level=10):\n",
    "    return f\"\"\"Difficulty level: {difficulty_level}\n",
    "Entry point function: {example[\"function_name\"]}\n",
    "\n",
    "```python\n",
    "{example[\"code\"]}\n",
    "```\"\"\""
   ]
  },
  {
   "cell_type": "code",
   "execution_count": 5,
   "id": "529720ec-7943-4bf0-a98e-11ae765b2096",
   "metadata": {},
   "outputs": [],
   "source": [
    "def example_to_openai_api_format(example, difficulty_level=10):\n",
    "    messages = [{\"role\": \"system\", \"content\": system_message}, \n",
    "                {\"role\": \"user\", \"content\": user_message_fn_0(example, difficulty_level)}]\n",
    "    rv = {\n",
    "        \"model\": model,\n",
    "        \"messages\": messages,\n",
    "        \"temperature\": temperature,\n",
    "        \"top_p\": top_p,\n",
    "        \"max_tokens\": max_tokens,\n",
    "        \"n\": n\n",
    "#        \"response_format\": { \"type\": \"json_object\" }\n",
    "    }\n",
    "    return json.dumps(rv)"
   ]
  },
  {
   "cell_type": "code",
   "execution_count": 6,
   "id": "39951bea-13e3-4f97-8b88-1f8fb932552e",
   "metadata": {},
   "outputs": [],
   "source": [
    "round_n = 6\n",
    "run_n = 1\n",
    "#is_test = False\n",
    "is_test = True\n",
    "\n",
    "train_or_test_str = \"\" if not is_test else \"_test\"\n",
    "example_to_openai_file_name_base = f\"./generations{train_or_test_str}_round_{round_n}_run_{run_n}_to_openai.jsonl\"\n",
    "example_from_openai_file_name_base = f\"./generations{train_or_test_str}_round_{round_n}_run_{run_n}_from_openai.jsonl\""
   ]
  },
  {
   "cell_type": "code",
   "execution_count": 7,
   "id": "03802aa8-ef39-47f6-a9f2-972b77428013",
   "metadata": {},
   "outputs": [
    {
     "data": {
      "text/plain": [
       "'./generations_test_round_6_run_1_to_openai.jsonl'"
      ]
     },
     "execution_count": 7,
     "metadata": {},
     "output_type": "execute_result"
    }
   ],
   "source": [
    "example_to_openai_file_name_base"
   ]
  },
  {
   "cell_type": "code",
   "execution_count": 8,
   "id": "c5fcfaf7-5ce8-47fd-9f5b-81eff536329e",
   "metadata": {},
   "outputs": [],
   "source": [
    "data = dataset_full[\"train\"] if not is_test else dataset_full[\"test\"]\n",
    "data = [dict(example) for example in data]\n",
    "new_data = list()\n",
    "for example in data:\n",
    "    function_name = ast.parse(example[\"test_list\"][0]).body[0].test.left.func.id\n",
    "    example[\"function_name\"] = function_name\n",
    "    new_example = defaultdict(list)\n",
    "    new_example.update(example)\n",
    "    new_data.append(new_example)\n",
    "data = new_data"
   ]
  },
  {
   "cell_type": "code",
   "execution_count": 9,
   "id": "c0cbb4f9-e865-4bfd-8ecf-308398a63ee9",
   "metadata": {},
   "outputs": [
    {
     "data": {
      "text/plain": [
       "dict_keys(['task_id', 'text', 'code', 'test_list', 'test_setup_code', 'challenge_test_list', 'function_name'])"
      ]
     },
     "execution_count": 9,
     "metadata": {},
     "output_type": "execute_result"
    }
   ],
   "source": [
    "data[0].keys()"
   ]
  },
  {
   "cell_type": "code",
   "execution_count": 10,
   "id": "283791aa-ea8b-4754-ae9e-49323786aae4",
   "metadata": {},
   "outputs": [
    {
     "data": {
      "text/plain": [
       "[]"
      ]
     },
     "execution_count": 10,
     "metadata": {},
     "output_type": "execute_result"
    }
   ],
   "source": [
    "data[0]['user_message']"
   ]
  },
  {
   "cell_type": "code",
   "execution_count": 11,
   "id": "7a027bfe-223f-4c6c-b51f-07bcadd1deac",
   "metadata": {},
   "outputs": [
    {
     "name": "stdout",
     "output_type": "stream",
     "text": [
      "Difficulty level: 10\n",
      "Entry point function: remove_Occ\n",
      "\n",
      "```python\n",
      "def remove_Occ(s,ch): \n",
      "    for i in range(len(s)): \n",
      "        if (s[i] == ch): \n",
      "            s = s[0 : i] + s[i + 1:] \n",
      "            break\n",
      "    for i in range(len(s) - 1,-1,-1):  \n",
      "        if (s[i] == ch): \n",
      "            s = s[0 : i] + s[i + 1:] \n",
      "            break\n",
      "    return s \n",
      "```\n",
      "{\"model\": \"ft:gpt-4o-mini-2024-07-18:uedin:semantic-inequiv-alice-run-0-round-5:Aphr2tfR\", \"messages\": [{\"role\": \"system\", \"content\": \"You are an expert computer scientist. Your task is to take a Python 3.10 program and write a similar program which is not semantically equivalent, which means that there must exist at least a diverging input example such that the original program and your program either produce different outputs or exceptions, or one halts and the other one does not halt. In addition to a program, you need to produce a diverging input example. Start by carefully analyzing the original program and think of how an example would propagate through it from the input to the return value, considering how to modify the program in order to elicit a different behavior. Make sure that the return values or exceptions raised by your program are picklable.\\nThe original program and your program will be used in a test to evaluate the skill of an expert computer scientist who will have to produce a diverging example (not necessarily the same as yours), so make sure that the difference you introduce are not very easy to understand. You will be given a difficulty level from 0 (easiest) to 10 (hardest) to target. E.g. difficulty level 0 means that an expert computer scientist in the bottom decile or above should be able to find a diverging example, difficulty level 9 means that only an expert computer scientist in the top decile should be able to find a diverging example, and difficulty level 10 means that only the top 1% or less of expert computer scientists should be able to find a diverging example.\\nThink step by step before writing your program. Use the following Markdown format, making sure that the following sections are delimited by level 1 headings, since they will have to be automatically parsed:\\n# Analysis\\nstep by step analysis. This section can include sub-headings and code blocks\\n# Generated program\\nyour program inside a Python code block. Do not change the name or signature of the entry point function\\n# Diverging input example\\nyour diverging input example as a Python dictionary inside a Python code block\\nFor instance, if the entry point function takes two parameters a and b and your diverging example is a=\\\"foo\\\" and b=42, write:\\n```python\\n{\\n  \\\"a\\\": \\\"foo\\\",\\n  \\\"b\\\": 42\\n}\\n```\\ndo not write the expected outputs\\n\"}, {\"role\": \"user\", \"content\": \"Difficulty level: 10\\nEntry point function: remove_Occ\\n\\n```python\\ndef remove_Occ(s,ch): \\r\\n    for i in range(len(s)): \\r\\n        if (s[i] == ch): \\r\\n            s = s[0 : i] + s[i + 1:] \\r\\n            break\\r\\n    for i in range(len(s) - 1,-1,-1):  \\r\\n        if (s[i] == ch): \\r\\n            s = s[0 : i] + s[i + 1:] \\r\\n            break\\r\\n    return s \\n```\"}], \"temperature\": 1.0, \"top_p\": 0.7, \"max_tokens\": 2048, \"n\": 10}\n"
     ]
    }
   ],
   "source": [
    "print(user_message_fn_0(data[0]))\n",
    "print(example_to_openai_api_format(data[0]))"
   ]
  },
  {
   "cell_type": "code",
   "execution_count": 12,
   "id": "623388ac-601b-41fc-8ff0-3a7bcc5a774f",
   "metadata": {},
   "outputs": [],
   "source": [
    "with open(example_to_openai_file_name_base, \"w\") as out_fs:\n",
    "    for example in data:\n",
    "        if len(example[\"test_correct_programs\"]) > 0:\n",
    "            # already done, skip\n",
    "            continue\n",
    "        print(example_to_openai_api_format(example), file=out_fs)"
   ]
  },
  {
   "cell_type": "code",
   "execution_count": 13,
   "id": "e52caa1a-c56e-45a9-871a-ad904554239e",
   "metadata": {},
   "outputs": [
    {
     "name": "stdout",
     "output_type": "stream",
     "text": [
      "345, 9 Difficulty level: 10\n",
      "Entry point function: is_num_keith\n",
      "\n",
      "```python\n",
      "def is_num_keith(x): \n",
      "\tterms = [] \n",
      "\ttemp = x \n",
      "\tn = 0 \n",
      "\twhile (temp > 0): \n",
      "\t\tterms.append(temp % 10) \n",
      "\t\ttemp = int(temp / 10) \n",
      "\t\tn+=1 \n",
      "\tterms.reverse() \n",
      "\tnext_term = 0 \n",
      "\ti = n \n",
      "\twhile (next_term < x): \n",
      "\t\tnext_term = 0 \n",
      "\t\tfor j in range(1,n+1): \n",
      "\t\t\tnext_term += terms[i - j] \n",
      "\t\tterms.append(next_term) \n",
      "\t\ti+=1 \n",
      "\treturn (next_term == x) \n",
      "```, length\n",
      "{'index': 9, 'message': {'role': 'assistant', 'content': '# Analysis\\nThe provided function `is_num_keith` checks if a number `x` is a Keith number. A Keith number is defined by a specific sequence generated from its digits. The function works as follows:\\n\\n1. **Extract Digits**: It extracts the digits of the number `x` and stores them in a list called `terms`.\\n2. **Generate Sequence**: It generates a sequence of numbers starting from the sum of the digits, appending each new term to the list until the next term is equal to or greater than `x`.\\n3. **Check Equality**: Finally, it checks if the last generated term is equal to `x`.\\n\\n### Key Points\\n- The function uses a while loop to extract digits, which means it will run as long as `temp` is greater than 0.\\n- It reverses the list of digits to maintain the correct order.\\n- The second while loop generates the sequence by summing the last `n` terms repeatedly.\\n- The function returns a boolean indicating whether `x` is a Keith number.\\n\\n### Diverging Behavior\\nTo create a semantically different program, I will introduce a modification that changes the way the sequence is generated. Instead of summing the last `n` terms, I will sum all terms in the list for each new term generated. This will lead to a different sequence and potentially different outputs for certain inputs.\\n\\n### Potential Diverging Input\\nAn input that is a Keith number in the original function but will not be a Keith number in the modified function could be `x = 10`. The original function would generate the sequence `[1, 0, 1, 2, 3, 5, 8, 13, 21, 34, 55, 89, 144, 233, 377, 610, 987, 1597, 2584, 4181, 6765, 10946, 17711, 28657, 46368, 75025, 121393, 196418, 317811, 514229, 832040, 1346269, 2178309, 3524578, 5702887, 9227465, 14930352, 24157817, 39088169, 63245986, 102334155, 165580141, 267914296, 433494437, 701408733, 1134903170, 1836311903, 2971215073, 4807526976, 7778742049, 12586269025, 20365011074, 32951280099, 53316291173, 86267571272, 136401427000, 219577996272, 355979423272, 575557419544, 931536842816, 1502096263360, 2433633106176, 3935729369536, 6369362475704, 10315031805240, 16684394280944, 27099426086184, 43783820367128, 70883246453312, 114667766320440, 185550012773752, 300217779094192, 485767791867944, 785985570962136, 1271752361833080, 2057737932795216, 3329490294628296, 5387228227423504, 8716718522051800, 14173946719435304, 22890665241487104, 37064611960922408, 59955277102409512, 97019889063331920, 156375166565841432, 253395055629173352, 409770222195014784, 663165277824188136, 1073932502010201920, 1737097789834380056, 2811020291844581976, 4548118081678962032, 7359138373523544008, 11957206435212516040, 19316344708736060048, 31273551143948576088, 50589895852684636136, 81863446996633212224, 132153342149817148464, 213016789146450360688, 345170131296267509152, 558186920442717869840, 903357051738985379992, 1467542970182704141832, 2370900021921689521824, 3838442992104393663656, 6209343014026083185480, 10017726076105446829136, 16227059090131530014616, 26244785166236976843752, 42471844256368506858368, 68716629422505483692020, 111188973788173690350388, 179905603210678173042408, 291094576998851863392796, 471000180209530036155204, 762094757208381899548000, 1238091930419113936745204, 1990186687627495836293204, 3228278618046609773038408, 5218465305674105609331612, 8446743923720715382370020, 13675219219314850911701632, 22121963143035566294071652, 35797182362350417205773284, 57919145505385983599844836, 93716327867736400805618120, 151135973173822484305162456, 244852301041558885110780576, 396988274215381369415943032, 641840575256940254526723608, 1031821841470323621942162640, 1673662416727263876468886248, 2705484258197587498411048888, 4379146674924851374879935136, 7084630933122438873290984024, 11413717628097230248130979160, 18598348561219669121421969384, 30012066189316899369552948544, 48610414750536568490974917928, 78622480939853467860527866472, 127432195390190236151302184800, 206054676330043704011830051272, 333486871720233940163132236072, 539541547050277644174962287344, 873028418770511584338094523488, 1413567962827782222131055819832, 2286596381598293806469140343320, 3700164344426076028600196163152, 5986760726024369835069336506472, 9686925070450445863669532669624, 15603645706434815618718819112104, 25270570776885261452388351781728, 40874216483220077071107170893864, 66144787260105338523495522675592, 107019203343225115794302193569056, 173163990603330454317797716244648, 280183193946555570112099909813704, 453347184549885024429897626058352, 733530378496440594542997535872056, 1181871562040328611978890161932408, 1915401940536769206521887697804464, 3097273502577097818500777859736872, 5012675443113867025022665557541336, 8119948945690964843523443417278208, 13122634318814831818506128934839504, 21242583264505796662029572352117712, 34365217583320628480535701286957216, 55607800847826425142565273639074928, 89973018431147053623000974926032144, 145680319178873278965066148007107472, 235653337609020332588067122933139616, 381333656787893611553133270940247088, 616986994396913944141200393873386704, 998320650184807555694333664813633792, 1614302642584727491835349053683533840, 2632623292769535046929682718497167632, 4246925935354262538765031772180701472, 6879549228123797585694714490677860104, 11126425143408033614497406212818591456, 18005974371531831100192820703596451560, 29132499514939864714690226916415043016, 47138473886471695814883047620011494576, 76270973301411560529573274536426537592, 123709147187183356344156322856237832368, 199980120488594916873729597392664370960, 323689267675778273217885920248902203328, 523669388164373190091615517641566574288, 847358655840151463309501437890468777616, 1373021043001525659403111953531038350304, 2220379698841677122712613391421507127920, ', 'refusal': None}, 'logprobs': None, 'finish_reason': 'length'}\n",
      "\n"
     ]
    }
   ],
   "source": [
    "filename = example_from_openai_file_name_base\n",
    "#filename = example_with_errors_from_openai_file_name_base\n",
    "\n",
    "alice_round_0_generations_oai = []\n",
    "\n",
    "response_dict = defaultdict(list)\n",
    "with open(filename, \"r\") as in_fs:\n",
    "    for i, line in enumerate(in_fs):\n",
    "        response = json.loads(line)\n",
    "        inner_input = response[0][\"messages\"][1][\"content\"]\n",
    "        for j, inner_output in enumerate(response[1][\"choices\"]):\n",
    "            finish_reason = inner_output[\"finish_reason\"]\n",
    "            if finish_reason == \"stop\":\n",
    "                generate_valid = True\n",
    "            else:\n",
    "                print(f\"{i}, {j} {inner_input}, {finish_reason}\")\n",
    "                print(inner_output)\n",
    "                print(\"\")\n",
    "                continue\n",
    "            response_dict[inner_input].append(inner_output)\n",
    "\n",
    "# reorder\n",
    "new_response_dict = OrderedDict()\n",
    "with open(example_to_openai_file_name_base, \"r\") as in_fs:\n",
    "    for line in in_fs:\n",
    "        original = json.loads(line)\n",
    "        inner_input = original[\"messages\"][1][\"content\"]\n",
    "        new_response_dict[inner_input] = response_dict[inner_input]\n",
    "alice_round_0_generations_oai = list(new_response_dict.items())"
   ]
  },
  {
   "cell_type": "code",
   "execution_count": 14,
   "id": "2d239a6f-716f-44fc-8d67-337387072d75",
   "metadata": {},
   "outputs": [
    {
     "data": {
      "text/plain": [
       "'Difficulty level: 10\\nEntry point function: remove_Occ\\n\\n```python\\ndef remove_Occ(s,ch): \\r\\n    for i in range(len(s)): \\r\\n        if (s[i] == ch): \\r\\n            s = s[0 : i] + s[i + 1:] \\r\\n            break\\r\\n    for i in range(len(s) - 1,-1,-1):  \\r\\n        if (s[i] == ch): \\r\\n            s = s[0 : i] + s[i + 1:] \\r\\n            break\\r\\n    return s \\n```'"
      ]
     },
     "execution_count": 14,
     "metadata": {},
     "output_type": "execute_result"
    }
   ],
   "source": [
    "alice_round_0_generations_oai[0][0]"
   ]
  },
  {
   "cell_type": "code",
   "execution_count": 15,
   "id": "020d2396-80ba-4433-90ff-c0cc17db7680",
   "metadata": {},
   "outputs": [],
   "source": [
    "# Extract generated program and diverging examples\n",
    "\n",
    "#python_code_block_pattern = r\"```python(.*?)```\"\n",
    "markdown = mistune.create_markdown(renderer='ast')\n",
    "\n",
    "lodaded_responses = dict(alice_round_0_generations_oai)\n",
    "for i, example in enumerate(data):\n",
    "    if len(example[\"test_correct_programs\"]) > 0:\n",
    "        # already done, skip\n",
    "        continue\n",
    "    user_message = user_message_fn_0(example)\n",
    "    entry_v = lodaded_responses.get(user_message, None)\n",
    "    if entry_v is None:\n",
    "        continue\n",
    "    example[\"user_message\"] = user_message\n",
    "    example[\"new_raw_programs_and_examples\"] = []\n",
    "    programs_and_examples_set = set()\n",
    "    for k, response in enumerate(entry_v):\n",
    "        content = response[\"message\"][\"content\"]\n",
    "        try:\n",
    "            parsed_markdown = markdown(content)\n",
    "            # Find \"Generated program\" and \"Diverging input example\"\n",
    "            gp_i = [i for i, e in enumerate(parsed_markdown)  if (e['type'] == \"heading\") and (e[\"children\"][0][\"raw\"] == \"Generated program\")][0]\n",
    "            die_i = [i for i, e in enumerate(parsed_markdown) if (e['type'] == \"heading\") and (e[\"children\"][0][\"raw\"] == \"Diverging input example\")][0]\n",
    "            # Extract code blocks\n",
    "            program_code_block = [e[\"raw\"] for e in parsed_markdown[gp_i:die_i] if (e['type'] == \"block_code\") and (\"attrs\" in e) and (e[\"attrs\"][\"info\"]==\"python\")][0]\n",
    "            die_code_block     = [e[\"raw\"] for e in parsed_markdown[die_i:]     if (e['type'] == \"block_code\") and (\"attrs\" in e) and (e[\"attrs\"][\"info\"]==\"python\")][0]\n",
    "        except:\n",
    "            print(f\"Error: {i}, {k} invalid markdown\")\n",
    "            #print(content)\n",
    "            continue\n",
    "        program_and_example_key = ((\"program\", program_code_block), (\"diverging_input_example\", die_code_block))\n",
    "        if program_and_example_key not in programs_and_examples_set:\n",
    "            programs_and_examples_set.add(program_and_example_key)\n",
    "            example[\"new_raw_programs_and_examples\"].append({\"program\": program_code_block,\n",
    "                                                             \"diverging_input_example\": die_code_block,\n",
    "                                                             \"id\": k,\n",
    "                                                             \"llm_response\": content})"
   ]
  },
  {
   "cell_type": "code",
   "execution_count": 159,
   "id": "0ee191c2-0422-4568-adb4-bb395722233a",
   "metadata": {},
   "outputs": [],
   "source": [
    "# Alternatively, load precomputed\n",
    "\n",
    "in_filename = f\"./alice_train_round_{round-1}.jsonl\"\n",
    "\n",
    "data = list()\n",
    "with open(in_filename, \"r\") as in_fs:\n",
    "    for line in in_fs:\n",
    "        example = json.loads(line.strip())\n",
    "        new_example = defaultdict(list)\n",
    "        new_example.update(example)\n",
    "        new_example[\"bad_programs\"] = []\n",
    "        data.append(new_example)"
   ]
  },
  {
   "cell_type": "code",
   "execution_count": 16,
   "id": "00bd7981-3858-480e-97b0-7582f9747808",
   "metadata": {},
   "outputs": [
    {
     "data": {
      "text/plain": [
       "dict_keys(['task_id', 'text', 'code', 'test_list', 'test_setup_code', 'challenge_test_list', 'function_name', 'user_message', 'test_correct_programs', 'new_raw_programs_and_examples'])"
      ]
     },
     "execution_count": 16,
     "metadata": {},
     "output_type": "execute_result"
    }
   ],
   "source": [
    "data[0].keys()"
   ]
  },
  {
   "cell_type": "code",
   "execution_count": 17,
   "id": "c070b0aa-085c-4fc1-9871-1b76c272748a",
   "metadata": {},
   "outputs": [
    {
     "data": {
      "text/plain": [
       "False"
      ]
     },
     "execution_count": 17,
     "metadata": {},
     "output_type": "execute_result"
    }
   ],
   "source": [
    "data[0][\"raw_programs_and_examples\"] == data[0][\"new_raw_programs_and_examples\"]"
   ]
  },
  {
   "cell_type": "code",
   "execution_count": 18,
   "id": "18fb851a-9687-4124-bb3c-6ad856a47e44",
   "metadata": {},
   "outputs": [
    {
     "name": "stdout",
     "output_type": "stream",
     "text": [
      "Error in program 18, 1\n",
      "closing parenthesis '}' does not match opening parenthesis '[' (<unknown>, line 14)\n",
      "Error in program 134, 4\n",
      "closing parenthesis '}' does not match opening parenthesis '[' (<unknown>, line 8)\n",
      "Error in program 177, 0\n",
      "invalid syntax (<unknown>, line 5)\n",
      "Error in program 213, 3\n",
      "invalid syntax (<unknown>, line 8)\n",
      "Error in program 323, 0\n",
      "invalid syntax (<unknown>, line 4)\n",
      "Error in program 365, 1\n",
      "cannot use assignment expressions with subscript (<unknown>, line 3)\n",
      "Error in program 455, 3\n",
      "invalid syntax (<unknown>, line 4)\n"
     ]
    }
   ],
   "source": [
    "# Parse and unparse\n",
    "\n",
    "for i, example in enumerate(data):\n",
    "    if len(example[\"test_correct_programs\"]) > 0:\n",
    "        # already done, skip\n",
    "        continue\n",
    "    example[\"new_programs_and_examples\"] = []\n",
    "    for k, program_and_example in enumerate(example[\"new_raw_programs_and_examples\"]):\n",
    "        try:\n",
    "            program, die = program_and_example[\"program\"], program_and_example[\"diverging_input_example\"]\n",
    "            parsed_program = ast.parse(program, type_comments=True)\n",
    "            parsed_die = ast.parse(die, type_comments=True)\n",
    "            example[\"new_programs_and_examples\"].append({\"program\": ast.unparse(parsed_program), \n",
    "                                                         \"diverging_input_example\": ast.unparse(parsed_die),\n",
    "                                                         \"id\": program_and_example[\"id\"],\n",
    "                                                         \"llm_response\": program_and_example[\"llm_response\"]})\n",
    "            \n",
    "        except SyntaxError as e:\n",
    "            print(f\"Error in program {i}, {k}\")\n",
    "            print(e)\n",
    "            error_message = f\"{e.text}\\n{str(e)}\"\n",
    "            example[\"bad_programs\"].append({\"program\": program, \n",
    "                                            \"diverging_input_example\": die, \n",
    "                                            \"error\": error_message, \n",
    "                                            \"error_type\": \"ast\", \n",
    "                                            \"id\": program_and_example[\"id\"],\n",
    "                                            \"llm_response\": program_and_example[\"llm_response\"]})"
   ]
  },
  {
   "cell_type": "code",
   "execution_count": 19,
   "id": "284236c2-da4a-428a-ba70-9891c9a898a3",
   "metadata": {},
   "outputs": [],
   "source": [
    "tmp_program_dir = \"./tmp_programs_eval/\""
   ]
  },
  {
   "cell_type": "code",
   "execution_count": 20,
   "id": "5bd73729-2a7a-4178-9557-bdf8b9e9ee8b",
   "metadata": {},
   "outputs": [],
   "source": [
    "def generate_test_harness(example, k, base_module_name, test_entrypoint_name=\"test_main\", timeout_min_seconds=2.5, timeout_max_seconds=5.0):\n",
    "    function_name = example[\"function_name\"]\n",
    "    die = example[\"new_programs_and_examples\"][k][\"diverging_input_example\"]\n",
    "    original_module_name = base_module_name+\"_a\"\n",
    "    alt_module_name = base_module_name+\"_b\"\n",
    "    timeout_seconds = random.uniform(timeout_min_seconds, timeout_max_seconds)\n",
    "    rv = f\"\"\"\n",
    "import multiprocessing\n",
    "import pickle\n",
    "\n",
    "def run_function(func, result_queue):\n",
    "    try:\n",
    "        rv = func()\n",
    "        _ = pickle.dumps(rv)\n",
    "        result_queue.put((\"returned\", rv))\n",
    "    except BaseException as e:\n",
    "        result_queue.put((\"exception\", e))\n",
    "\n",
    "def run_with_timeout(func, timeout):\n",
    "    result_queue = multiprocessing.Queue()\n",
    "    process = multiprocessing.Process(target=run_function, args=(func, result_queue))\n",
    "    process.start()\n",
    "    process.join(timeout)\n",
    "    if process.is_alive():\n",
    "        process.terminate()\n",
    "        return (\"timeout\", None)\n",
    "    else:\n",
    "        return result_queue.get()\n",
    "\n",
    "import {original_module_name}\n",
    "import {alt_module_name}\n",
    "\n",
    "def main():\n",
    "    timeout = {timeout_seconds}\n",
    "    rv_a = run_with_timeout({original_module_name}.{test_entrypoint_name}, timeout)\n",
    "    rv_b = run_with_timeout({alt_module_name}.{test_entrypoint_name}, timeout)\n",
    "    assert(rv_a != rv_b)\n",
    "\n",
    "if __name__ == \"__main__\":\n",
    "    main()\n",
    "\n",
    "    \"\"\"\n",
    "    return rv.strip()\n",
    "\n",
    "def generate_test_module(program, function_name, diverging_input_example, test_entrypoint_name=\"test_main\"):\n",
    "    #diverging_input_example_str = f\"{[k+'='+v for k, v in diverging_input_example.items()]}\"\n",
    "    rv = f\"\"\"\n",
    "{program}\n",
    "\n",
    "def {test_entrypoint_name}():\n",
    "  return {function_name}(**{diverging_input_example})\n",
    "\"\"\"\n",
    "    return rv.strip()"
   ]
  },
  {
   "cell_type": "code",
   "execution_count": 21,
   "id": "85772f3d-dbc8-4cbe-bb74-8656605fe4bd",
   "metadata": {},
   "outputs": [
    {
     "name": "stdout",
     "output_type": "stream",
     "text": [
      "import multiprocessing\n",
      "import pickle\n",
      "\n",
      "def run_function(func, result_queue):\n",
      "    try:\n",
      "        rv = func()\n",
      "        _ = pickle.dumps(rv)\n",
      "        result_queue.put((\"returned\", rv))\n",
      "    except BaseException as e:\n",
      "        result_queue.put((\"exception\", e))\n",
      "\n",
      "def run_with_timeout(func, timeout):\n",
      "    result_queue = multiprocessing.Queue()\n",
      "    process = multiprocessing.Process(target=run_function, args=(func, result_queue))\n",
      "    process.start()\n",
      "    process.join(timeout)\n",
      "    if process.is_alive():\n",
      "        process.terminate()\n",
      "        return (\"timeout\", None)\n",
      "    else:\n",
      "        return result_queue.get()\n",
      "\n",
      "import module_name_a\n",
      "import module_name_b\n",
      "\n",
      "def main():\n",
      "    timeout = 4.623340802769355\n",
      "    rv_a = run_with_timeout(module_name_a.test_main, timeout)\n",
      "    rv_b = run_with_timeout(module_name_b.test_main, timeout)\n",
      "    assert(rv_a != rv_b)\n",
      "\n",
      "if __name__ == \"__main__\":\n",
      "    main()\n",
      "\n",
      "def check_Equality(str):\n",
      "  if (str[0] == str[-1]):  \n",
      "    return (\"Equal\") \n",
      "  else:  \n",
      "    return (\"Not Equal\") \n",
      "\n",
      "def test_main():\n",
      "  return check_Equality(**{'str': 'a'})\n",
      "\n",
      "def check_Equality(str):\n",
      "    if len(str) == 0:\n",
      "        return 'Equal'\n",
      "    elif len(str) == 1:\n",
      "        return 'Equal'\n",
      "    elif str[0] in 'aeiou' and str[-1] not in 'aeiou':\n",
      "        return 'Not Equal'\n",
      "    elif str[0] == str[-1]:\n",
      "        return 'Equal'\n",
      "    else:\n",
      "        return 'Not Equal'\n",
      "\n",
      "def test_main():\n",
      "  return check_Equality(**{'str': 'a'})\n"
     ]
    }
   ],
   "source": [
    "print(generate_test_harness(data[42], 0, \"module_name\"))\n",
    "print(\"\")\n",
    "print(generate_test_module(data[42][\"code\"], \n",
    "                           data[42][\"function_name\"], \n",
    "                           data[42][\"new_programs_and_examples\"][0][\"diverging_input_example\"]))\n",
    "print(\"\")\n",
    "print(generate_test_module(data[42][\"new_programs_and_examples\"][0][\"program\"], \n",
    "                           data[42][\"function_name\"], \n",
    "                           data[42][\"new_programs_and_examples\"][0][\"diverging_input_example\"]))"
   ]
  },
  {
   "cell_type": "code",
   "execution_count": 22,
   "id": "1a70c2d0-56a3-4cbb-a6bb-28bab282025c",
   "metadata": {},
   "outputs": [
    {
     "name": "stderr",
     "output_type": "stream",
     "text": [
      "100%|█████████████████████████████████████████████████████████████████████████████████████████████████████████████████████████████████████████████████████████████████████| 500/500 [10:17<00:00,  1.24s/it]"
     ]
    },
    {
     "name": "stdout",
     "output_type": "stream",
     "text": [
      "Bad examples: 1/500\n",
      "Test failures/checks: 931/4739\n"
     ]
    },
    {
     "name": "stderr",
     "output_type": "stream",
     "text": [
      "\n"
     ]
    }
   ],
   "source": [
    "# Full check\n",
    "\n",
    "num_bad = 0\n",
    "num_test_checks = 0\n",
    "num_type_failures, num_test_failures = 0, 0\n",
    "for i in tqdm(range(len(data))):\n",
    "    example = data[i]\n",
    "    if len(example[\"test_correct_programs\"]) > 0:\n",
    "        # already done, skip\n",
    "        continue\n",
    "    if len(example[\"new_programs_and_examples\"]) == 0:\n",
    "        num_bad += 1\n",
    "        continue\n",
    "    example[\"raw_programs_and_examples\"].extend(example[\"new_raw_programs_and_examples\"])\n",
    "    example[\"programs_and_examples\"].extend(example[\"new_programs_and_examples\"])\n",
    "    for k, program_and_example in enumerate(example[\"new_programs_and_examples\"]):\n",
    "        module_name_base = \"tmp_\"+uuid.uuid4().hex+f\"_{k}_x\"\n",
    "        original_module_name = module_name_base+\"_a\"\n",
    "        alt_module_name = module_name_base+\"_b\"\n",
    "        filename_original = tmp_program_dir+original_module_name+\".py\"\n",
    "        filename_alt = tmp_program_dir+alt_module_name+\".py\"\n",
    "        filename_harness = tmp_program_dir+module_name_base+\"_harness.py\"\n",
    "        test_entrypoint_name = \"test_\"+uuid.uuid4().hex+\"_main\"\n",
    "        with open(filename_original, \"w\") as out_fs:\n",
    "            original_program = generate_test_module(example[\"code\"], \n",
    "                                                    example[\"function_name\"], \n",
    "                                                    program_and_example[\"diverging_input_example\"],\n",
    "                                                    test_entrypoint_name)\n",
    "            print(original_program, file=out_fs)\n",
    "        with open(filename_alt, \"w\") as out_fs:\n",
    "            alt_program = generate_test_module(program_and_example[\"program\"], \n",
    "                                               example[\"function_name\"], \n",
    "                                               program_and_example[\"diverging_input_example\"],\n",
    "                                               test_entrypoint_name)\n",
    "            print(alt_program, file=out_fs)\n",
    "        with open(filename_harness, \"w\") as out_fs:\n",
    "            test_harness = generate_test_harness(example, k, module_name_base, test_entrypoint_name=test_entrypoint_name)\n",
    "            print(test_harness, file=out_fs)\n",
    "        # execute tests\n",
    "        cmd = f\"python -B {filename_harness} > {filename_harness}.out 2>&1\"\n",
    "        cmd_rv = os.system(cmd)\n",
    "        num_test_checks += 1\n",
    "        if cmd_rv != 0:\n",
    "            with open(f\"{filename_harness}.out\", \"r\") as err_fs:\n",
    "                program_output = err_fs.read()\n",
    "                example[\"bad_programs\"].append({\"program\": program_and_example[\"program\"],\n",
    "                                                \"diverging_input_example\": program_and_example[\"diverging_input_example\"],\n",
    "                                                \"error\": program_output.strip(), \n",
    "                                                \"error_type\": \"test\",\n",
    "                                                \"id\": program_and_example[\"id\"],\n",
    "                                                \"llm_response\": program_and_example[\"llm_response\"]})\n",
    "                num_test_failures += 1\n",
    "        else:\n",
    "            example[\"test_correct_programs\"].append(program_and_example)\n",
    "        os.remove(f\"{filename_harness}.out\")\n",
    "        os.remove(filename_harness)\n",
    "        os.remove(filename_alt)\n",
    "        os.remove(filename_original)\n",
    "    if len(example[\"test_correct_programs\"]) == 0:\n",
    "        num_bad += 1\n",
    "print(f\"Bad examples: {num_bad}/{len(data)}\")\n",
    "print(f\"Test failures/checks: {num_test_failures}/{num_test_checks}\")"
   ]
  },
  {
   "cell_type": "code",
   "execution_count": 23,
   "id": "e5dd0ff8-7d7b-49bf-9652-b86a8682d64a",
   "metadata": {},
   "outputs": [],
   "source": [
    "# Round 0 gpt-4o-mini-2024-07-18, temperature = 1.0, top_p = 0.7, n = 10, Bad examples: 1/374, Test failures/checks: 765/3692\n",
    "# Round 0 (alt) gpt-4o-mini-2024-07-18, temperature = 1.0, top_p = 0.7, n = 10, Bad examples: 2/374, Test failures/checks: 734/3697\n",
    "# Round 1 run 0 ft:gpt-4o-mini-2024-07-18:uedin:semantic-inequiv-alice-run-0-round-0:AHFhDD6I, temperature = 1.0, top_p = 0.7, n = 10, Bad examples: 1/374, Test failures/checks: 699/3619\n",
    "# Round 1 run 1 ft:gpt-4o-mini-2024-07-18:uedin:semantic-inequiv-alice-run-1-round-0:AIf2wVxd, temperature = 1.0, top_p = 0.7, n = 10, Bad examples: 1/374, Test failures/checks: 693/3596\n",
    "# Round 1 run 2 ft:gpt-4o-mini-2024-07-18:uedin:semantic-inequiv-alice-run-2-round-0:AJ3BKMSO, temperature = 1.0, top_p = 0.7, n = 10, Bad examples: 1/374, Test failures/checks: 696/3588\n",
    "# Round 2 run 0 ft:gpt-4o-mini-2024-07-18:uedin:semantic-inequiv-alice-run-0-round-1:AKsO2x9L, temperature = 1.0, top_p = 0.7, n = 10, Bad examples: 0/374, Test failures/checks: 500/2975\n",
    "# Round 3 run 0 ft:gpt-4o-mini-2024-07-18:uedin:semantic-inequiv-alice-run-0-round-2:AKxe9TmB, temperature = 1.0, top_p = 0.7, n = 10, Bad examples: 0/374, Test failures/checks: 363/2301\n",
    "# Round 4 run 0 ft:gpt-4o-mini-2024-07-18:uedin:semantic-inequiv-alice-run-0-round-3:Adfdi05r, temperature = 1.0, top_p = 0.7, n = 10, Bad examples: 1/374, Test failures/checks: 538/3219\n",
    "# Round 5 run 0 ft:gpt-4o-mini-2024-07-18:uedin:semantic-inequiv-alice-run-0-round-4:AfXtDlh5, temperature = 1.0, top_p = 0.7, n = 10, Bad examples: 2/374, Test failures/checks: 548/3271\n",
    "# Round 6 run 0 ft:gpt-4o-2024-08-06:uedin:semantic-inequiv-alice-run-0-round-5-dpo:Aq5l34VS, temperature = 1.0, top_p = 0.7, n = 10, Bad examples: 30/374, Test failures/checks: 1494/3078\n",
    "# Round 6 run 1 ft:gpt-4o-mini-2024-07-18:uedin:semantic-inequiv-alice-run-0-round-5:Aphr2tfR, temperature = 1.0, top_p = 0.7, n = 10, Bad examples: 1/374, Test failures/checks: 479/3052\n",
    "# Test set Round 6 run 1 ft:gpt-4o-mini-2024-07-18:uedin:semantic-inequiv-alice-run-0-round-5:Aphr2tfR, temperature = 1.0, top_p = 0.7, n = 10, Bad examples: 1/500, Test failures/checks: 931/4739"
   ]
  },
  {
   "cell_type": "code",
   "execution_count": 25,
   "id": "ba854f00-43a8-4824-b4a2-2bd468084344",
   "metadata": {},
   "outputs": [
    {
     "data": {
      "text/plain": [
       "0.998"
      ]
     },
     "execution_count": 25,
     "metadata": {},
     "output_type": "execute_result"
    }
   ],
   "source": [
    "(500-1)/500.0"
   ]
  },
  {
   "cell_type": "code",
   "execution_count": 26,
   "id": "1a9c42ef-4bb7-4612-b742-f285ae11810b",
   "metadata": {},
   "outputs": [
    {
     "data": {
      "text/plain": [
       "3808"
      ]
     },
     "execution_count": 26,
     "metadata": {},
     "output_type": "execute_result"
    }
   ],
   "source": [
    "4739-931"
   ]
  },
  {
   "cell_type": "code",
   "execution_count": 27,
   "id": "2e8759b3-edac-4683-86d5-645270f9085e",
   "metadata": {},
   "outputs": [
    {
     "data": {
      "text/plain": [
       "[214]"
      ]
     },
     "execution_count": 27,
     "metadata": {},
     "output_type": "execute_result"
    }
   ],
   "source": [
    "[i for i, example in enumerate(data) if len(example[\"test_correct_programs\"]) == 0]"
   ]
  },
  {
   "cell_type": "code",
   "execution_count": 28,
   "id": "74a29e2d-8e8a-4290-8eee-464cbee1468e",
   "metadata": {},
   "outputs": [],
   "source": [
    "train_or_test_str = \"_train\" if not is_test else \"_test\""
   ]
  },
  {
   "cell_type": "code",
   "execution_count": 29,
   "id": "cfa48a5a-2367-494c-baf9-6d2049e13b48",
   "metadata": {},
   "outputs": [],
   "source": [
    "out_filename = f\"./alice{train_or_test_str}_round_{round_n}_{run_n}.jsonl\""
   ]
  },
  {
   "cell_type": "code",
   "execution_count": 30,
   "id": "5bf5b2c1-34f4-4860-a6cd-26908a33d835",
   "metadata": {},
   "outputs": [
    {
     "name": "stdout",
     "output_type": "stream",
     "text": [
      "./alice_test_round_6_1.jsonl\n"
     ]
    }
   ],
   "source": [
    "print(out_filename)"
   ]
  },
  {
   "cell_type": "code",
   "execution_count": 31,
   "id": "2859958e-39e1-4d81-8ea0-b1027c3afd79",
   "metadata": {},
   "outputs": [],
   "source": [
    "with open(out_filename, \"w\") as out_fs:\n",
    "    for example in data:\n",
    "        print(json.dumps(example), file=out_fs)"
   ]
  },
  {
   "cell_type": "code",
   "execution_count": null,
   "id": "89cf41b6-748d-4074-bad0-5125b7d26f30",
   "metadata": {},
   "outputs": [],
   "source": []
  }
 ],
 "metadata": {
  "kernelspec": {
   "display_name": "Python 3 (ipykernel)",
   "language": "python",
   "name": "python3"
  },
  "language_info": {
   "codemirror_mode": {
    "name": "ipython",
    "version": 3
   },
   "file_extension": ".py",
   "mimetype": "text/x-python",
   "name": "python",
   "nbconvert_exporter": "python",
   "pygments_lexer": "ipython3",
   "version": "3.10.15"
  }
 },
 "nbformat": 4,
 "nbformat_minor": 5
}
