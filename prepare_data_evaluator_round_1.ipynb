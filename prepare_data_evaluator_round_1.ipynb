{
 "cells": [
  {
   "cell_type": "code",
   "execution_count": 1,
   "id": "54aaad68-ca1e-453c-9a82-07d18a4a0578",
   "metadata": {},
   "outputs": [],
   "source": [
    "import sys, os, random\n",
    "import csv\n",
    "import json\n",
    "import numpy as np\n",
    "import openai\n",
    "from datasets import load_dataset\n",
    "from collections import defaultdict, OrderedDict\n",
    "import shutil\n",
    "import ast, re, copy\n",
    "import uuid\n",
    "from tqdm import tqdm\n",
    "from mypy import api as mypyapi\n",
    "import subprocess\n",
    "import mistune"
   ]
  },
  {
   "cell_type": "code",
   "execution_count": 112,
   "id": "a77b0970-74ff-4897-97aa-2351eaa02446",
   "metadata": {},
   "outputs": [],
   "source": [
    "#temperature, top_p = 0.1, 1.0\n",
    "temperature, top_p = 1.0, 0.7\n",
    "#model = \"gpt-4o-mini-2024-07-18\"\n",
    "model = \"ft:gpt-4o-mini-2024-07-18:uedin:semantic-inequiv-bob-run-0-round-6-generation-0:AyS2gJFd\"\n",
    "max_tokens = 2048\n",
    "n = 10"
   ]
  },
  {
   "cell_type": "code",
   "execution_count": 113,
   "id": "ffe37843-28f7-48a3-a05d-e3366449bc8c",
   "metadata": {},
   "outputs": [],
   "source": [
    "#dataset_full = load_dataset(\"mbpp\")"
   ]
  },
  {
   "cell_type": "code",
   "execution_count": 114,
   "id": "c1271be5-a5b6-43ac-9c42-0ae902f76ed1",
   "metadata": {},
   "outputs": [],
   "source": [
    "#round_n = 0\n",
    "round_n = 6\n",
    "#run_n = 0\n",
    "run_n = 1\n",
    "#is_test = False\n",
    "is_test = True"
   ]
  },
  {
   "cell_type": "code",
   "execution_count": 115,
   "id": "1af14c7d-ce8b-45b8-8587-b091ab5af24e",
   "metadata": {},
   "outputs": [],
   "source": [
    "train_or_test_str = \"_train\" if not is_test else \"_test\""
   ]
  },
  {
   "cell_type": "code",
   "execution_count": 116,
   "id": "aec3eee2-979a-4e72-8aef-f8573550b121",
   "metadata": {},
   "outputs": [],
   "source": [
    "generations_filename = f\"./alice{train_or_test_str}_round_{round_n}_{run_n}.jsonl\""
   ]
  },
  {
   "cell_type": "code",
   "execution_count": 117,
   "id": "12135473-427d-4a6b-881d-b83c6623a6cf",
   "metadata": {},
   "outputs": [],
   "source": [
    "# load generations\n",
    "\n",
    "data = list()\n",
    "with open(generations_filename, \"r\") as in_fs:\n",
    "    for line in in_fs:\n",
    "        example = json.loads(line.strip())\n",
    "        new_example = defaultdict(list)\n",
    "        new_example.update(example)\n",
    "        new_example[\"bad_evaluations\"] = []\n",
    "        new_example[\"test_correct_programs\"] = []\n",
    "        for program in example[\"test_correct_programs\"]:\n",
    "            new_program = defaultdict(list)\n",
    "            new_program.update(program)\n",
    "            new_example[\"test_correct_programs\"].append(new_program)\n",
    "        data.append(new_example)"
   ]
  },
  {
   "cell_type": "code",
   "execution_count": 118,
   "id": "465483ee-1137-4394-991b-109ffb2975c3",
   "metadata": {},
   "outputs": [],
   "source": [
    "system_message = \\\n",
    "\"\"\"You are an expert computer scientist. Your task is to take two Python 3.10 programs and determine whether or not they are semantically equivalent. Two programs are semantically equivalent if there exists no diverging input examples such that the original program and your program either produce different outputs or exceptions, or one halts and the other one does not halt. If you determine that the two programs are not semantically equivalent, you also need to produce a diverging input example. Start by carefully analyzing the two programs and think of how an example would propagate through them from the input to the return value, considering whether it could elicit a different behaviors. \n",
    "Think step by step before writing your program. Use the following Markdown format, making sure that the following sections are delimited by level 1 headings, since they will have to be automatically parsed:\n",
    "# Analysis\n",
    "step by step analysis. This section can include sub-headings and code blocks\n",
    "# Equivalent?\n",
    "Yes or No\n",
    "# Diverging input example\n",
    "your diverging input example as a Python dictionary inside a Python code block, or nothing if the two programs are equivalent.\n",
    "For instance, if the entry point function takes two parameters a and b and your diverging example is a=\"foo\" and b=42, write:\n",
    "```python\n",
    "{\n",
    "  \"a\": \"foo\",\n",
    "  \"b\": 42\n",
    "}\n",
    "```\n",
    "do not write the expected outputs\n",
    "\"\"\"\n",
    "\n",
    "def user_message_fn_0(example, k):\n",
    "    return f\"\"\"Entry point function: {example[\"function_name\"]}\n",
    "\n",
    "Program 1:\n",
    "```python\n",
    "{example[\"code\"]}\n",
    "```\n",
    "\n",
    "Program 2:\n",
    "```python\n",
    "{example[\"test_correct_programs\"][k][\"program\"]}\n",
    "```\"\"\""
   ]
  },
  {
   "cell_type": "code",
   "execution_count": 119,
   "id": "529720ec-7943-4bf0-a98e-11ae765b2096",
   "metadata": {},
   "outputs": [],
   "source": [
    "def example_to_openai_api_format(example, k):\n",
    "    messages = [{\"role\": \"system\", \"content\": system_message}, \n",
    "                {\"role\": \"user\", \"content\": user_message_fn_0(example, k)}]\n",
    "    rv = {\n",
    "        \"model\": model,\n",
    "        \"messages\": messages,\n",
    "        \"temperature\": temperature,\n",
    "        \"top_p\": top_p,\n",
    "        \"max_tokens\": max_tokens,\n",
    "        \"n\": n\n",
    "#        \"response_format\": { \"type\": \"json_object\" }\n",
    "    }\n",
    "    return json.dumps(rv)"
   ]
  },
  {
   "cell_type": "code",
   "execution_count": 120,
   "id": "82db4105-065d-4fba-8d16-c70b89997675",
   "metadata": {},
   "outputs": [],
   "source": [
    "#generation_n = 0\n",
    "generation_n = 1\n",
    "round_n = 0\n",
    "run_n = 0"
   ]
  },
  {
   "cell_type": "code",
   "execution_count": 121,
   "id": "43e9b5f2-15e5-4487-bb69-cb5544c44ebb",
   "metadata": {},
   "outputs": [],
   "source": [
    "emptytrain_or_test_str = \"\" if not is_test else \"_test\"\n",
    "generation_str = \"\" if generation_n == 0 else f\"_generation_{generation_n}\""
   ]
  },
  {
   "cell_type": "code",
   "execution_count": 122,
   "id": "39951bea-13e3-4f97-8b88-1f8fb932552e",
   "metadata": {},
   "outputs": [],
   "source": [
    "example_to_openai_file_name_base = f\"./evaluations{emptytrain_or_test_str}{generation_str}_round_{round_n}_run_{run_n}_to_openai.jsonl\"\n",
    "example_from_openai_file_name_base = f\"./evaluations{emptytrain_or_test_str}{generation_str}_round_{round_n}_run_{run_n}_from_openai.jsonl\""
   ]
  },
  {
   "cell_type": "code",
   "execution_count": 123,
   "id": "5f0c2582-a266-41b0-81a4-b1be3cdca682",
   "metadata": {},
   "outputs": [
    {
     "data": {
      "text/plain": [
       "'./evaluations_test_generation_1_round_0_run_0_from_openai.jsonl'"
      ]
     },
     "execution_count": 123,
     "metadata": {},
     "output_type": "execute_result"
    }
   ],
   "source": [
    "example_from_openai_file_name_base"
   ]
  },
  {
   "cell_type": "code",
   "execution_count": null,
   "id": "b8e55fb4-6646-4520-b5fb-0b0c114e2174",
   "metadata": {},
   "outputs": [],
   "source": []
  },
  {
   "cell_type": "code",
   "execution_count": 124,
   "id": "7a027bfe-223f-4c6c-b51f-07bcadd1deac",
   "metadata": {},
   "outputs": [
    {
     "name": "stdout",
     "output_type": "stream",
     "text": [
      "Entry point function: remove_Occ\n",
      "\n",
      "Program 1:\n",
      "```python\n",
      "def remove_Occ(s,ch): \n",
      "    for i in range(len(s)): \n",
      "        if (s[i] == ch): \n",
      "            s = s[0 : i] + s[i + 1:] \n",
      "            break\n",
      "    for i in range(len(s) - 1,-1,-1):  \n",
      "        if (s[i] == ch): \n",
      "            s = s[0 : i] + s[i + 1:] \n",
      "            break\n",
      "    return s \n",
      "```\n",
      "\n",
      "Program 2:\n",
      "```python\n",
      "def remove_Occ(s, ch):\n",
      "    first_occurrence_removed = False\n",
      "    for i in range(len(s)):\n",
      "        if s[i] == ch:\n",
      "            s = s[0:i] + s[i + 1:]\n",
      "            first_occurrence_removed = True\n",
      "    if first_occurrence_removed:\n",
      "        s = s.rreplace(ch, '', 1)\n",
      "    return s\n",
      "```\n",
      "{\"model\": \"ft:gpt-4o-mini-2024-07-18:uedin:semantic-inequiv-bob-run-0-round-6-generation-0:AyS2gJFd\", \"messages\": [{\"role\": \"system\", \"content\": \"You are an expert computer scientist. Your task is to take two Python 3.10 programs and determine whether or not they are semantically equivalent. Two programs are semantically equivalent if there exists no diverging input examples such that the original program and your program either produce different outputs or exceptions, or one halts and the other one does not halt. If you determine that the two programs are not semantically equivalent, you also need to produce a diverging input example. Start by carefully analyzing the two programs and think of how an example would propagate through them from the input to the return value, considering whether it could elicit a different behaviors. \\nThink step by step before writing your program. Use the following Markdown format, making sure that the following sections are delimited by level 1 headings, since they will have to be automatically parsed:\\n# Analysis\\nstep by step analysis. This section can include sub-headings and code blocks\\n# Equivalent?\\nYes or No\\n# Diverging input example\\nyour diverging input example as a Python dictionary inside a Python code block, or nothing if the two programs are equivalent.\\nFor instance, if the entry point function takes two parameters a and b and your diverging example is a=\\\"foo\\\" and b=42, write:\\n```python\\n{\\n  \\\"a\\\": \\\"foo\\\",\\n  \\\"b\\\": 42\\n}\\n```\\ndo not write the expected outputs\\n\"}, {\"role\": \"user\", \"content\": \"Entry point function: remove_Occ\\n\\nProgram 1:\\n```python\\ndef remove_Occ(s,ch): \\r\\n    for i in range(len(s)): \\r\\n        if (s[i] == ch): \\r\\n            s = s[0 : i] + s[i + 1:] \\r\\n            break\\r\\n    for i in range(len(s) - 1,-1,-1):  \\r\\n        if (s[i] == ch): \\r\\n            s = s[0 : i] + s[i + 1:] \\r\\n            break\\r\\n    return s \\n```\\n\\nProgram 2:\\n```python\\ndef remove_Occ(s, ch):\\n    first_occurrence_removed = False\\n    for i in range(len(s)):\\n        if s[i] == ch:\\n            s = s[0:i] + s[i + 1:]\\n            first_occurrence_removed = True\\n    if first_occurrence_removed:\\n        s = s.rreplace(ch, '', 1)\\n    return s\\n```\"}], \"temperature\": 1.0, \"top_p\": 0.7, \"max_tokens\": 2048, \"n\": 10}\n"
     ]
    }
   ],
   "source": [
    "print(user_message_fn_0(data[0], 0))\n",
    "print(example_to_openai_api_format(data[0], 0))"
   ]
  },
  {
   "cell_type": "code",
   "execution_count": 125,
   "id": "71c85f1e-3616-456a-8ec8-9052d1e1af4d",
   "metadata": {},
   "outputs": [],
   "source": [
    "# Load previous evaluations\n",
    "\n",
    "previous_data = []\n",
    "already_evaluated_program_pairs = set()\n",
    "for prev_round_n in range(round_n):\n",
    "    if not (os.path.isfile(f\"./bob{train_or_test_str}{generation_str}_round_{prev_round_n}_{run_n}.jsonl\")):\n",
    "        continue\n",
    "    with open(f\"./bob{train_or_test_str}{generation_str}_round_{prev_round_n}_{run_n}.jsonl\") as in_fs:\n",
    "        for line in in_fs:\n",
    "            example = json.loads(line.strip())\n",
    "            previous_data.append(example)\n",
    "            for x in example.get(\"test_correct_programs\", []):\n",
    "                program_pair = (example[\"code\"], x[\"program\"])\n",
    "                already_evaluated_program_pairs.add(program_pair)"
   ]
  },
  {
   "cell_type": "code",
   "execution_count": 126,
   "id": "623388ac-601b-41fc-8ff0-3a7bcc5a774f",
   "metadata": {},
   "outputs": [
    {
     "name": "stdout",
     "output_type": "stream",
     "text": [
      "Skipped because already evaluated in previous round: 0\n"
     ]
    }
   ],
   "source": [
    "num_skipped_because_of_previous_eval = 0\n",
    "with open(example_to_openai_file_name_base, \"w\") as out_fs:\n",
    "    for example in data:\n",
    "        if len(example[\"test_correct_evaluations\"]) > 0:\n",
    "            # already done, skip\n",
    "            continue\n",
    "        code = example[\"code\"]\n",
    "        already_done_program_set = set()\n",
    "        for k in range(len(example[\"test_correct_programs\"])):\n",
    "            program = example[\"test_correct_programs\"][k][\"program\"]\n",
    "            if program not in already_done_program_set:\n",
    "                already_done_program_set.add(program)\n",
    "                if (code, program) not in already_evaluated_program_pairs:\n",
    "                    print(example_to_openai_api_format(example, k), file=out_fs)\n",
    "                else:\n",
    "                    num_skipped_because_of_previous_eval += 1\n",
    "print(f\"Skipped because already evaluated in previous round: {num_skipped_because_of_previous_eval}\")"
   ]
  },
  {
   "cell_type": "code",
   "execution_count": 127,
   "id": "e52caa1a-c56e-45a9-871a-ad904554239e",
   "metadata": {},
   "outputs": [
    {
     "name": "stdout",
     "output_type": "stream",
     "text": [
      "3301, 9 Entry point function: first_Digit\n",
      "\n",
      "Program 1:\n",
      "```python\n",
      "def first_Digit(n) :  \n",
      "    while n >= 10:  \n",
      "        n = n / 10; \n",
      "    return int(n) \n",
      "```\n",
      "\n",
      "Program 2:\n",
      "```python\n",
      "def first_Digit(n):\n",
      "    while n >= 10:\n",
      "        if n % 2 == 0:\n",
      "            n = n * 2\n",
      "        else:\n",
      "            n = n / 10\n",
      "    return int(n)\n",
      "```, length\n",
      "{'index': 9, 'message': {'role': 'assistant', 'content': \"# Analysis\\nLet's analyze the two programs step by step.\\n\\n## Program 1\\n```python\\ndef first_Digit(n) :  \\n    while n >= 10:  \\n        n = n / 10; \\n    return int(n) \\n```\\n- This function takes a number `n` and repeatedly divides it by 10 until `n` is less than 10.\\n- The final output is the integer part of `n`, which will be the first digit of the original number when `n` is treated as a positive integer.\\n\\n### Example Walkthrough\\n- For `n = 1234`: \\n  - 1234 / 10 = 123.4\\n  - 123.4 / 10 = 12.34\\n  - 12.34 / 10 = 1.234\\n  - The loop stops as 1.234 < 10.\\n  - The return value is `int(1.234)` which is `1`.\\n\\n## Program 2\\n```python\\ndef first_Digit(n):\\n    while n >= 10:\\n        if n % 2 == 0:\\n            n = n * 2\\n        else:\\n            n = n / 10\\n    return int(n)\\n```\\n- This function also takes a number `n` and has a loop that continues as long as `n` is greater than or equal to 10.\\n- Inside the loop, it checks if `n` is even or odd:\\n  - If `n` is even, it multiplies `n` by 2.\\n  - If `n` is odd, it divides `n` by 10.\\n- The final output is again the integer part of `n`.\\n\\n### Example Walkthrough\\n- For `n = 1234`:\\n  - 1234 is even, so `n = 1234 * 2 = 2468`.\\n  - 2468 is even, so `n = 2468 * 2 = 4936`.\\n  - 4936 is even, so `n = 4936 * 2 = 9872`.\\n  - 9872 is even, so `n = 9872 * 2 = 19744`.\\n  - 19744 is even, so `n = 19744 * 2 = 39488`.\\n  - 39488 is even, so `n = 39488 * 2 = 78976`.\\n  - 78976 is even, so `n = 78976 * 2 = 157952`.\\n  - 157952 is even, so `n = 157952 * 2 = 315904`.\\n  - 315904 is even, so `n = 315904 * 2 = 631808`.\\n  - 631808 is even, so `n = 631808 * 2 = 1263616`.\\n  - 1263616 is even, so `n = 1263616 * 2 = 2527232`.\\n  - 2527232 is even, so `n = 2527232 * 2 = 5054464`.\\n  - 5054464 is even, so `n = 5054464 * 2 = 10108928`.\\n  - 10108928 is even, so `n = 10108928 * 2 = 20217856`.\\n  - 20217856 is even, so `n = 20217856 * 2 = 40435712`.\\n  - 40435712 is even, so `n = 40435712 * 2 = 80871424`.\\n  - 80871424 is even, so `n = 80871424 * 2 = 161742848`.\\n  - 161742848 is even, so `n = 161742848 * 2 = 323485696`.\\n  - 323485696 is even, so `n = 323485696 * 2 = 646971392`.\\n  - 646971392 is even, so `n = 646971392 * 2 = 1293942784`.\\n  - 1293942784 is even, so `n = 1293942784 * 2 = 2587885568`.\\n  - 2587885568 is even, so `n = 2587885568 * 2 = 5175771136`.\\n  - 5175771136 is even, so `n = 5175771136 * 2 = 10351542272`.\\n  - 10351542272 is even, so `n = 10351542272 * 2 = 20703084544`.\\n  - 20703084544 is even, so `n = 20703084544 * 2 = 41406169088`.\\n  - 41406169088 is even, so `n = 41406169088 * 2 = 82812338176`.\\n  - 82812338176 is even, so `n = 82812338176 * 2 = 165624676352`.\\n  - 165624676352 is even, so `n = 165624676352 * 2 = 331249352704`.\\n  - 331249352704 is even, so `n = 331249352704 * 2 = 662498705408`.\\n  - 662498705408 is even, so `n = 662498705408 * 2 = 1324997410816`.\\n  - 1324997410816 is even, so `n = 1324997410816 * 2 = 2649994821632`.\\n  - 2649994821632 is even, so `n = 2649994821632 * 2 = 5299989643264`.\\n  - 5299989643264 is even, so `n = 5299989643264 * 2 = 10599979286528`.\\n  - 10599979286528 is even, so `n = 10599979286528 * 2 = 21199958573056`.\\n  - 21199958573056 is even, so `n = 21199958573056 * 2 = 42399917146112`.\\n  - 42399917146112 is even, so `n = 42399917146112 * 2 = 84799834292224`.\\n  - 84799834292224 is even, so `n = 84799834292224 * 2 = 169599668584448`.\\n  - 169599668584448 is even, so `n = 169599668584448 * 2 = 339199337168896`.\\n  - 339199337168896 is even, so `n = 339199337168896 * 2 = 678398674337792`.\\n  - 678398674337792 is even, so `n = 678398674337792 * 2 = 1356797348675584`.\\n  - 1356797348675584 is even, so `n = 1356797348675584 * 2 = 2713594697351168`.\\n  - 2713594697351168 is even, so `n = 2713594697351168 * 2 = 5427189394702336`.\\n  - 5427189394702336 is even, so `n = 5427189394702336 * 2 = 10854378789404672`.\\n  - 10854378789404672 is even, so `n = 10854378789404672 * 2 = 21708757578809344`.\\n  - 21708757578809344 is even, so `n = 21708757578809344 * 2 = 43417515157618688`.\\n  - 43417515157618688 is even, so `n = 43417515157618688 * 2 = 86835030315237376`.\\n  - 86835030315237376 is even, so `n = 86835030315237376 * 2 = 173670060630474752`.\\n  - 173670060630474752 is even, so `n = 173670060630474752 * 2 = 347340121260949504`.\\n  - 347340121260949504 is even, so `n = 347340121260949504 * 2 = 694680242521899008`.\\n  - 694680242521899008 is even, so `n = 694680242521899008 * 2 = 1389360485043798016`.\\n  - 1389360485043798016 is even, so `n = 1389360485043798016 * 2 = 2778720970087596032`.\\n  - 2778720970087596032 is even, so `n = 2778720970087596032 * 2 = 5557441940175192064`.\\n  - 5557441940175192064 is even, so `n = 5557441940175192064 * 2 = 11114883880350384128`.\\n  - 11114883880350384128 is even, so `n = 11114883880350384128 * 2 = 22229767760700768256`.\\n  - 22229767760700768256 is even, so `n = 22229767760700768256 * 2 = 44459535521401536512`.\\n  - 44459535521401536512 is even, so `n = 44459535521401536512 * 2 = 889\", 'refusal': None}, 'logprobs': None, 'finish_reason': 'length'}\n",
      "\n"
     ]
    }
   ],
   "source": [
    "filename = example_from_openai_file_name_base\n",
    "#filename = example_with_errors_from_openai_file_name_base\n",
    "\n",
    "bob_round_0_generations_oai = []\n",
    "\n",
    "response_dict = defaultdict(list)\n",
    "with open(filename, \"r\") as in_fs:\n",
    "    for i, line in enumerate(in_fs):\n",
    "        response = json.loads(line)\n",
    "        inner_input = response[0][\"messages\"][1][\"content\"]\n",
    "        for j, inner_output in enumerate(response[1][\"choices\"]):\n",
    "            finish_reason = inner_output[\"finish_reason\"]\n",
    "            if finish_reason == \"stop\":\n",
    "                generate_valid = True\n",
    "            else:\n",
    "                print(f\"{i}, {j} {inner_input}, {finish_reason}\")\n",
    "                print(inner_output)\n",
    "                print(\"\")\n",
    "                continue\n",
    "            response_dict[inner_input].append(inner_output)\n",
    "\n",
    "# reorder\n",
    "new_response_dict = OrderedDict()\n",
    "with open(example_to_openai_file_name_base, \"r\") as in_fs:\n",
    "    for line in in_fs:\n",
    "        original = json.loads(line)\n",
    "        inner_input = original[\"messages\"][1][\"content\"]\n",
    "        new_response_dict[inner_input] = response_dict[inner_input]\n",
    "bob_round_0_generations_oai = list(new_response_dict.items())"
   ]
  },
  {
   "cell_type": "code",
   "execution_count": 128,
   "id": "2d239a6f-716f-44fc-8d67-337387072d75",
   "metadata": {},
   "outputs": [
    {
     "data": {
      "text/plain": [
       "\"Entry point function: remove_Occ\\n\\nProgram 1:\\n```python\\ndef remove_Occ(s,ch): \\r\\n    for i in range(len(s)): \\r\\n        if (s[i] == ch): \\r\\n            s = s[0 : i] + s[i + 1:] \\r\\n            break\\r\\n    for i in range(len(s) - 1,-1,-1):  \\r\\n        if (s[i] == ch): \\r\\n            s = s[0 : i] + s[i + 1:] \\r\\n            break\\r\\n    return s \\n```\\n\\nProgram 2:\\n```python\\ndef remove_Occ(s, ch):\\n    first_occurrence_removed = False\\n    for i in range(len(s)):\\n        if s[i] == ch:\\n            s = s[0:i] + s[i + 1:]\\n            first_occurrence_removed = True\\n    if first_occurrence_removed:\\n        s = s.rreplace(ch, '', 1)\\n    return s\\n```\""
      ]
     },
     "execution_count": 128,
     "metadata": {},
     "output_type": "execute_result"
    }
   ],
   "source": [
    "bob_round_0_generations_oai[0][0]"
   ]
  },
  {
   "cell_type": "code",
   "execution_count": 129,
   "id": "020d2396-80ba-4433-90ff-c0cc17db7680",
   "metadata": {},
   "outputs": [
    {
     "name": "stdout",
     "output_type": "stream",
     "text": [
      "Error: 139, 1, 6 invalid markdown\n",
      "Error: 139, 4, 2 invalid markdown\n",
      "Error: 196, 0, 9 invalid markdown\n",
      "Error: 220, 0, 2 invalid markdown\n",
      "Error: 220, 6, 2 invalid markdown\n",
      "Error: 234, 4, 3 invalid markdown\n"
     ]
    }
   ],
   "source": [
    "# Extract generated program and diverging examples\n",
    "\n",
    "#python_code_block_pattern = r\"```python(.*?)```\"\n",
    "markdown = mistune.create_markdown(renderer='ast')\n",
    "\n",
    "lodaded_responses = dict(bob_round_0_generations_oai)\n",
    "for i, example in enumerate(data):\n",
    "    if len(example[\"test_correct_evaluations\"]) > 0:\n",
    "        # already done, skip\n",
    "        continue\n",
    "    for k in range(len(example[\"test_correct_programs\"])):\n",
    "        program = example[\"test_correct_programs\"][k]\n",
    "        program[\"raw_eval_diverging_input_examples\"] = dict()\n",
    "        user_message = user_message_fn_0(example, k)\n",
    "        entry_v = lodaded_responses.get(user_message, None)\n",
    "        if entry_v is None:\n",
    "            continue\n",
    "        examples_set = set()\n",
    "        for j, response in enumerate(entry_v):\n",
    "            content = response[\"message\"][\"content\"]\n",
    "            try:\n",
    "                parsed_markdown = markdown(content)\n",
    "                # Find \"Diverging input example\"\n",
    "                die_i = [i for i, e in enumerate(parsed_markdown) if (e['type'] == \"heading\") and (e[\"children\"][0][\"raw\"] == \"Diverging input example\")][0]\n",
    "                # Extract code blocks\n",
    "                die_code_block = [e[\"raw\"] for e in parsed_markdown[die_i:] if (e['type'] == \"block_code\") and (\"attrs\" in e) and (e[\"attrs\"][\"info\"]==\"python\")][0]\n",
    "            except:\n",
    "                print(f\"Error: {i}, {k}, {j} invalid markdown\")\n",
    "                #print(content)\n",
    "                continue\n",
    "            if die_code_block not in program[\"raw_eval_diverging_input_examples\"]:\n",
    "                program[\"raw_eval_diverging_input_examples\"][die_code_block] = {\"id\": (k, j), \"llm_response\": content, \"weight\": 1}\n",
    "            else:\n",
    "                program[\"raw_eval_diverging_input_examples\"][die_code_block][\"weight\"] += 1"
   ]
  },
  {
   "cell_type": "code",
   "execution_count": null,
   "id": "a11e7626-3428-45b6-a934-f2f0ebd78518",
   "metadata": {},
   "outputs": [],
   "source": []
  },
  {
   "cell_type": "code",
   "execution_count": null,
   "id": "1020286c-10b9-4e77-8f57-f5dbc748b3bf",
   "metadata": {},
   "outputs": [],
   "source": []
  },
  {
   "cell_type": "code",
   "execution_count": 130,
   "id": "0ee191c2-0422-4568-adb4-bb395722233a",
   "metadata": {},
   "outputs": [],
   "source": [
    "# Alternatively, load precomputed\n",
    "\n",
    "#in_filename = \"./typed_examples_with_errors_9.jsonl\"\n",
    "#\n",
    "#data = list()\n",
    "#with open(in_filename, \"r\") as in_fs:\n",
    "#    for line in in_fs:\n",
    "#        example = json.loads(line.strip())\n",
    "#        new_example = defaultdict(list)\n",
    "#        new_example.update(example)\n",
    "#        new_example[\"bad_programs\"] = []\n",
    "#        data.append(new_example)"
   ]
  },
  {
   "cell_type": "code",
   "execution_count": 131,
   "id": "18fb851a-9687-4124-bb3c-6ad856a47e44",
   "metadata": {},
   "outputs": [
    {
     "name": "stdout",
     "output_type": "stream",
     "text": [
      "Error in program 13, 9\n",
      "invalid decimal literal (<unknown>, line 2)\n"
     ]
    }
   ],
   "source": [
    "# Parse and unparse\n",
    "\n",
    "for i, example in enumerate(data):\n",
    "    if len(example[\"test_correct_evaluations\"]) > 0:\n",
    "        # already done, skip\n",
    "        continue\n",
    "    for k, program in enumerate(example[\"test_correct_programs\"]):\n",
    "        program[\"eval_diverging_input_examples\"] = dict()\n",
    "        for die, die_dict in program[\"raw_eval_diverging_input_examples\"].items():\n",
    "            try:\n",
    "                parsed_die = ast.parse(die, type_comments=True)\n",
    "                program[\"eval_diverging_input_examples\"][ast.unparse(parsed_die)] = die_dict\n",
    "            except SyntaxError as e:\n",
    "                print(f\"Error in program {i}, {k}\")\n",
    "                print(e)\n",
    "                error_message = f\"{e.text}\\n{str(e)}\"\n",
    "                example[\"bad_evals\"].append({\"diverging_input_example\": die, \n",
    "                                             \"error\": error_message, \n",
    "                                             \"error_type\": \"ast\", \n",
    "                                             \"id\": die_dict[\"id\"],\n",
    "                                             \"llm_response\": die_dict[\"llm_response\"]})"
   ]
  },
  {
   "cell_type": "code",
   "execution_count": 132,
   "id": "34130640-5c64-4863-a0dc-5d5338653d6c",
   "metadata": {},
   "outputs": [
    {
     "name": "stdout",
     "output_type": "stream",
     "text": [
      "['program', 'diverging_input_example', 'id', 'llm_response', 'raw_eval_diverging_input_examples', 'eval_diverging_input_examples']\n"
     ]
    }
   ],
   "source": [
    "print(list(data[0][\"test_correct_programs\"][0].keys()))"
   ]
  },
  {
   "cell_type": "code",
   "execution_count": 133,
   "id": "743433c7-7482-45b6-b91f-d3a298cd7c06",
   "metadata": {},
   "outputs": [
    {
     "data": {
      "text/plain": [
       "{\"{'s': 'abcabc', 'ch': 'a'}\": {'id': (0, 0),\n",
       "  'llm_response': '# Analysis\\nTo determine whether the two programs `remove_Occ` are semantically equivalent, we need to analyze how each program processes its inputs.\\n\\n## Program 1 Analysis\\n```python\\ndef remove_Occ(s, ch): \\n    for i in range(len(s)): \\n        if (s[i] == ch): \\n            s = s[0 : i] + s[i + 1:] \\n            break\\n    for i in range(len(s) - 1, -1, -1):  \\n        if (s[i] == ch): \\n            s = s[0 : i] + s[i + 1:] \\n            break\\n    return s \\n```\\n1. The function iterates through the string `s` from the beginning to find the first occurrence of the character `ch`. When it finds it, it removes that occurrence and breaks out of the loop.\\n2. Then, it iterates through the string from the end to find the last occurrence of `ch`. It removes that occurrence as well and breaks out of the loop.\\n3. If `ch` is not found in `s`, the string remains unchanged.\\n4. The function returns the modified string.\\n\\n## Program 2 Analysis\\n```python\\ndef remove_Occ(s, ch):\\n    first_occurrence_removed = False\\n    for i in range(len(s)):\\n        if s[i] == ch:\\n            s = s[0:i] + s[i + 1:]\\n            first_occurrence_removed = True\\n    if first_occurrence_removed:\\n        s = s.rreplace(ch, \\'\\', 1)\\n    return s\\n```\\n1. This function also iterates through the string `s` from the beginning to find the first occurrence of `ch`. When it finds it, it removes that occurrence and sets `first_occurrence_removed` to `True`.\\n2. After the first loop, it checks if `first_occurrence_removed` is `True`. If so, it uses `s.rreplace(ch, \\'\\', 1)` to remove the last occurrence of `ch` from the string.\\n3. If `ch` is not found, the string remains unchanged.\\n4. The function returns the modified string.\\n\\n## Key Differences\\n- In Program 1, if `ch` appears multiple times in the string, it will remove the first occurrence and then the last occurrence.\\n- In Program 2, if `ch` appears multiple times, it will remove the first occurrence and then, if any occurrence was removed, it will remove the last occurrence. However, it uses `rreplace`, which is a method that replaces the last occurrence of a substring, not just removing it.\\n\\n### Example of Diverging Behavior\\nConsider the input where `s = \"abcabc\"` and `ch = \"a\"`:\\n- **Program 1** would result in `\"bcab\"` (removes the first \\'a\\' and the last \\'a\\').\\n- **Program 2** would result in `\"bcabc\"` (removes the first \\'a\\' and then the last \\'a\\' from the modified string, which does not exist anymore).\\n\\n# Equivalent?\\nNo\\n\\n# Diverging input example\\n```python\\n{\\n  \"s\": \"abcabc\",\\n  \"ch\": \"a\"\\n}\\n```',\n",
       "  'weight': 4},\n",
       " '{}': {'id': (0, 1),\n",
       "  'llm_response': '# Analysis\\nLet\\'s analyze the two programs step by step to determine their behavior with respect to the input parameters `s` (a string) and `ch` (a character).\\n\\n## Program 1 Analysis\\n```python\\ndef remove_Occ(s,ch): \\n    for i in range(len(s)): \\n        if (s[i] == ch): \\n            s = s[0 : i] + s[i + 1:] \\n            break\\n    for i in range(len(s) - 1,-1,-1):  \\n        if (s[i] == ch): \\n            s = s[0 : i] + s[i + 1:] \\n            break\\n    return s \\n```\\n1. The first loop iterates through the string `s` from the beginning to find the first occurrence of the character `ch`. When it finds it, it removes that character and breaks out of the loop.\\n2. The second loop iterates through the modified string `s` from the end to find the last occurrence of the character `ch`. It removes that character as well and breaks out of the loop.\\n3. If `ch` is not found in `s`, the string remains unchanged.\\n4. The function returns the modified string `s`.\\n\\n## Program 2 Analysis\\n```python\\ndef remove_Occ(s, ch):\\n    first_occurrence_removed = False\\n    for i in range(len(s)):\\n        if s[i] == ch:\\n            s = s[0:i] + s[i + 1:]\\n            first_occurrence_removed = True\\n    if first_occurrence_removed:\\n        s = s.rreplace(ch, \\'\\', 1)\\n    return s\\n```\\n1. This program also iterates through the string `s` to find and remove the first occurrence of `ch`. It sets a flag `first_occurrence_removed` to `True` if it removes a character.\\n2. After the first occurrence is removed, it checks if the flag is `True`. If so, it uses `s.rreplace(ch, \\'\\', 1)` to remove the last occurrence of `ch` from the modified string `s`.\\n3. If `ch` is not found, the string remains unchanged.\\n4. The function returns the modified string `s`.\\n\\n## Comparison of Behavior\\n- Both programs aim to remove the first and last occurrences of the character `ch` from the string `s`.\\n- However, the second program uses `s.rreplace(ch, \\'\\', 1)` which is a method that replaces the last occurrence of `ch` with an empty string, while the first program explicitly searches for the last occurrence in a loop.\\n- The key difference arises when `ch` appears multiple times in `s`. \\n\\n### Diverging Input Example\\nTo illustrate the divergence, consider the input where `s` contains multiple occurrences of `ch`:\\n\\n- Input: `s = \"abcabc\"` and `ch = \"a\"`\\n\\n- **Program 1** will remove the first occurrence of `a` resulting in `s = \"bcabc\"`, and then it will remove the last occurrence of `a` from the modified string, resulting in `s = \"bcab\"`.\\n  \\n- **Program 2** will remove the first occurrence of `a`, resulting in `s = \"bcabc\"`, and then it will use `rreplace` to remove the last occurrence of `a`, resulting in `s = \"bcab\"`.\\n\\nIn this case, both programs produce the same output. However, if we consider an input where `ch` is not present after the first removal, the behavior diverges.\\n\\nFor example:\\n- Input: `s = \"aabb\"` and `ch = \"a\"`\\n\\n- **Program 1** will result in `s = \"b\"`, as it removes both occurrences of `a`.\\n  \\n- **Program 2** will result in `s = \"b\"`, as it also removes both occurrences of `a`.\\n\\nHowever, if we try with a different character:\\n\\n- Input: `s = \"abab\"` and `ch = \"a\"`\\n\\n- **Program 1** will result in `s = \"bab\"`, and then it will remove the last occurrence of `a`, resulting in `s = \"b\"`.\\n  \\n- **Program 2** will result in `s = \"bab\"`, and then it will use `rreplace` to remove the last occurrence of `a`, resulting in `s = \"b\"`.\\n\\nAfter careful consideration, we can see that both programs yield the same results for the cases analyzed.\\n\\n# Equivalent?\\nYes\\n\\n# Diverging input example\\n```python\\n{}\\n```',\n",
       "  'weight': 1},\n",
       " \"{'s': 'aaa', 'ch': 'a'}\": {'id': (0, 2),\n",
       "  'llm_response': '# Analysis\\nLet\\'s analyze both programs step by step to determine their behavior and whether they are semantically equivalent.\\n\\n## Program 1 Analysis\\n```python\\ndef remove_Occ(s, ch): \\n    for i in range(len(s)): \\n        if (s[i] == ch): \\n            s = s[0 : i] + s[i + 1:] \\n            break\\n    for i in range(len(s) - 1, -1, -1):  \\n        if (s[i] == ch): \\n            s = s[0 : i] + s[i + 1:] \\n            break\\n    return s \\n```\\n1. The function `remove_Occ` takes a string `s` and a character `ch`.\\n2. The first loop iterates through the string `s` from the beginning to find the first occurrence of `ch`. When found, it removes that occurrence and breaks the loop.\\n3. The second loop iterates through the modified string `s` from the end to find the last occurrence of `ch`. When found, it removes that occurrence and breaks the loop.\\n4. The function returns the modified string `s`.\\n\\n## Program 2 Analysis\\n```python\\ndef remove_Occ(s, ch):\\n    first_occurrence_removed = False\\n    for i in range(len(s)):\\n        if s[i] == ch:\\n            s = s[0:i] + s[i + 1:]\\n            first_occurrence_removed = True\\n    if first_occurrence_removed:\\n        s = s.rreplace(ch, \\'\\', 1)\\n    return s\\n```\\n1. This function also takes a string `s` and a character `ch`.\\n2. It uses a boolean flag `first_occurrence_removed` to track whether the first occurrence of `ch` has been removed.\\n3. The loop iterates through the string `s` from the beginning, and if it finds `ch`, it removes it and sets the flag to `True`.\\n4. After the loop, if the flag is `True`, it uses `s.rreplace(ch, \\'\\', 1)` to remove the last occurrence of `ch` from the modified string `s`.\\n5. The function returns the modified string `s`.\\n\\n## Comparison\\n- **First Occurrence Removal**: Both programs remove the first occurrence of `ch` from the string `s`. \\n- **Last Occurrence Removal**: \\n  - Program 1 explicitly searches for the last occurrence in a separate loop after the first removal.\\n  - Program 2 relies on the `rreplace` method to remove the last occurrence if the first was removed.\\n  \\n### Key Differences\\n- In Program 1, if `ch` appears multiple times in the string, the last occurrence is found and removed after the first occurrence is removed.\\n- In Program 2, if `ch` appears multiple times, it will first remove the first occurrence and then use `rreplace` to remove the last occurrence. However, if `ch` does not exist in the modified string after the first removal, `rreplace` will not affect the string.\\n\\n### Diverging Input Example\\nConsider the input where `s` contains multiple occurrences of `ch`. For example:\\n- Input: `s = \"abcabc\"`, `ch = \"a\"`\\n- In Program 1, the output will be `\"bcab\"`, as it removes the first \"a\" and then the last \"a\".\\n- In Program 2, the output will also be `\"bcab\"`, but if we consider a case where `ch` is not present after the first removal, the behavior might diverge.\\n\\nTo illustrate a divergence:\\n- Input: `s = \"aaa\"`, `ch = \"a\"`\\n- Program 1 will return `\"\"` (removing both occurrences of \"a\").\\n- Program 2 will return `\"aa\"` (removing only the first occurrence and then attempting to remove the last occurrence which is already gone).\\n\\n# Equivalent?\\nNo\\n\\n# Diverging input example\\n```python\\n{\\n  \"s\": \"aaa\",\\n  \"ch\": \"a\"\\n}\\n```',\n",
       "  'weight': 1},\n",
       " \"{'s': 'aabbcc', 'ch': 'a'}\": {'id': (0, 3),\n",
       "  'llm_response': '# Analysis\\nLet\\'s analyze both programs step by step to determine their behavior with respect to the input parameters `s` (a string) and `ch` (a character).\\n\\n## Program 1 Analysis\\n```python\\ndef remove_Occ(s,ch): \\n    for i in range(len(s)): \\n        if (s[i] == ch): \\n            s = s[0 : i] + s[i + 1:] \\n            break\\n    for i in range(len(s) - 1,-1,-1):  \\n        if (s[i] == ch): \\n            s = s[0 : i] + s[i + 1:] \\n            break\\n    return s \\n```\\n1. The first loop iterates over the string `s` from the beginning to find the first occurrence of the character `ch`. When found, it removes that occurrence and breaks out of the loop.\\n2. The second loop iterates over the modified string `s` from the end to find the last occurrence of `ch`. When found, it removes that occurrence and breaks out of the loop.\\n3. The function returns the modified string `s`.\\n\\n## Program 2 Analysis\\n```python\\ndef remove_Occ(s, ch):\\n    first_occurrence_removed = False\\n    for i in range(len(s)):\\n        if s[i] == ch:\\n            s = s[0:i] + s[i + 1:]\\n            first_occurrence_removed = True\\n    if first_occurrence_removed:\\n        s = s.rreplace(ch, \\'\\', 1)\\n    return s\\n```\\n1. This program also iterates over the string `s` to find and remove the first occurrence of `ch`. It sets a flag `first_occurrence_removed` to `True` when it removes an occurrence.\\n2. After the first occurrence is removed, it checks if any occurrence was removed. If so, it uses `rreplace` to remove the last occurrence of `ch` from the modified string `s`.\\n3. The function returns the modified string `s`.\\n\\n## Comparison\\n- **First Occurrence Removal**: Both programs remove the first occurrence of `ch` from `s`.\\n- **Last Occurrence Removal**: \\n  - Program 1 explicitly finds and removes the last occurrence of `ch` after the first has been removed.\\n  - Program 2 uses `rreplace` to remove the last occurrence if the first was removed.\\n\\n### Key Difference\\nThe main difference arises when the input string `s` contains multiple occurrences of `ch`. If `s` has no occurrences of `ch`, both programs will return `s` unchanged. However, if `s` has only one occurrence of `ch`, Program 1 will return an empty string (since it removes both the first and last occurrence, which are the same), while Program 2 will return the string without that single occurrence, which is also an empty string. \\n\\nHowever, if `s` has more than one occurrence of `ch`, the behavior diverges:\\n- Program 1 will remove the first and last occurrences, leading to a string that may still contain `ch` if there are more than two occurrences.\\n- Program 2 will only remove the first occurrence and then the last occurrence, which may lead to different results depending on the number of occurrences.\\n\\nFor example:\\n- Input: `s = \"abcabc\"`, `ch = \"a\"`\\n  - Program 1 will return `\"bcab\"`.\\n  - Program 2 will return `\"bcab\"` (both behave the same in this case).\\n  \\n- Input: `s = \"aabbcc\"`, `ch = \"a\"`\\n  - Program 1 will return `\"abbcc\"`.\\n  - Program 2 will return `\"abbcc\"` (both behave the same in this case).\\n\\n- Input: `s = \"aaa\"`, `ch = \"a\"`\\n  - Program 1 will return `\"\"` (removes both occurrences).\\n  - Program 2 will return `\"\"` (removes the only occurrence).\\n\\nThus, the divergence occurs when we have a string with multiple occurrences and the logic of removal differs.\\n\\n# Equivalent?\\nNo\\n\\n# Diverging input example\\n```python\\n{\\n  \"s\": \"aabbcc\",\\n  \"ch\": \"a\"\\n}\\n```',\n",
       "  'weight': 1},\n",
       " \"{'s': 'a', 'ch': 'a'}\": {'id': (0, 4),\n",
       "  'llm_response': '# Analysis\\nLet\\'s analyze the two programs step by step to determine their behavior and whether they are semantically equivalent.\\n\\n## Program 1 Analysis\\n```python\\ndef remove_Occ(s,ch): \\n    for i in range(len(s)): \\n        if (s[i] == ch): \\n            s = s[0 : i] + s[i + 1:] \\n            break\\n    for i in range(len(s) - 1,-1,-1):  \\n        if (s[i] == ch): \\n            s = s[0 : i] + s[i + 1:] \\n            break\\n    return s \\n```\\n1. The function `remove_Occ` takes a string `s` and a character `ch`.\\n2. The first loop iterates through the string `s` from the beginning to find the first occurrence of `ch`. When found, it removes that occurrence and breaks out of the loop.\\n3. The second loop iterates through the string `s` from the end to find the last occurrence of `ch`. When found, it removes that occurrence and breaks out of the loop.\\n4. The function returns the modified string `s`.\\n\\n## Program 2 Analysis\\n```python\\ndef remove_Occ(s, ch):\\n    first_occurrence_removed = False\\n    for i in range(len(s)):\\n        if s[i] == ch:\\n            s = s[0:i] + s[i + 1:]\\n            first_occurrence_removed = True\\n    if first_occurrence_removed:\\n        s = s.rreplace(ch, \\'\\', 1)\\n    return s\\n```\\n1. The function `remove_Occ` takes a string `s` and a character `ch`.\\n2. It initializes a boolean variable `first_occurrence_removed` to `False`.\\n3. The loop iterates through the string `s` from the beginning to find and remove the first occurrence of `ch`, setting `first_occurrence_removed` to `True` if found.\\n4. After the loop, if `first_occurrence_removed` is `True`, it uses `s.rreplace(ch, \\'\\', 1)` to remove the last occurrence of `ch` from the modified string `s`.\\n5. The function returns the modified string `s`.\\n\\n## Comparison of Behavior\\n- **First Occurrence Removal**: Both programs remove the first occurrence of `ch` from the string `s`. \\n- **Last Occurrence Removal**: \\n  - Program 1 explicitly finds and removes the last occurrence of `ch` in a separate loop.\\n  - Program 2 uses `s.rreplace(ch, \\'\\', 1)` to remove the last occurrence, but this method will only work correctly if `ch` still exists in the string after the first removal. If the first occurrence was the only occurrence, `rreplace` would not have any effect since `ch` would no longer be present.\\n  \\nThis leads to a critical difference in behavior:\\n- If `ch` appears only once in `s`, Program 1 will return an empty string, while Program 2 will return the string unchanged because it will not find `ch` to replace it again.\\n\\n# Equivalent?\\nNo\\n\\n# Diverging input example\\n```python\\n{\\n  \"s\": \"a\",\\n  \"ch\": \"a\"\\n}\\n```',\n",
       "  'weight': 2},\n",
       " \"{'s': 'abac', 'ch': 'a'}\": {'id': (0, 9),\n",
       "  'llm_response': '# Analysis\\nTo determine if the two programs `remove_Occ` are semantically equivalent, we need to analyze how each program processes the input string `s` and the character `ch`.\\n\\n## Program 1 Analysis\\n```python\\ndef remove_Occ(s,ch): \\n    for i in range(len(s)): \\n        if (s[i] == ch): \\n            s = s[0 : i] + s[i + 1:] \\n            break\\n    for i in range(len(s) - 1,-1,-1):  \\n        if (s[i] == ch): \\n            s = s[0 : i] + s[i + 1:] \\n            break\\n    return s \\n```\\n1. The first loop iterates over the string `s` from the beginning to find the first occurrence of `ch`. When found, it removes that occurrence and breaks out of the loop.\\n2. The second loop iterates over the modified string from the end to find the last occurrence of `ch`. When found, it removes that occurrence and breaks out of the loop.\\n3. If `ch` is not found in `s`, the string remains unchanged.\\n4. The function returns the modified string `s`.\\n\\n## Program 2 Analysis\\n```python\\ndef remove_Occ(s, ch):\\n    first_occurrence_removed = False\\n    for i in range(len(s)):\\n        if s[i] == ch:\\n            s = s[0:i] + s[i + 1:]\\n            first_occurrence_removed = True\\n    if first_occurrence_removed:\\n        s = s.rreplace(ch, \\'\\', 1)\\n    return s\\n```\\n1. This program also iterates over the string `s` to find and remove the first occurrence of `ch`. It sets a flag `first_occurrence_removed` to `True` if an occurrence is found and removed.\\n2. After the first occurrence is removed, if the flag is `True`, it uses `rreplace` to remove the last occurrence of `ch` from the modified string `s`.\\n3. If `ch` is not found, the string remains unchanged.\\n4. The function returns the modified string `s`.\\n\\n## Comparison\\n- **First Occurrence Removal**: Both programs remove the first occurrence of `ch` from `s`.\\n- **Last Occurrence Removal**: \\n  - Program 1 explicitly searches for and removes the last occurrence of `ch` after the first removal.\\n  - Program 2 uses `rreplace`, which is a more concise way to remove the last occurrence, but it relies on the fact that the first occurrence was already removed.\\n  \\nThe key difference lies in how the last occurrence is removed:\\n- Program 1 directly manipulates the string to remove the last occurrence.\\n- Program 2 uses a built-in method that may behave differently if `ch` appears multiple times in the original string.\\n\\n### Diverging Input Example\\nTo find a diverging input example, consider the case where `ch` appears multiple times in the string `s`. For instance, if `s = \"abcabc\"` and `ch = \"a\"`, the two programs will yield different results:\\n\\n- **Program 1**:\\n  - First loop removes the first \"a\", resulting in \"bcabc\".\\n  - Second loop removes the last \"a\", resulting in \"bcab\".\\n\\n- **Program 2**:\\n  - First loop removes the first \"a\", resulting in \"bcabc\".\\n  - The `rreplace` will then remove the last \"a\" from \"bcabc\", resulting in \"bcab\" as well.\\n\\nHowever, if we take a string like `s = \"aaa\"` and `ch = \"a\"`:\\n- **Program 1** will remove the first \"a\" and then the last \"a\", resulting in \"a\".\\n- **Program 2** will remove the first \"a\", and then `rreplace` will remove the last \"a\", also resulting in \"a\".\\n\\nIn a more complex case, such as `s = \"aabbcc\"` and `ch = \"a\"`:\\n- Both will remove the first \"a\", resulting in \"abbcc\".\\n- The last occurrence of \"a\" is not present in the modified string, so both will return \"abbcc\".\\n\\nHowever, if we take `s = \"abac\"` and `ch = \"a\"`:\\n- **Program 1** will return \"bac\" (removing first \"a\" and last \"a\").\\n- **Program 2** will return \"bc\" (removing first \"a\" and then last \"a\" using `rreplace`).\\n\\nThus, we can conclude that the two programs are not semantically equivalent.\\n\\n# Equivalent?\\nNo\\n\\n# Diverging input example\\n```python\\n{\\n  \"s\": \"abac\",\\n  \"ch\": \"a\"\\n}\\n```',\n",
       "  'weight': 1}}"
      ]
     },
     "execution_count": 133,
     "metadata": {},
     "output_type": "execute_result"
    }
   ],
   "source": [
    "data[0][\"test_correct_programs\"][0][\"eval_diverging_input_examples\"]"
   ]
  },
  {
   "cell_type": "code",
   "execution_count": 134,
   "id": "86f8ec4e-015d-4fea-a056-ee58943c0a7e",
   "metadata": {},
   "outputs": [
    {
     "name": "stdout",
     "output_type": "stream",
     "text": [
      "{'s': 'abcabc', 'ch': 'a'}\n"
     ]
    }
   ],
   "source": [
    "print(list(data[0][\"test_correct_programs\"][0][\"eval_diverging_input_examples\"])[0])"
   ]
  },
  {
   "cell_type": "code",
   "execution_count": 135,
   "id": "284236c2-da4a-428a-ba70-9891c9a898a3",
   "metadata": {},
   "outputs": [],
   "source": [
    "tmp_program_dir = \"./tmp_programs_eval/\""
   ]
  },
  {
   "cell_type": "code",
   "execution_count": 136,
   "id": "5bd73729-2a7a-4178-9557-bdf8b9e9ee8b",
   "metadata": {},
   "outputs": [],
   "source": [
    "def generate_test_harness(example, base_module_name, test_entrypoint_name=\"test_main\", timeout_min_seconds=2.5, timeout_max_seconds=5.0):\n",
    "    function_name = example[\"function_name\"]\n",
    "    original_module_name = base_module_name+\"_a\"\n",
    "    alt_module_name = base_module_name+\"_b\"\n",
    "    timeout_seconds = random.uniform(timeout_min_seconds, timeout_max_seconds)\n",
    "    rv = f\"\"\"\n",
    "import multiprocessing\n",
    "import pickle\n",
    "\n",
    "def run_function(func, result_queue):\n",
    "    try:\n",
    "        rv = func()\n",
    "        _ = pickle.dumps(rv)\n",
    "        result_queue.put((\"returned\", rv))\n",
    "    except BaseException as e:\n",
    "        result_queue.put((\"exception\", e))\n",
    "\n",
    "def run_with_timeout(func, timeout):\n",
    "    result_queue = multiprocessing.Queue()\n",
    "    process = multiprocessing.Process(target=run_function, args=(func, result_queue))\n",
    "    process.start()\n",
    "    process.join(timeout)\n",
    "    if process.is_alive():\n",
    "        process.terminate()\n",
    "        return (\"timeout\", None)\n",
    "    else:\n",
    "        return result_queue.get()\n",
    "\n",
    "import {original_module_name}\n",
    "import {alt_module_name}\n",
    "\n",
    "def main():\n",
    "    timeout = {timeout_seconds}\n",
    "    rv_a = run_with_timeout({original_module_name}.{test_entrypoint_name}, timeout)\n",
    "    rv_b = run_with_timeout({alt_module_name}.{test_entrypoint_name}, timeout)\n",
    "    assert(rv_a != rv_b)\n",
    "\n",
    "if __name__ == \"__main__\":\n",
    "    main()\n",
    "\n",
    "    \"\"\"\n",
    "    return rv.strip()\n",
    "\n",
    "def generate_test_module(program, function_name, diverging_input_example, test_entrypoint_name=\"test_main\"):\n",
    "    #diverging_input_example_str = f\"{[k+'='+v for k, v in diverging_input_example.items()]}\"\n",
    "    rv = f\"\"\"\n",
    "{program}\n",
    "\n",
    "def {test_entrypoint_name}():\n",
    "  return {function_name}(**{diverging_input_example})\n",
    "\"\"\"\n",
    "    return rv.strip()"
   ]
  },
  {
   "cell_type": "code",
   "execution_count": 137,
   "id": "85772f3d-dbc8-4cbe-bb74-8656605fe4bd",
   "metadata": {},
   "outputs": [
    {
     "name": "stdout",
     "output_type": "stream",
     "text": [
      "import multiprocessing\n",
      "import pickle\n",
      "\n",
      "def run_function(func, result_queue):\n",
      "    try:\n",
      "        rv = func()\n",
      "        _ = pickle.dumps(rv)\n",
      "        result_queue.put((\"returned\", rv))\n",
      "    except BaseException as e:\n",
      "        result_queue.put((\"exception\", e))\n",
      "\n",
      "def run_with_timeout(func, timeout):\n",
      "    result_queue = multiprocessing.Queue()\n",
      "    process = multiprocessing.Process(target=run_function, args=(func, result_queue))\n",
      "    process.start()\n",
      "    process.join(timeout)\n",
      "    if process.is_alive():\n",
      "        process.terminate()\n",
      "        return (\"timeout\", None)\n",
      "    else:\n",
      "        return result_queue.get()\n",
      "\n",
      "import module_name_a\n",
      "import module_name_b\n",
      "\n",
      "def main():\n",
      "    timeout = 4.015148084443023\n",
      "    rv_a = run_with_timeout(module_name_a.test_main, timeout)\n",
      "    rv_b = run_with_timeout(module_name_b.test_main, timeout)\n",
      "    assert(rv_a != rv_b)\n",
      "\n",
      "if __name__ == \"__main__\":\n",
      "    main()\n",
      "\n",
      "def check_Equality(str):\n",
      "  if (str[0] == str[-1]):  \n",
      "    return (\"Equal\") \n",
      "  else:  \n",
      "    return (\"Not Equal\") \n",
      "\n",
      "def test_main():\n",
      "  return check_Equality(**{'iterable': ''})\n",
      "\n",
      "def check_Equality(iterable):\n",
      "    if len(iterable) == 0:\n",
      "        return 'Empty'\n",
      "    if iterable[0] == iterable[-1]:\n",
      "        return 'Equal'\n",
      "    else:\n",
      "        return 'Not Equal'\n",
      "\n",
      "def test_main():\n",
      "  return check_Equality(**{'iterable': ''})\n"
     ]
    }
   ],
   "source": [
    "print(generate_test_harness(data[42], \"module_name\"))\n",
    "print(\"\")\n",
    "print(generate_test_module(data[42][\"code\"], \n",
    "                           data[42][\"function_name\"], \n",
    "                           list(data[42][\"test_correct_programs\"][0][\"eval_diverging_input_examples\"].keys())[0]))\n",
    "print(\"\")\n",
    "print(generate_test_module(data[42][\"test_correct_programs\"][0][\"program\"], \n",
    "                           data[42][\"function_name\"], \n",
    "                           list(data[42][\"test_correct_programs\"][0][\"eval_diverging_input_examples\"].keys())[0]))"
   ]
  },
  {
   "cell_type": "code",
   "execution_count": 138,
   "id": "1a70c2d0-56a3-4cbb-a6bb-28bab282025c",
   "metadata": {},
   "outputs": [
    {
     "name": "stderr",
     "output_type": "stream",
     "text": [
      "100%|█████████████████████████████████████████████████████████████████████████████████████████████████████████████████████████████████████████████████████████████████████| 500/500 [27:39<00:00,  3.32s/it]"
     ]
    },
    {
     "name": "stdout",
     "output_type": "stream",
     "text": [
      "Bad examples: 8/3808. Correct fraction: 0.9978991596638656\n",
      "Test failures/checks: 1651/14364\n",
      "Average correctness: 0.9166518690809687\n"
     ]
    },
    {
     "name": "stderr",
     "output_type": "stream",
     "text": [
      "\n"
     ]
    }
   ],
   "source": [
    "# Full check\n",
    "\n",
    "num_bad, num_total = 0, 0\n",
    "num_test_checks = 0\n",
    "num_type_failures, num_test_failures = 0, 0\n",
    "sum_correctness = 0.0\n",
    "for i in tqdm(range(len(data))):\n",
    "    example = data[i]\n",
    "    if len(example[\"test_correct_evaluations\"]) > 0:\n",
    "        # already done, skip\n",
    "        continue\n",
    "    for k, program in enumerate(example[\"test_correct_programs\"]):\n",
    "        if (example[\"code\"], program[\"program\"]) in already_evaluated_program_pairs:\n",
    "            continue\n",
    "        num_total += 1\n",
    "        program[\"correct_eval_diverging_input_examples\"] = dict()\n",
    "        program[\"num_correct_eval_diverging_input_examples\"] = 0.0\n",
    "        weight_acc = 0.0\n",
    "        if len(program[\"eval_diverging_input_examples\"]) == 0:\n",
    "            num_bad += 1\n",
    "            continue\n",
    "        for die, die_dict in program[\"eval_diverging_input_examples\"].items():\n",
    "            weight_acc += die_dict[\"weight\"]\n",
    "            module_name_base = \"tmp_\"+uuid.uuid4().hex+f\"_{k}_x\"\n",
    "            original_module_name = module_name_base+\"_a\"\n",
    "            alt_module_name = module_name_base+\"_b\"\n",
    "            filename_original = tmp_program_dir+original_module_name+\".py\"\n",
    "            filename_alt = tmp_program_dir+alt_module_name+\".py\"\n",
    "            filename_harness = tmp_program_dir+module_name_base+\"_harness.py\"\n",
    "            test_entrypoint_name = \"test_\"+uuid.uuid4().hex+\"_main\"\n",
    "            with open(filename_original, \"w\") as out_fs:\n",
    "                original_program = generate_test_module(example[\"code\"], \n",
    "                                                        example[\"function_name\"], \n",
    "                                                        die,\n",
    "                                                        test_entrypoint_name)\n",
    "                print(original_program, file=out_fs)\n",
    "            with open(filename_alt, \"w\") as out_fs:\n",
    "                alt_program = generate_test_module(program[\"program\"], \n",
    "                                                   example[\"function_name\"], \n",
    "                                                   die,\n",
    "                                                   test_entrypoint_name)\n",
    "                print(alt_program, file=out_fs)\n",
    "            with open(filename_harness, \"w\") as out_fs:\n",
    "                test_harness = generate_test_harness(example, module_name_base, test_entrypoint_name=test_entrypoint_name)\n",
    "                print(test_harness, file=out_fs)\n",
    "            # execute tests\n",
    "            cmd = f\"python -B {filename_harness} > {filename_harness}.out 2>&1\"\n",
    "            cmd_rv = os.system(cmd)\n",
    "            num_test_checks += 1\n",
    "            if cmd_rv != 0:\n",
    "                with open(f\"{filename_harness}.out\", \"r\") as err_fs:\n",
    "                    program_output = err_fs.read()\n",
    "                    example[\"bad_programs\"].append({\"program\": program[\"program\"],\n",
    "                                                    \"diverging_input_example\": die,\n",
    "                                                    \"error\": program_output.strip(), \n",
    "                                                    \"error_type\": \"test\",\n",
    "                                                    \"id\": die_dict[\"id\"],\n",
    "                                                    \"llm_response\": die_dict[\"llm_response\"]})\n",
    "                num_test_failures += 1\n",
    "            else:\n",
    "                program[\"correct_eval_diverging_input_examples\"][die] = die_dict\n",
    "                program[\"num_correct_eval_diverging_input_examples\"] += die_dict[\"weight\"]\n",
    "                example[\"test_correct_evaluations\"].append(program)\n",
    "            os.remove(f\"{filename_harness}.out\")\n",
    "            os.remove(filename_harness)\n",
    "            os.remove(filename_alt)\n",
    "            os.remove(filename_original)\n",
    "        program[\"fraction_correct_eval_diverging_input_examples\"] = program[\"num_correct_eval_diverging_input_examples\"] / weight_acc\n",
    "        sum_correctness += program[\"fraction_correct_eval_diverging_input_examples\"]\n",
    "        if len(example[\"test_correct_evaluations\"]) == 0:\n",
    "            num_bad += 1\n",
    "frac_correct = (float(num_total) - num_bad) / num_total\n",
    "avg_correctness = sum_correctness / num_total\n",
    "print(f\"Bad examples: {num_bad}/{num_total}. Correct fraction: {frac_correct}\")\n",
    "print(f\"Test failures/checks: {num_test_failures}/{num_test_checks}\")\n",
    "print(f\"Average correctness: {avg_correctness}\")"
   ]
  },
  {
   "cell_type": "code",
   "execution_count": 139,
   "id": "e5dd0ff8-7d7b-49bf-9652-b86a8682d64a",
   "metadata": {},
   "outputs": [],
   "source": [
    "# Round 0 gpt-4o-mini-2024-07-18, temperature = 1.0, top_p = 0.7, n = 10, Bad examples: 0/2925. Correct fraction: 1.0, Test failures/checks: 1010/11671, Average correctness: 0.9392427079093773\n",
    "# Round 1 run 0 gpt-4o-mini-2024-07-18, temperature = 1.0, top_p = 0.7, n = 10, Bad examples: 3/2920. Correct fraction: 0.998972602739726, Test failures/checks: 1335/12334, Average correctness: 0.9196481572080926\n",
    "# Round 1 run 1 gpt-4o-mini-2024-07-18, temperature = 1.0, top_p = 0.7, n = 10, Bad examples: 9/2903. Correct fraction: 0.9968997588701344, Test failures/checks: 1374/11904, Average correctness: 0.9087706204309748\n",
    "# Round 1 run 2 gpt-4o-mini-2024-07-18, temperature = 1.0, top_p = 0.7, n = 10, Bad examples: 11/2892. Correct fraction: 0.9961964038727524, Test failures/checks: 1347/11487, Average correctness: 0.9085996673911632\n",
    "# Round 2 run 0 gpt-4o-mini-2024-07-18, temperature = 1.0, top_p = 0.7, n = 10, Bad examples: 12/2475. Correct fraction: 0.9951515151515151, Test failures/checks: 1521/10407, Average correctness: 0.8702590989257677\n",
    "# Round 3 run 0 gpt-4o-mini-2024-07-18, temperature = 1.0, top_p = 0.7, n = 10, Bad examples: 7/1355. Correct fraction: 0.9948339483394834, Test failures/checks: 598/5669, Average correctness: 0.903014115855443\n",
    "# Round 4 run 0 gpt-4o-mini-2024-07-18, temperature = 1.0, top_p = 0.7, n = 10, Bad examples: 14/1864. Correct fraction: 0.9924892703862661, Test failures/checks: 1066/7867, Average correctness: 0.8838055214932912\n",
    "# Round 5 run 0 gpt-4o-mini-2024-07-18, temperature = 1.0, top_p = 0.7, n = 10, Bad examples: 12/1829. Correct fraction: 0.9934390377255331, Test failures/checks: 996/7793, Average correctness: 0.8834823869405621\n",
    "# Round 6 run 0 gpt-4o-mini-2024-07-18, temperature = 1.0, top_p = 0.7, n = 10, Bad examples: 25/1414. Correct fraction: 0.9823196605374823, Test failures/checks: 1285/6415, Average correctness: 0.8084074223748903\n",
    "# Round 6 run 1 gpt-4o-mini-2024-07-18, temperature = 1.0, top_p = 0.7, n = 10, Bad examples: 37/2320. Correct fraction: 0.9840517241379311, Test failures/checks: 2256/9852, Average correctness: 0.7598659003831406\n",
    "# Generation 1 round 0 run 0 ft:gpt-4o-mini-2024-07-18:uedin:semantic-inequiv-bob-run-0-round-6-generation-0:AyS2gJFd, temperature = 1.0, top_p = 0.7, n = 10, Bad examples: 3/2573. Correct fraction: 0.9988340458608628, Test failures/checks: 1722/9881, Average correctness: 0.869813817481912\n",
    "\n",
    "# Test set Generation 0 Round 6 run 1 gpt-4o-mini-2024-07-18, temperature = 1.0, top_p = 0.7, n = 10, Bad examples: 17/3808. Correct fraction: 0.9955357142857143, Test failures/checks: 2021/15469, Average correctness: 0.883749124649863\n",
    "# Test set Generation 1 Round 1 run 0 ft:gpt-4o-mini-2024-07-18:uedin:semantic-inequiv-bob-run-0-round-6-generation-0:AyS2gJFd, temperature = 1.0, top_p = 0.7, n = 10, Bad examples: 8/3808. Correct fraction: 0.9978991596638656, Test failures/checks: 1651/14364, Average correctness: 0.9166518690809687"
   ]
  },
  {
   "cell_type": "code",
   "execution_count": null,
   "id": "a49b77a3-b810-40b0-90d6-5e6967ac423c",
   "metadata": {},
   "outputs": [],
   "source": []
  },
  {
   "cell_type": "code",
   "execution_count": 140,
   "id": "bda4a249-d145-4afa-ab42-a715696352d6",
   "metadata": {},
   "outputs": [
    {
     "name": "stdout",
     "output_type": "stream",
     "text": [
      "def check_Equality(str):\n",
      "  if (str[0] == str[-1]):  \n",
      "    return (\"Equal\") \n",
      "  else:  \n",
      "    return (\"Not Equal\") \n",
      "def check_Equality(iterable):\n",
      "    if len(iterable) == 0:\n",
      "        return 'Empty'\n",
      "    if iterable[0] == iterable[-1]:\n",
      "        return 'Equal'\n",
      "    else:\n",
      "        return 'Not Equal'\n",
      "{'iterable': [1, 2, 3, 1]}\n"
     ]
    }
   ],
   "source": [
    "print(data[42][\"code\"])\n",
    "print(data[42][\"test_correct_evaluations\"][0][\"program\"])\n",
    "print(data[42][\"test_correct_evaluations\"][0][\"diverging_input_example\"])"
   ]
  },
  {
   "cell_type": "code",
   "execution_count": 141,
   "id": "3a591c40-cd7b-4891-b8dd-c623605a025d",
   "metadata": {},
   "outputs": [],
   "source": [
    "#for i, example in enumerate(data):\n",
    "#    for j, program in enumerate(example[\"test_correct_programs\"]):\n",
    "#        if program[\"fraction_correct_eval_diverging_input_examples\"] < 1.0:\n",
    "#            print(f\"{i}, {j}\")\n",
    "#            print(example[\"code\"])\n",
    "#            print(program[\"program\"])\n",
    "#            print(program[\"diverging_input_example\"])\n",
    "#            print(program[\"fraction_correct_eval_diverging_input_examples\"])\n",
    "#            break"
   ]
  },
  {
   "cell_type": "code",
   "execution_count": null,
   "id": "887386f4-c368-4034-b6cc-7577a81f7c02",
   "metadata": {},
   "outputs": [],
   "source": []
  },
  {
   "cell_type": "code",
   "execution_count": 142,
   "id": "2e8759b3-edac-4683-86d5-645270f9085e",
   "metadata": {},
   "outputs": [
    {
     "data": {
      "text/plain": [
       "[153, 214]"
      ]
     },
     "execution_count": 142,
     "metadata": {},
     "output_type": "execute_result"
    }
   ],
   "source": [
    "[i for i, example in enumerate(data) if len(example[\"test_correct_evaluations\"]) == 0]"
   ]
  },
  {
   "cell_type": "code",
   "execution_count": 143,
   "id": "cfa48a5a-2367-494c-baf9-6d2049e13b48",
   "metadata": {},
   "outputs": [],
   "source": [
    "out_filename = f\"./bob{train_or_test_str}{generation_str}_round_{round_n}_{run_n}.jsonl\""
   ]
  },
  {
   "cell_type": "code",
   "execution_count": 144,
   "id": "91d7d95f-e48e-4180-b1a8-6fdf27fc2491",
   "metadata": {},
   "outputs": [
    {
     "data": {
      "text/plain": [
       "'./bob_test_generation_1_round_0_0.jsonl'"
      ]
     },
     "execution_count": 144,
     "metadata": {},
     "output_type": "execute_result"
    }
   ],
   "source": [
    "out_filename"
   ]
  },
  {
   "cell_type": "code",
   "execution_count": 145,
   "id": "2859958e-39e1-4d81-8ea0-b1027c3afd79",
   "metadata": {},
   "outputs": [],
   "source": [
    "with open(out_filename, \"w\") as out_fs:\n",
    "    for example in data:\n",
    "        print(json.dumps(example), file=out_fs)"
   ]
  },
  {
   "cell_type": "code",
   "execution_count": 146,
   "id": "deaca4cf-36c8-49d1-b81e-b48c20cce318",
   "metadata": {},
   "outputs": [],
   "source": [
    "alice_bob_summary_datset = []\n",
    "for example in data:\n",
    "    correct_programs_summary_dict = dict()\n",
    "    for program_dict in example[\"test_correct_programs\"]:\n",
    "        program = program_dict[\"program\"]\n",
    "        if program not in correct_programs_summary_dict:\n",
    "            summary_dict = {\"id\": program_dict[\"id\"],\n",
    "                            \"alice_diverging_input_examples\": [program_dict[\"diverging_input_example\"]],\n",
    "                            \"alice_llm_responses\": [program_dict[\"llm_response\"]],\n",
    "                            \"bob_diverging_input_examples\": program_dict[\"correct_eval_diverging_input_examples\"],\n",
    "                            \"bob_fraction_correct_eval_diverging_input_examples\": program_dict[\"fraction_correct_eval_diverging_input_examples\"]}\n",
    "            if type(summary_dict[\"bob_fraction_correct_eval_diverging_input_examples\"]) != float:\n",
    "                summary_dict[\"bob_fraction_correct_eval_diverging_input_examples\"] = 0.0\n",
    "            correct_programs_summary_dict[program] = summary_dict\n",
    "        else:\n",
    "            correct_programs_summary_dict[program][\"alice_diverging_input_examples\"].append(program_dict[\"diverging_input_example\"])\n",
    "            correct_programs_summary_dict[program][\"alice_llm_responses\"].extend(program_dict[\"alice_llm_responses\"])\n",
    "            #x_dict = correct_programs_summary_dict[program][\"bob_diverging_input_examples\"]\n",
    "            #y_dict = program_dict[\"correct_eval_diverging_input_examples\"]\n",
    "            #assert(x_dict.keys() == y_dict.keys())\n",
    "            #for k, v_x in x_dict.items():\n",
    "            #    v_y = y_dict[k]\n",
    "            #    v_x, v_y = v_x.copy(), v_y.copy()\n",
    "            #    del v_x[\"id\"]\n",
    "            #    del v_y[\"id\"]\n",
    "            #    assert(v_x == v_y)\n",
    "\n",
    "    summary_dict = {\"task_id\": example[\"task_id\"],\n",
    "                    \"text\": example[\"text\"],\n",
    "                    \"code\": example[\"code\"],\n",
    "                    \"function_name\": example[\"function_name\"],\n",
    "                    \"test_list\": example[\"test_list\"],\n",
    "                    \"test_setup_code\": example[\"test_setup_code\"],\n",
    "                    \"challenge_test_list\": example[\"challenge_test_list\"],\n",
    "                    \"user_message\": example[\"user_message\"],\n",
    "                    \"correct_programs_summary\": correct_programs_summary_dict}\n",
    "    alice_bob_summary_datset.append(summary_dict)"
   ]
  },
  {
   "cell_type": "code",
   "execution_count": 147,
   "id": "4af5bf91-ecaf-464c-b881-52189d27775f",
   "metadata": {},
   "outputs": [],
   "source": [
    "summary_filename = f\"./alice_bob_summary{emptytrain_or_test_str}{generation_str}_round_{round_n}_run_{run_n}.jsonl\""
   ]
  },
  {
   "cell_type": "code",
   "execution_count": 148,
   "id": "e71a1290-4313-456f-a259-f7212bc017c0",
   "metadata": {},
   "outputs": [],
   "source": [
    "with open(summary_filename, \"w\") as out_fs:\n",
    "    for v in alice_bob_summary_datset:\n",
    "        print(json.dumps(v), file=out_fs)"
   ]
  },
  {
   "cell_type": "code",
   "execution_count": 53,
   "id": "3565967e-bf8d-46f4-89a5-779dfb9efd49",
   "metadata": {},
   "outputs": [
    {
     "name": "stdout",
     "output_type": "stream",
     "text": [
      "[0.  0.  0.7 ... 0.  0.  0. ]\n"
     ]
    }
   ],
   "source": [
    "difficulty_array = []\n",
    "for k in range(len(alice_bob_summary_datset)):\n",
    "    row = [1.0-list(alice_bob_summary_datset[k]['correct_programs_summary'].values())[i]['bob_fraction_correct_eval_diverging_input_examples'] for i in range(len(alice_bob_summary_datset[k]['correct_programs_summary'].values()))]\n",
    "    difficulty_array.extend(row)\n",
    "difficulty_array = np.array(difficulty_array)\n",
    "print(difficulty_array)"
   ]
  },
  {
   "cell_type": "code",
   "execution_count": 54,
   "id": "51976370-8b62-4852-8805-4ff33e439fc1",
   "metadata": {},
   "outputs": [],
   "source": [
    "import matplotlib.pyplot as plt"
   ]
  },
  {
   "cell_type": "code",
   "execution_count": 55,
   "id": "28041de5-3af7-41e0-b130-96262f51efe7",
   "metadata": {},
   "outputs": [
    {
     "data": {
      "text/plain": [
       "(array([1688.,  113.,   12.,  106.,   82.,  119.,   47.,    5.,   27.,\n",
       "          46.]),\n",
       " array([0. , 0.1, 0.2, 0.3, 0.4, 0.5, 0.6, 0.7, 0.8, 0.9, 1. ]),\n",
       " <BarContainer object of 10 artists>)"
      ]
     },
     "execution_count": 55,
     "metadata": {},
     "output_type": "execute_result"
    },
    {
     "data": {
      "image/png": "[encoded data removed]",
      "text/plain": [
       "<Figure size 640x480 with 1 Axes>"
      ]
     },
     "metadata": {},
     "output_type": "display_data"
    }
   ],
   "source": [
    "plt.hist(difficulty_array, bins=10, edgecolor='black')"
   ]
  },
  {
   "cell_type": "code",
   "execution_count": 56,
   "id": "597ed181-3817-4747-b785-4decaf389d15",
   "metadata": {},
   "outputs": [
    {
     "data": {
      "text/plain": [
       "np.int64(24)"
      ]
     },
     "execution_count": 56,
     "metadata": {},
     "output_type": "execute_result"
    }
   ],
   "source": [
    "sum((difficulty_array > 0.9) & (difficulty_array <= 1.0))"
   ]
  },
  {
   "cell_type": "code",
   "execution_count": 57,
   "id": "bc9e3e5c-7ca4-459a-947c-03f9c4149f71",
   "metadata": {},
   "outputs": [
    {
     "data": {
      "text/plain": [
       "np.float64(0.12154152083996181)"
      ]
     },
     "execution_count": 57,
     "metadata": {},
     "output_type": "execute_result"
    }
   ],
   "source": [
    "difficulty_array.mean()"
   ]
  },
  {
   "cell_type": "code",
   "execution_count": null,
   "id": "9abe23e9-bd18-498d-860a-c6198c2071f0",
   "metadata": {},
   "outputs": [],
   "source": []
  },
  {
   "cell_type": "code",
   "execution_count": 106,
   "id": "b2f1384b-d54c-4bb7-b623-cbef963acad9",
   "metadata": {},
   "outputs": [],
   "source": [
    "# Test set, untrained pre-gen 1"
   ]
  },
  {
   "cell_type": "code",
   "execution_count": null,
   "id": "18527d00-bced-40ef-81eb-f01a2d227a27",
   "metadata": {},
   "outputs": [],
   "source": []
  },
  {
   "cell_type": "code",
   "execution_count": 107,
   "id": "46ccc540-1b5b-4376-a89e-25934c378347",
   "metadata": {},
   "outputs": [
    {
     "name": "stdout",
     "output_type": "stream",
     "text": [
      "[0.1 0.1 0.1 ... 0.  0.6 0. ]\n"
     ]
    }
   ],
   "source": [
    "difficulty_array = []\n",
    "for k in range(len(alice_bob_summary_datset)):\n",
    "    row = [1.0-list(alice_bob_summary_datset[k]['correct_programs_summary'].values())[i]['bob_fraction_correct_eval_diverging_input_examples'] for i in range(len(alice_bob_summary_datset[k]['correct_programs_summary'].values()))]\n",
    "    difficulty_array.extend(row)\n",
    "difficulty_array = np.array(difficulty_array)\n",
    "print(difficulty_array)"
   ]
  },
  {
   "cell_type": "code",
   "execution_count": 108,
   "id": "bd2b4e81-c7bf-4910-afc1-1c3f82aa8b5a",
   "metadata": {},
   "outputs": [],
   "source": [
    "import matplotlib.pyplot as plt"
   ]
  },
  {
   "cell_type": "code",
   "execution_count": 109,
   "id": "6b420126-e20f-4402-b704-c508ec2521b5",
   "metadata": {},
   "outputs": [
    {
     "data": {
      "text/plain": [
       "(array([2705.,  144.,   11.,   93.,   85.,  119.,   41.,    9.,   67.,\n",
       "          96.]),\n",
       " array([0. , 0.1, 0.2, 0.3, 0.4, 0.5, 0.6, 0.7, 0.8, 0.9, 1. ]),\n",
       " <BarContainer object of 10 artists>)"
      ]
     },
     "execution_count": 109,
     "metadata": {},
     "output_type": "execute_result"
    },
    {
     "data": {
      "image/png": "[encoded data removed]",
      "text/plain": [
       "<Figure size 640x480 with 1 Axes>"
      ]
     },
     "metadata": {},
     "output_type": "display_data"
    }
   ],
   "source": [
    "plt.hist(difficulty_array, bins=10, edgecolor='black')"
   ]
  },
  {
   "cell_type": "code",
   "execution_count": 110,
   "id": "974e35cd-f9a4-4aca-a515-e6471f674614",
   "metadata": {},
   "outputs": [
    {
     "data": {
      "text/plain": [
       "np.int64(62)"
      ]
     },
     "execution_count": 110,
     "metadata": {},
     "output_type": "execute_result"
    }
   ],
   "source": [
    "sum((difficulty_array > 0.9) & (difficulty_array <= 1.0))"
   ]
  },
  {
   "cell_type": "code",
   "execution_count": 111,
   "id": "5dba7da9-ab24-4b23-9ad9-37ea0a29ccac",
   "metadata": {},
   "outputs": [
    {
     "data": {
      "text/plain": [
       "np.float64(0.10787421694691723)"
      ]
     },
     "execution_count": 111,
     "metadata": {},
     "output_type": "execute_result"
    }
   ],
   "source": [
    "difficulty_array.mean()"
   ]
  },
  {
   "cell_type": "code",
   "execution_count": null,
   "id": "549081bd-9378-4a82-949e-c23b4aaed1e6",
   "metadata": {},
   "outputs": [],
   "source": []
  },
  {
   "cell_type": "code",
   "execution_count": 149,
   "id": "365e4b5a-690e-4221-8059-2e17563da690",
   "metadata": {},
   "outputs": [],
   "source": [
    "# Test set, trained gen 1"
   ]
  },
  {
   "cell_type": "code",
   "execution_count": null,
   "id": "9256dcc1-de2c-4404-a3c4-d31ac931ad0c",
   "metadata": {},
   "outputs": [],
   "source": []
  },
  {
   "cell_type": "code",
   "execution_count": 150,
   "id": "eb350c01-9249-414d-b06e-45d64dd16eef",
   "metadata": {},
   "outputs": [
    {
     "name": "stdout",
     "output_type": "stream",
     "text": [
      "[0.  0.  0.  ... 0.  0.6 0. ]\n"
     ]
    }
   ],
   "source": [
    "difficulty_array = []\n",
    "for k in range(len(alice_bob_summary_datset)):\n",
    "    row = [1.0-list(alice_bob_summary_datset[k]['correct_programs_summary'].values())[i]['bob_fraction_correct_eval_diverging_input_examples'] for i in range(len(alice_bob_summary_datset[k]['correct_programs_summary'].values()))]\n",
    "    difficulty_array.extend(row)\n",
    "difficulty_array = np.array(difficulty_array)\n",
    "print(difficulty_array)"
   ]
  },
  {
   "cell_type": "code",
   "execution_count": 151,
   "id": "9d616517-f253-4216-98e7-aa889e716848",
   "metadata": {},
   "outputs": [],
   "source": [
    "import matplotlib.pyplot as plt"
   ]
  },
  {
   "cell_type": "code",
   "execution_count": 152,
   "id": "5b6f4983-e274-46b3-b77d-6b815ba63224",
   "metadata": {},
   "outputs": [
    {
     "data": {
      "text/plain": [
       "(array([2846.,  117.,   11.,   91.,   70.,   95.,   30.,    0.,   38.,\n",
       "          72.]),\n",
       " array([0. , 0.1, 0.2, 0.3, 0.4, 0.5, 0.6, 0.7, 0.8, 0.9, 1. ]),\n",
       " <BarContainer object of 10 artists>)"
      ]
     },
     "execution_count": 152,
     "metadata": {},
     "output_type": "execute_result"
    },
    {
     "data": {
      "image/png": "[encoded data removed]",
      "text/plain": [
       "<Figure size 640x480 with 1 Axes>"
      ]
     },
     "metadata": {},
     "output_type": "display_data"
    }
   ],
   "source": [
    "plt.hist(difficulty_array, bins=10, edgecolor='black')"
   ]
  },
  {
   "cell_type": "code",
   "execution_count": 153,
   "id": "12de5236-e6ee-43d9-8127-5aa67e4d7a52",
   "metadata": {},
   "outputs": [
    {
     "data": {
      "text/plain": [
       "np.int64(38)"
      ]
     },
     "execution_count": 153,
     "metadata": {},
     "output_type": "execute_result"
    }
   ],
   "source": [
    "sum((difficulty_array > 0.9) & (difficulty_array <= 1.0))"
   ]
  },
  {
   "cell_type": "code",
   "execution_count": 154,
   "id": "4f68afc0-c006-472e-ab26-8f1f3d8a6b02",
   "metadata": {},
   "outputs": [
    {
     "data": {
      "text/plain": [
       "np.float64(0.08166219207762235)"
      ]
     },
     "execution_count": 154,
     "metadata": {},
     "output_type": "execute_result"
    }
   ],
   "source": [
    "difficulty_array.mean()"
   ]
  },
  {
   "cell_type": "code",
   "execution_count": null,
   "id": "20bc6f54-de4b-4e93-9cff-2ee3058c33f2",
   "metadata": {},
   "outputs": [],
   "source": []
  },
  {
   "cell_type": "code",
   "execution_count": null,
   "id": "a64385cf-5329-4547-88a2-ea65bc2469d7",
   "metadata": {},
   "outputs": [],
   "source": []
  },
  {
   "cell_type": "code",
   "execution_count": 423,
   "id": "d9ac578a-96e8-40b7-ad13-9c8e3667bb3a",
   "metadata": {},
   "outputs": [],
   "source": [
    "# Create finetuning files for Alice"
   ]
  },
  {
   "cell_type": "code",
   "execution_count": 479,
   "id": "a25c0470-f48d-444b-b00d-6d1f805d8163",
   "metadata": {},
   "outputs": [],
   "source": [
    "finetuning_data_round = 2"
   ]
  },
  {
   "cell_type": "code",
   "execution_count": 480,
   "id": "f64586e5-0905-4528-82ae-f211a85dd28c",
   "metadata": {},
   "outputs": [],
   "source": [
    "# if previous round, load data\n",
    "if finetuning_data_round < round_n:\n",
    "    summary_filename = f\"./alice_bob_summary_round_{finetuning_data_round}.jsonl\"\n",
    "    alice_bob_summary_datset = []\n",
    "    with open(summary_filename, \"r\") as in_fs:\n",
    "        for line in in_fs:\n",
    "            alice_bob_summary_datset.append(json.loads(line.strip()))"
   ]
  },
  {
   "cell_type": "code",
   "execution_count": 481,
   "id": "6f17e6ab-34c7-402a-ae44-82224a597c5f",
   "metadata": {},
   "outputs": [],
   "source": [
    "alice_finetuning_examples_by_difficulty = defaultdict(list)\n",
    "for k in range(len(alice_bob_summary_datset)):\n",
    "    example = alice_bob_summary_datset[k]\n",
    "    correct_programs_summary = example['correct_programs_summary']\n",
    "    for generated_program, v in correct_programs_summary.items():\n",
    "        difficulty = int(10.0 * (1-v['bob_fraction_correct_eval_diverging_input_examples']))\n",
    "        x = {\"code\": example[\"code\"],\n",
    "             \"function_name\": example[\"function_name\"]}\n",
    "        assert (len(v['alice_llm_responses']) == 1)\n",
    "        x['target_llm_response'] = v['alice_llm_responses'][0]\n",
    "        x['difficulty_level'] = difficulty\n",
    "        alice_finetuning_examples_by_difficulty[difficulty].append(x)"
   ]
  },
  {
   "cell_type": "code",
   "execution_count": 483,
   "id": "f0c000ca-c654-425a-9cb0-f5ca9dadbd1d",
   "metadata": {},
   "outputs": [],
   "source": [
    "# Dataset rebalancing\n",
    "# downsample the most common difficulty level (usually 0) to the second most common\n",
    "# upsample the most rare difficulty level (usually 10) to the second most rare\n",
    "\n",
    "#rebalanced_alice_finetuning_examples_by_difficulty = alice_finetuning_examples_by_difficulty.copy()\n",
    "#difficulty_levels_sorted_by_freq = sorted([(d, len(v)) for d, v in alice_finetuning_examples_by_difficulty.items()], key=lambda x: x[1])\n",
    "#if len(difficulty_levels_sorted_by_freq) > 2:\n",
    "#    resampled_largest  =  random.sample(alice_finetuning_examples_by_difficulty[difficulty_levels_sorted_by_freq[-1][0]], difficulty_levels_sorted_by_freq[-2][1])\n",
    "#    resampled_smallest = random.choices(alice_finetuning_examples_by_difficulty[difficulty_levels_sorted_by_freq[0][0]], k=difficulty_levels_sorted_by_freq[1][1])\n",
    "#    rebalanced_alice_finetuning_examples_by_difficulty[difficulty_levels_sorted_by_freq[-1][0]] = resampled_largest\n",
    "#    rebalanced_alice_finetuning_examples_by_difficulty[difficulty_levels_sorted_by_freq[0][0]] = resampled_smallest\n",
    "#\n",
    "#rebalanced_alice_finetuning_examples = []\n",
    "#for v in rebalanced_alice_finetuning_examples_by_difficulty.values():\n",
    "#    rebalanced_alice_finetuning_examples.extend(v)\n",
    "#random.shuffle(rebalanced_alice_finetuning_examples)"
   ]
  },
  {
   "cell_type": "code",
   "execution_count": 484,
   "id": "084e38cc-31a9-42d6-a3bf-917998986ee5",
   "metadata": {},
   "outputs": [
    {
     "name": "stdout",
     "output_type": "stream",
     "text": [
      "Original examples: 2198, easy: 1932, hard: 266\n",
      "Rebalanced examples: 295, easy: 29, hard: 266\n"
     ]
    }
   ],
   "source": [
    "def rebalance_dataset(dataset_by_difficulty, difficulty_level_theshold=5, easy_examples_fraction=0.1):\n",
    "    rebalanced_dataset_by_difficulty = defaultdict(list)\n",
    "    num_hard_examples = 0\n",
    "    num_easy_examples = 0\n",
    "    easy_examples = defaultdict(list)\n",
    "    for d, v in dataset_by_difficulty.items():\n",
    "        if d >= difficulty_level_theshold:\n",
    "            num_hard_examples += len(v)\n",
    "            rebalanced_dataset_by_difficulty[d] = v\n",
    "        else:\n",
    "            num_easy_examples += len(v)\n",
    "    hard_examples_fraction = 1.0 - easy_examples_fraction\n",
    "    num_easy_examples_to_add = int((easy_examples_fraction/hard_examples_fraction) * num_hard_examples)\n",
    "    num_easy_examples_to_add = min(num_easy_examples_to_add, num_easy_examples)\n",
    "    print(f\"Original examples: {num_hard_examples + num_easy_examples}, easy: {num_easy_examples}, hard: {num_hard_examples}\")\n",
    "    print(f\"Rebalanced examples: {num_hard_examples+num_easy_examples_to_add}, easy: {num_easy_examples_to_add}, hard: {num_hard_examples}\")\n",
    "\n",
    "    # go in a round robin way through difficulty levels\n",
    "    d = difficulty_level_theshold - 1\n",
    "    while (num_easy_examples_to_add > 0):\n",
    "        if d < 0:\n",
    "            d = difficulty_level_theshold - 1\n",
    "        if len(easy_examples[d]) == 0:\n",
    "            v = dataset_by_difficulty[d]\n",
    "            if len(v) == 0:\n",
    "                d -= 1\n",
    "                continue\n",
    "            v = v.copy()\n",
    "            random.shuffle(v)\n",
    "            easy_examples[d] = v\n",
    "        example = easy_examples[d].pop()\n",
    "        rebalanced_dataset_by_difficulty[d].append(example)\n",
    "        num_easy_examples_to_add -= 1\n",
    "        d -= 1\n",
    "\n",
    "    rebalanced_dataset = []\n",
    "    for v in rebalanced_dataset_by_difficulty.values():\n",
    "        rebalanced_dataset.extend(v)\n",
    "    random.shuffle(rebalanced_dataset)\n",
    "    return rebalanced_dataset_by_difficulty, rebalanced_dataset\n",
    "\n",
    "# More aggressive dataset rebalancing\n",
    "# downsample examples of difficulty below 5 to 1/10 of the dataset\n",
    "\n",
    "rebalanced_alice_finetuning_examples_by_difficulty, rebalanced_alice_finetuning_examples = rebalance_dataset(alice_finetuning_examples_by_difficulty)"
   ]
  },
  {
   "cell_type": "code",
   "execution_count": 485,
   "id": "d4f14df0-6b10-4d65-aa9f-b8505d88f895",
   "metadata": {},
   "outputs": [],
   "source": [
    "rebalanced_difficulty_array = np.array([example[\"difficulty_level\"] for example in rebalanced_alice_finetuning_examples])"
   ]
  },
  {
   "cell_type": "code",
   "execution_count": 486,
   "id": "2022fb09-9426-458e-accf-6332f60ac817",
   "metadata": {},
   "outputs": [
    {
     "data": {
      "text/plain": [
       "np.float64(6.606779661016949)"
      ]
     },
     "execution_count": 486,
     "metadata": {},
     "output_type": "execute_result"
    }
   ],
   "source": [
    "rebalanced_difficulty_array.mean()"
   ]
  },
  {
   "cell_type": "code",
   "execution_count": 487,
   "id": "e2d02133-ad01-4331-b571-bda22430aa2a",
   "metadata": {},
   "outputs": [
    {
     "data": {
      "text/plain": [
       "(array([ 5.,  6.,  6.,  6.,  6., 60., 48., 60., 37., 61.]),\n",
       " array([ 0.,  1.,  2.,  3.,  4.,  5.,  6.,  7.,  8.,  9., 10.]),\n",
       " <BarContainer object of 10 artists>)"
      ]
     },
     "execution_count": 487,
     "metadata": {},
     "output_type": "execute_result"
    },
    {
     "data": {
      "image/png": "[encoded data removed]",
      "text/plain": [
       "<Figure size 640x480 with 1 Axes>"
      ]
     },
     "metadata": {},
     "output_type": "display_data"
    }
   ],
   "source": [
    "plt.hist(rebalanced_difficulty_array, bins=10, edgecolor='black')"
   ]
  },
  {
   "cell_type": "code",
   "execution_count": 488,
   "id": "b95fc5f3-2e79-497d-b69f-f4b9f34884d4",
   "metadata": {},
   "outputs": [
    {
     "name": "stdout",
     "output_type": "stream",
     "text": [
      "Original examples: 2198, easy: 1932, hard: 266\n",
      "Rebalanced examples: 532, easy: 266, hard: 266\n"
     ]
    }
   ],
   "source": [
    "_, rebalanced_alice_finetuning_examples_for_difficulty_prediction = rebalance_dataset(alice_finetuning_examples_by_difficulty, easy_examples_fraction=0.5)"
   ]
  },
  {
   "cell_type": "code",
   "execution_count": 489,
   "id": "ba6967c8-059c-4055-81b8-1f76762fa779",
   "metadata": {},
   "outputs": [],
   "source": [
    "finetuning_for_alice_system_message = \\\n",
    "\"\"\"You are an expert computer scientist. Your task is to take a Python 3.10 program and write a similar program which is not semantically equivalent, which means that there must exist at least a diverging input example such that the original program and your program either produce different outputs or exceptions, or one halts and the other one does not halt. In addition to a program, you need to produce a diverging input example. Start by carefully analyzing the original program and think of how an example would propagate through it from the input to the return value, considering how to modify the program in order to elicit a different behavior. Make sure that the return values or exceptions raised by your program are picklable.\n",
    "The original program and your program will be used in a test to evaluate the skill of an expert computer scientist who will have to produce a diverging example (not necessarily the same as yours), so make sure that the difference you introduce are not very easy to understand. You will be given a difficulty level from 0 (easiest) to 10 (hardest) to target. E.g. difficulty level 0 means that an expert computer scientist in the bottom decile or above should be able to find a diverging example, difficulty level 9 means that only an expert computer scientist in the top decile should be able to find a diverging example, and difficulty level 10 means that only the top 1% or less of expert computer scientists should be able to find a diverging example.\n",
    "Think step by step before writing your program. Use the following Markdown format, making sure that the following sections are delimited by level 1 headings, since they will have to be automatically parsed:\n",
    "# Analysis\n",
    "step by step analysis. This section can include sub-headings and code blocks\n",
    "# Generated program\n",
    "your program inside a Python code block. Do not change the name or signature of the entry point function\n",
    "# Diverging input example\n",
    "your diverging input example as a Python dictionary inside a Python code block\n",
    "For instance, if the entry point function takes two parameters a and b and your diverging example is a=\"foo\" and b=42, write:\n",
    "```python\n",
    "{\n",
    "  \"a\": \"foo\",\n",
    "  \"b\": 42\n",
    "}\n",
    "```\n",
    "do not write the expected outputs\n",
    "\"\"\"\n",
    "\n",
    "def finetuning_for_alice_user_message_fn_0(example, difficulty_level=None):\n",
    "    if difficulty_level == None:\n",
    "        difficulty_level = example[\"difficulty_level\"]\n",
    "    return f\"\"\"Difficulty level: {difficulty_level}\n",
    "Entry point function: {example[\"function_name\"]}\n",
    "\n",
    "```python\n",
    "{example[\"code\"]}\n",
    "```\"\"\"\n",
    "\n",
    "def finetuning_for_alice_assistant_message_fn_0(example):\n",
    "    return example[\"target_llm_response\"]\n",
    "\n",
    "finetuning_for_alice_for_difficulty_prediction_user_message_1 = \"\"\"Predict the difficulty level of the instance. Just write \"Difficulty level: D\" where D is your prediction, do not write anything else.\"\"\"\n",
    "\n",
    "def finetuning_for_alice_for_difficulty_prediction_assistant_message_fn_1(example):\n",
    "    return f\"\"\"Difficulty level: {example[\"difficulty_level\"]}\"\"\""
   ]
  },
  {
   "cell_type": "code",
   "execution_count": 490,
   "id": "14e4c4e9-466b-4771-a895-52bf330512d1",
   "metadata": {},
   "outputs": [],
   "source": [
    "finetuning_for_alice_run_n = 0\n",
    "#finetuning_for_alice_run_n = 1\n",
    "#finetuning_for_alice_run_n = 2\n",
    "finetuning_for_alice_filename = f\"./finetuning_data_for_alice/finetuning_data_for_alice_{finetuning_data_round}_train_{finetuning_for_alice_run_n}.jsonl\""
   ]
  },
  {
   "cell_type": "code",
   "execution_count": 491,
   "id": "cd7944d8-e4ae-44ca-8c8a-253fc141480f",
   "metadata": {},
   "outputs": [],
   "source": [
    "add_difficulty_prediction_examples = True\n",
    "\n",
    "with open(finetuning_for_alice_filename, \"w\") as out_fs:\n",
    "    for example in rebalanced_alice_finetuning_examples:\n",
    "        messages = [{\"role\": \"system\", \"content\": finetuning_for_alice_system_message}, \n",
    "                    {\"role\": \"user\", \"content\": finetuning_for_alice_user_message_fn_0(example)},\n",
    "                    {\"role\": \"assistant\", \"content\": finetuning_for_alice_assistant_message_fn_0(example)}]\n",
    "        example_dict = {\"messages\": messages}\n",
    "        print(json.dumps(example_dict), file=out_fs)\n",
    "    if add_difficulty_prediction_examples:\n",
    "        for example in rebalanced_alice_finetuning_examples_for_difficulty_prediction:\n",
    "            messages = [{\"role\": \"system\", \"content\": finetuning_for_alice_system_message}, \n",
    "                        {\"role\": \"user\", \"content\": finetuning_for_alice_user_message_fn_0(example, difficulty_level=\"Any\")},\n",
    "                        {\"role\": \"assistant\", \"content\": finetuning_for_alice_assistant_message_fn_0(example), \"weight\": 0},\n",
    "                        {\"role\": \"user\", \"content\": finetuning_for_alice_for_difficulty_prediction_user_message_1},\n",
    "                        {\"role\": \"assistant\", \"content\": finetuning_for_alice_for_difficulty_prediction_assistant_message_fn_1(example)}]\n",
    "            example_dict = {\"messages\": messages}\n",
    "            print(json.dumps(example_dict), file=out_fs)"
   ]
  },
  {
   "cell_type": "code",
   "execution_count": null,
   "id": "d1e640e4-df76-44ff-8330-2fa55c22ca5d",
   "metadata": {},
   "outputs": [],
   "source": []
  },
  {
   "cell_type": "code",
   "execution_count": 492,
   "id": "d7dc0788-3a72-4195-9e1a-5eb5584d9cab",
   "metadata": {},
   "outputs": [
    {
     "name": "stdout",
     "output_type": "stream",
     "text": [
      "Num examples: 827\n",
      "First example:\n",
      "{'role': 'system', 'content': 'You are an expert computer scientist. Your task is to take a Python 3.10 program and write a similar program which is not semantically equivalent, which means that there must exist at least a diverging input example such that the original program and your program either produce different outputs or exceptions, or one halts and the other one does not halt. In addition to a program, you need to produce a diverging input example. Start by carefully analyzing the original program and think of how an example would propagate through it from the input to the return value, considering how to modify the program in order to elicit a different behavior. Make sure that the return values or exceptions raised by your program are picklable.\\nThe original program and your program will be used in a test to evaluate the skill of an expert computer scientist who will have to produce a diverging example (not necessarily the same as yours), so make sure that the difference you introduce are not very easy to understand. You will be given a difficulty level from 0 (easiest) to 10 (hardest) to target. E.g. difficulty level 0 means that an expert computer scientist in the bottom decile or above should be able to find a diverging example, difficulty level 9 means that only an expert computer scientist in the top decile should be able to find a diverging example, and difficulty level 10 means that only the top 1% or less of expert computer scientists should be able to find a diverging example.\\nThink step by step before writing your program. Use the following Markdown format, making sure that the following sections are delimited by level 1 headings, since they will have to be automatically parsed:\\n# Analysis\\nstep by step analysis. This section can include sub-headings and code blocks\\n# Generated program\\nyour program inside a Python code block. Do not change the name or signature of the entry point function\\n# Diverging input example\\nyour diverging input example as a Python dictionary inside a Python code block\\nFor instance, if the entry point function takes two parameters a and b and your diverging example is a=\"foo\" and b=42, write:\\n```python\\n{\\n  \"a\": \"foo\",\\n  \"b\": 42\\n}\\n```\\ndo not write the expected outputs\\n'}\n",
      "{'role': 'user', 'content': \"Difficulty level: 7\\nEntry point function: lower_ctr\\n\\n```python\\ndef lower_ctr(str):\\r\\n      lower_ctr= 0\\r\\n      for i in range(len(str)):\\r\\n          if str[i] >= 'a' and str[i] <= 'z': lower_ctr += 1     \\r\\n      return  lower_ctr\\n```\"}\n",
      "{'role': 'assistant', 'content': '# Analysis\\nThe original function `lower_ctr` counts the number of lowercase letters in a given string. It iterates through each character in the string and checks if it falls within the ASCII range of lowercase letters (\\'a\\' to \\'z\\'). \\n\\nTo create a semantically different program, I will introduce a condition that alters the counting mechanism. Instead of counting all lowercase letters, I will modify the program to count only those lowercase letters that are followed by another lowercase letter. This change will introduce a dependency on the position of the characters in the string, which can lead to different outputs for certain inputs.\\n\\n### Key Changes\\n1. Instead of counting every lowercase letter, the modified program will count a lowercase letter only if the next character is also a lowercase letter.\\n2. This introduces a scenario where the output can diverge significantly based on the input string\\'s composition.\\n\\n### Diverging Input Example\\nFor the input string \"abcDefg\", the original function would return 3 (for \\'a\\', \\'b\\', and \\'c\\'), while the modified function would return 2 (for \\'b\\' and \\'c\\', since \\'a\\' is not followed by a lowercase letter and \\'D\\' is uppercase).\\n\\n# Generated program\\n```python\\ndef lower_ctr(str):\\n    lower_ctr = 0\\n    for i in range(len(str) - 1):  # Iterate until the second last character\\n        if \\'a\\' <= str[i] <= \\'z\\' and \\'a\\' <= str[i + 1] <= \\'z\\':\\n            lower_ctr += 1\\n    # Check the last character separately\\n    if \\'a\\' <= str[-1] <= \\'z\\':\\n        lower_ctr += 1  # Count last character if it\\'s lowercase\\n    return lower_ctr\\n```\\n\\n# Diverging input example\\n```python\\n{\\n  \"str\": \"abcDefg\"\\n}\\n```'}\n"
     ]
    }
   ],
   "source": [
    "# Validate fine-tuning data files\n",
    "\n",
    "data_path = finetuning_for_alice_filename\n",
    "\n",
    "with open(data_path, 'r', encoding='utf-8') as f:\n",
    "    finetune_dataset = [json.loads(line) for line in f]\n",
    "\n",
    "# Initial dataset stats\n",
    "print(\"Num examples:\", len(finetune_dataset))\n",
    "print(\"First example:\")\n",
    "for message in finetune_dataset[0][\"messages\"]:\n",
    "    print(message)"
   ]
  },
  {
   "cell_type": "code",
   "execution_count": 493,
   "id": "7e62dbc9-c565-41fb-9b25-a5aa5163b5ce",
   "metadata": {},
   "outputs": [],
   "source": [
    "from openai import OpenAI\n",
    "\n",
    "oai_key_file = \"../oai_key\"\n",
    "\n",
    "if os.environ.get(\"OPENAI_API_KEY\", \"\") == \"\":\n",
    "    with open(oai_key_file, \"r\") as in_fs:\n",
    "        os.environ[\"OPENAI_API_KEY\"] = in_fs.read().strip()"
   ]
  },
  {
   "cell_type": "code",
   "execution_count": 494,
   "id": "48bbb29d-5eec-43b0-a18c-fd69e77d3e48",
   "metadata": {},
   "outputs": [],
   "source": [
    "# Upload fine-tuning data files to OpenAI\n",
    "\n",
    "with open(finetuning_for_alice_filename, \"rb\") as in_fs:\n",
    "    client = OpenAI()\n",
    "    client.files.create(file=in_fs, purpose=\"fine-tune\")"
   ]
  },
  {
   "cell_type": "code",
   "execution_count": null,
   "id": "6a636c8e-a611-404b-8d6e-df7818eb17db",
   "metadata": {},
   "outputs": [],
   "source": []
  },
  {
   "cell_type": "code",
   "execution_count": null,
   "id": "636c4908-a2c2-4bbe-85d7-aa73f87d98d5",
   "metadata": {},
   "outputs": [],
   "source": [
    "for i, example in enumerate(data):\n",
    "    if (len(example[\"test_correct_programs\"]) > 0) and (example[\"raw_programs\"][0].startswith(\"#\")):\n",
    "        print(data[i][\"text\"])\n",
    "        print(data[i][\"code\"])\n",
    "        print(data[i][\"test_correct_programs\"][0])\n",
    "        print(\"=======\\n\")"
   ]
  },
  {
   "cell_type": "code",
   "execution_count": null,
   "id": "f01ceff1-56d7-4e7a-833f-03271a8fedd2",
   "metadata": {},
   "outputs": [],
   "source": []
  },
  {
   "cell_type": "code",
   "execution_count": 422,
   "id": "5d1768a7-da23-4f50-9eeb-b82d755e70ef",
   "metadata": {},
   "outputs": [
    {
     "name": "stdout",
     "output_type": "stream",
     "text": [
      "role\n",
      "system\n",
      "content\n",
      "You are an expert computer scientist. Your task is to take a Python 3.10 program and write a similar program which is not semantically equivalent, which means that there must exist at least a diverging input example such that the original program and your program either produce different outputs or exceptions, or one halts and the other one does not halt. In addition to a program, you need to produce a diverging input example. Start by carefully analyzing the original program and think of how an example would propagate through it from the input to the return value, considering how to modify the program in order to elicit a different behavior. Make sure that the return values or exceptions raised by your program are picklable.\n",
      "The original program and your program will be used in a test to evaluate the skill of an expert computer scientist who will have to produce a diverging example (not necessarily the same as yours), so make sure that the difference you introduce are not very easy to understand. You will be given a difficulty level from 0 (easiest) to 10 (hardest) to target. E.g. difficulty level 0 means that an expert computer scientist in the bottom decile or above should be able to find a diverging example, difficulty level 9 means that only an expert computer scientist in the top decile should be able to find a diverging example, and difficulty level 10 means that only the top 1% or less of expert computer scientists should be able to find a diverging example.\n",
      "Think step by step before writing your program. Use the following Markdown format, making sure that the following sections are delimited by level 1 headings, since they will have to be automatically parsed:\n",
      "# Analysis\n",
      "step by step analysis. This section can include sub-headings and code blocks\n",
      "# Generated program\n",
      "your program inside a Python code block. Do not change the name or signature of the entry point function\n",
      "# Diverging input example\n",
      "your diverging input example as a Python dictionary inside a Python code block\n",
      "For instance, if the entry point function takes two parameters a and b and your diverging example is a=\"foo\" and b=42, write:\n",
      "```python\n",
      "{\n",
      "  \"a\": \"foo\",\n",
      "  \"b\": 42\n",
      "}\n",
      "```\n",
      "do not write the expected outputs\n",
      "\n",
      "role\n",
      "user\n",
      "content\n",
      "Difficulty level: Any\n",
      "Entry point function: check\n",
      "\n",
      "```python\n",
      "def check(string): \n",
      "  if len(set(string).intersection(\"AEIOUaeiou\"))>=5: \n",
      "    return ('accepted') \n",
      "  else: \n",
      "    return (\"not accepted\") \n",
      "```\n",
      "role\n",
      "assistant\n",
      "content\n",
      "# Analysis\n",
      "The original program `check` takes a string as input and checks if the number of unique vowels in the string is at least 5. If it is, the function returns 'accepted'; otherwise, it returns 'not accepted'.\n",
      "\n",
      "To create a semantically different program, I will modify the logic of how the vowels are counted or introduce additional conditions that change the output based on the input. \n",
      "\n",
      "One approach could be to check for a different number of unique characters instead of just vowels, or to introduce a condition that could cause the program to behave differently based on certain input characteristics. For example, I could introduce a condition that checks for the presence of a specific character or a substring, and if that condition is met, it would alter the counting of vowels or the final output.\n",
      "\n",
      "Another possibility is to change the function to return a numeric value based on the number of unique vowels, which would also diverge from the original output type.\n",
      "\n",
      "## Changes to introduce:\n",
      "1. Instead of checking for vowels, I will check for consonants.\n",
      "2. I will change the condition to return a different message if the input string contains a specific character, say 'X'.\n",
      "3. I will also return the count of unique consonants instead of just a message.\n",
      "\n",
      "This way, the new function will have a different logic path, and it will also produce a different output based on the same input.\n",
      "\n",
      "# Generated program\n",
      "```python\n",
      "def check(string): \n",
      "    if 'X' in string:\n",
      "        return 'special case'\n",
      "    elif len(set(string).intersection(\"bcdfghjklmnpqrstvwxyzBCDFGHJKLMNPQRSTVWXYZ\")) >= 5:\n",
      "        return ('unique consonants: ' + str(len(set(string).intersection(\"bcdfghjklmnpqrstvwxyzBCDFGHJKLMNPQRSTVWXYZ\"))))\n",
      "    else: \n",
      "        return (\"not accepted\") \n",
      "```\n",
      "\n",
      "# Diverging input example\n",
      "```python\n",
      "{\n",
      "  \"string\": \"A quick brown fox jumps over the lazy dog with X\"\n",
      "}\n",
      "```\n",
      "weight\n",
      "0\n",
      "role\n",
      "user\n",
      "content\n",
      "Predict the difficulty level of the instance. Just write \"Difficulty level: D\" where D is your prediction, do not write anything else.\n",
      "role\n",
      "assistant\n",
      "content\n",
      "Difficulty level: 1\n"
     ]
    }
   ],
   "source": [
    "for message in finetune_dataset[-1][\"messages\"]:\n",
    "    for k,v in message.items():\n",
    "        print(k)\n",
    "        print(v)"
   ]
  },
  {
   "cell_type": "code",
   "execution_count": null,
   "id": "56b7026b-8ee9-474b-b2e0-862c8aa4f4de",
   "metadata": {},
   "outputs": [],
   "source": []
  }
 ],
 "metadata": {
  "kernelspec": {
   "display_name": "Python 3 (ipykernel)",
   "language": "python",
   "name": "python3"
  },
  "language_info": {
   "codemirror_mode": {
    "name": "ipython",
    "version": 3
   },
   "file_extension": ".py",
   "mimetype": "text/x-python",
   "name": "python",
   "nbconvert_exporter": "python",
   "pygments_lexer": "ipython3",
   "version": "3.10.15"
  }
 },
 "nbformat": 4,
 "nbformat_minor": 5
}
