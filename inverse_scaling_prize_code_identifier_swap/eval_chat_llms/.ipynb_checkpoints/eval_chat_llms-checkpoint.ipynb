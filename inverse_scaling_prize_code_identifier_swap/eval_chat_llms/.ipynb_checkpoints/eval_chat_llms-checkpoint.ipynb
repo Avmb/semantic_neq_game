{
 "cells": [
  {
   "cell_type": "code",
   "execution_count": 15,
   "id": "5d64b071",
   "metadata": {},
   "outputs": [],
   "source": [
    "import sys, os\n",
    "from collections import namedtuple\n",
    "import csv\n",
    "import ast\n",
    "import re\n",
    "import math\n",
    "\n",
    "from tqdm import tqdm\n",
    "\n",
    "import openai, anthropic\n",
    "import backoff\n",
    "import tiktoken\n",
    "\n",
    "from langchain.chat_models import ChatOpenAI\n",
    "from langchain.chat_models import ChatAnthropic\n",
    "from langchain.chat_models import ChatFireworks\n",
    "from langchain.prompts.chat import (\n",
    "    ChatPromptTemplate,\n",
    "    SystemMessagePromptTemplate,\n",
    "    AIMessagePromptTemplate,\n",
    "    HumanMessagePromptTemplate,\n",
    ")\n",
    "from langchain.schema import (\n",
    "    AIMessage,\n",
    "    HumanMessage,\n",
    "    SystemMessage\n",
    ")\n",
    "\n",
    "import mistune"
   ]
  },
  {
   "cell_type": "code",
   "execution_count": 2,
   "id": "624310d7-4d30-48df-802f-230f3cb5d288",
   "metadata": {},
   "outputs": [
    {
     "data": {
      "text/plain": [
       "<module 'langchain' from '/mnt/lofn0/amiceli/adversarial_code_gen/surtr-env/lib/python3.10/site-packages/langchain/__init__.py'>"
      ]
     },
     "execution_count": 2,
     "metadata": {},
     "output_type": "execute_result"
    }
   ],
   "source": [
    "import importlib\n",
    "\n",
    "importlib.reload(openai)\n",
    "import langchain\n",
    "import langchain.chat_models\n",
    "importlib.reload(langchain)"
   ]
  },
  {
   "cell_type": "code",
   "execution_count": null,
   "id": "563fa627-ee57-46c8-828f-25f7d642f6d2",
   "metadata": {},
   "outputs": [],
   "source": []
  },
  {
   "cell_type": "code",
   "execution_count": 26,
   "id": "1d4f2d0b",
   "metadata": {},
   "outputs": [],
   "source": [
    "oai_api_key_file =       \"path/to/openai_key\"\n",
    "fireworks_api_key_file =       \"path/to/fireworks_key\"\n",
    "\n",
    "with open(oai_api_key_file, \"r\") as api_key_fs:\n",
    "    os.environ[\"OPENAI_API_KEY\"] = api_key_fs.read().strip()\n",
    "    \n",
    "with open(fireworks_api_key_file, \"r\") as api_key_fs:\n",
    "    os.environ[\"FIREWORKS_API_KEY\"] = api_key_fs.read().strip()"
   ]
  },
  {
   "cell_type": "code",
   "execution_count": 4,
   "id": "b8325105-b474-4116-8574-4a9c916293b8",
   "metadata": {},
   "outputs": [],
   "source": [
    "# change accordingly\n",
    "fireworks_account_name = \"fireworks_account_name\"\n",
    "fireworks_deepseek_r1_distill_llama_7b_model_id=\"ID\"\n",
    "fireworks_deepseek_r1_distill_llama_7b_finetuned_model_fullpath=\"accounts/fireworks_account_name/deployedModels/ft-sineq-deepseek-r1-distill-llama-70b-ID\""
   ]
  },
  {
   "cell_type": "code",
   "execution_count": 5,
   "id": "bfd3ee1a",
   "metadata": {},
   "outputs": [],
   "source": [
    "test_set_file = \"../cc_4_0_licensed/python_builtins_swap.csv\" # Path to test set"
   ]
  },
  {
   "cell_type": "code",
   "execution_count": 6,
   "id": "f58467d7",
   "metadata": {},
   "outputs": [],
   "source": [
    "test_set = []\n",
    "with open(test_set_file, \"r\") as in_fs:\n",
    "    reader = csv.reader(in_fs)\n",
    "    for i, row in enumerate(reader):\n",
    "        if i == 0:\n",
    "            continue # skip header\n",
    "        example = {\"prompt\": row[0], \"classes\": ast.literal_eval(row[1]), \"answer_index\": int(row[2])}\n",
    "        test_set.append(example)"
   ]
  },
  {
   "cell_type": "code",
   "execution_count": 7,
   "id": "5700c058",
   "metadata": {},
   "outputs": [],
   "source": [
    "prompt_template = \\\n",
    "\"\"\"\n",
    "Consider the following Python programs:\n",
    "\n",
    "Program 1:\n",
    "\n",
    "{program_1}\n",
    "\n",
    "Program 2:\n",
    "\n",
    "{program_2}\n",
    "\n",
    "Which program is more likely to be correct? Write only the number of the program and nothing else.\n",
    "\"\"\"\n",
    "\n",
    "prompt_template_cot = \\\n",
    "\"\"\"\n",
    "Consider the following Python programs:\n",
    "\n",
    "Program 1:\n",
    "\n",
    "{program_1}\n",
    "\n",
    "Program 2:\n",
    "\n",
    "{program_2}\n",
    "\n",
    "Which program is more likely to be correct? Think step by step and answer with the number of the program.\n",
    "\"\"\"\n",
    "\n",
    "prompt_template_deepseek_r1 = \\\n",
    "\"\"\"\n",
    "Consider the following Python programs:\n",
    "\n",
    "Program 1:\n",
    "\n",
    "{program_1}\n",
    "\n",
    "Program 2:\n",
    "\n",
    "{program_2}\n",
    "\n",
    "Which program is more likely to be correct? Answer with the number of the program. \"\"\""
   ]
  },
  {
   "cell_type": "code",
   "execution_count": 8,
   "id": "43c2dcca",
   "metadata": {},
   "outputs": [],
   "source": [
    "batch_size = 20 # note: actual submitted batches are twice as big since each example is sumbitted in two variants\n",
    "max_tokens_per_example = 16000 # Computed using tiktoken, not including the system prompt, assuming gpt-4o-mini-2024-07-18"
   ]
  },
  {
   "cell_type": "code",
   "execution_count": 9,
   "id": "08771c15",
   "metadata": {},
   "outputs": [],
   "source": [
    "tokenizer = tiktoken.encoding_for_model('gpt-4o-mini')"
   ]
  },
  {
   "cell_type": "code",
   "execution_count": 10,
   "id": "c1105335",
   "metadata": {},
   "outputs": [],
   "source": [
    "@backoff.on_exception(backoff.expo, Exception)\n",
    "def chat_llm_batch(chat_model, batch_messages, **kwargs):\n",
    "    try:\n",
    "        return chat_model.generate(batch_messages, **kwargs)\n",
    "    except Exception as exc:\n",
    "        print(exc, file=sys.stderr)\n",
    "        raise(exc)\n",
    "\n",
    "def eval_chat_model_batch(chat_model, batch, switch_order):\n",
    "    b_accuracy, b_num_valid = 0, 0\n",
    "    batch_messages = []\n",
    "    y_batch = []\n",
    "    for example in batch:\n",
    "        y = example[\"answer_index\"]\n",
    "        if switch_order:\n",
    "            y = 1 - y\n",
    "        x = prompt_template.format(\n",
    "            program_1 = example[\"prompt\"] + example[\"classes\"][1-y].rstrip() + \"\\n\",\n",
    "            program_2 = example[\"prompt\"] + example[\"classes\"][y].rstrip() + \"\\n\")\n",
    "        if len(tokenizer.encode(x)) > max_tokens_per_example:\n",
    "            # too long, skip\n",
    "            continue\n",
    "        x_messages = [\n",
    "            SystemMessage(content=\"You are a helpful assistant.\"),\n",
    "            HumanMessage(content=x)]\n",
    "        batch_messages.append(x_messages)\n",
    "        y_batch.append(y)\n",
    "    llm_batch_response = chat_llm_batch(chat_model, batch_messages)\n",
    "    for i, gen in enumerate(llm_batch_response.generations):\n",
    "        match = re.search(r'(\\d+)', gen[0].text)\n",
    "        if match is None:\n",
    "            continue\n",
    "        gen_class = int(match.group(1)) - 1 # generated class ids should be returned by the llm in the 1, 2 range\n",
    "        if (gen_class < 0) or (gen_class > 1):\n",
    "            continue\n",
    "        if gen_class == y:\n",
    "            b_accuracy += 1\n",
    "        b_num_valid += 1\n",
    "    return b_accuracy, b_num_valid   \n",
    "\n",
    "cot_system_message = \\\n",
    "\"\"\"You are an expert computer scientist. Your task is to take two Python 3.10 programs and determine which one of them is more likely to be correct. You should just evaluate their semantic correctness, not the code style.\n",
    "Think step by step before writing your program. Use the following Markdown format, making sure that the following sections are delimited by level 1 headings, since they will have to be automatically parsed:\n",
    "# Analysis\n",
    "step by step analysis. This section can include sub-headings and code blocks\n",
    "# Answer\n",
    "either 1 if Program 1 is more likely to be correct or 2 if more likely to be correct. Do not write anything else in this section.\n",
    "\"\"\"\n",
    "\n",
    "def eval_chat_model_batch_cot(chat_model, batch, switch_order):\n",
    "    b_accuracy, b_num_valid = 0, 0\n",
    "    batch_messages = []\n",
    "    y_batch = []\n",
    "    for example in batch:\n",
    "        y = example[\"answer_index\"]\n",
    "        if switch_order:\n",
    "            y = 1 - y\n",
    "        x = prompt_template_cot.format(\n",
    "            program_1 = example[\"prompt\"] + example[\"classes\"][1-y].rstrip() + \"\\n\",\n",
    "            program_2 = example[\"prompt\"] + example[\"classes\"][y].rstrip() + \"\\n\")\n",
    "        if len(tokenizer.encode(x)) > max_tokens_per_example:\n",
    "            # too long, skip\n",
    "            continue\n",
    "        x_messages = [\n",
    "            SystemMessage(content=cot_system_message),\n",
    "            HumanMessage(content=x)]\n",
    "        batch_messages.append(x_messages)\n",
    "        y_batch.append(y)\n",
    "    llm_batch_response = chat_llm_batch(chat_model, batch_messages)\n",
    "\n",
    "    markdown = mistune.create_markdown(renderer='ast')\n",
    "    for i, gen in enumerate(llm_batch_response.generations):\n",
    "        response_text = gen[0].text\n",
    "        try:\n",
    "            parsed_markdown = markdown(response_text)\n",
    "            answer_j = [j for j, e in enumerate(parsed_markdown) if (e['type'] == \"heading\") and (e[\"children\"][0][\"raw\"] == \"Answer\")][0]\n",
    "            answer_text_list = [e[\"children\"][0][\"raw\"] for e in parsed_markdown[answer_j:] if (e['type'] == \"paragraph\") and (\"children\" in e)]\n",
    "            answer_text = answer_text_list[0]\n",
    "        except Exception as exc:\n",
    "            # Invalid markdown\n",
    "            continue\n",
    "        match = re.search(r'(\\d+)', answer_text)\n",
    "        if match is None:\n",
    "            continue\n",
    "        gen_class = int(match.group(1)) - 1 # generated class ids should be returned by the llm in the 1, 2 range\n",
    "        if (gen_class < 0) or (gen_class > 1):\n",
    "            continue\n",
    "        if gen_class == y:\n",
    "            b_accuracy += 1\n",
    "        b_num_valid += 1\n",
    "    return b_accuracy, b_num_valid   \n",
    "\n",
    "def eval_chat_model_batch_deepseek_r1(chat_model, batch, switch_order):\n",
    "    b_accuracy, b_num_valid = 0, 0\n",
    "    batch_messages = []\n",
    "    y_batch = []\n",
    "    for example in batch:\n",
    "        y = example[\"answer_index\"]\n",
    "        if switch_order:\n",
    "            y = 1 - y\n",
    "        x = prompt_template_deepseek_r1.format(\n",
    "            program_1 = example[\"prompt\"] + example[\"classes\"][1-y].rstrip() + \"\\n\",\n",
    "            program_2 = example[\"prompt\"] + example[\"classes\"][y].rstrip() + \"\\n\")\n",
    "        x += \"Please reason step by step, and put your final answer within \\\\boxed{}.\"\n",
    "        if len(tokenizer.encode(x)) > max_tokens_per_example:\n",
    "            # too long, skip\n",
    "            continue\n",
    "        x_messages = [\n",
    "            HumanMessage(content=x)]\n",
    "        batch_messages.append(x_messages)\n",
    "        y_batch.append(y)\n",
    "    llm_batch_response = chat_llm_batch(chat_model, batch_messages)\n",
    "    for i, gen in enumerate(llm_batch_response.generations):\n",
    "        match = re.search(r'\\\\boxed\\{(-?\\d+)\\}', gen[0].text) # DeepSeek-r1 output within \\boxed{}\n",
    "        if match is None:\n",
    "            continue\n",
    "        gen_class = int(match.group(1)) - 1 # generated class ids should be returned by the llm in the 1, 2 range\n",
    "        if (gen_class < 0) or (gen_class > 1):\n",
    "            continue\n",
    "        if gen_class == y:\n",
    "            b_accuracy += 1\n",
    "        b_num_valid += 1\n",
    "    return b_accuracy, b_num_valid   \n",
    "\n",
    "\n",
    "def eval_chat_model(chat_model, test_set, cot_mode=False, fraction_to_test = 1.0, deepseek_mode=False):\n",
    "    if deepseek_mode:\n",
    "        batch_eval_func = eval_chat_model_batch_deepseek_r1\n",
    "    elif cot_mode:\n",
    "        batch_eval_func = eval_chat_model_batch_cot\n",
    "    else:\n",
    "        batch_eval_func = eval_chat_model_batch\n",
    "    raw_total_accuracy, num_valid, num_examples = 0, 0, 0\n",
    "    batch = []\n",
    "    effective_test_set_size = min(round(fraction_to_test * len(test_set)), len(test_set))\n",
    "    for i in tqdm(range(effective_test_set_size + 1)):\n",
    "        if (i >= effective_test_set_size) or (len(batch) >= batch_size):\n",
    "            b_accuracy, b_num_valid = batch_eval_func(chat_model, batch, False)\n",
    "            raw_total_accuracy += b_accuracy\n",
    "            num_valid += b_num_valid\n",
    "            num_examples += len(batch)\n",
    "            b_accuracy, b_num_valid = batch_eval_func(chat_model, batch, True)\n",
    "            raw_total_accuracy += b_accuracy\n",
    "            num_valid += b_num_valid\n",
    "            num_examples += len(batch)\n",
    "            batch = []\n",
    "        if i < effective_test_set_size:\n",
    "            batch.append(test_set[i])\n",
    "    total_accuracy = float(raw_total_accuracy) / float(num_examples)\n",
    "    total_accuracy_on_valid = float(raw_total_accuracy) / float(num_valid)\n",
    "    return {\n",
    "        \"raw_total_accuracy\": raw_total_accuracy,\n",
    "        \"total_accuracy\": total_accuracy,\n",
    "        \"total_accuracy_on_valid\": total_accuracy_on_valid,\n",
    "        \"num_valid\": num_valid,\n",
    "        \"num_examples\": num_examples}"
   ]
  },
  {
   "cell_type": "code",
   "execution_count": null,
   "id": "be5a8c69-6949-4163-a66c-64e5faa3be68",
   "metadata": {},
   "outputs": [],
   "source": []
  },
  {
   "cell_type": "code",
   "execution_count": 21,
   "id": "73b7d0d6",
   "metadata": {},
   "outputs": [],
   "source": [
    "eval_results = {}"
   ]
  },
  {
   "cell_type": "code",
   "execution_count": 22,
   "id": "70146189",
   "metadata": {},
   "outputs": [
    {
     "name": "stderr",
     "output_type": "stream",
     "text": [
      "/tmp/ipykernel_1432321/3865214318.py:2: LangChainDeprecationWarning: The class `ChatOpenAI` was deprecated in LangChain 0.0.10 and will be removed in 1.0. An updated version of the class exists in the :class:`~langchain-openai package and should be used instead. To use it run `pip install -U :class:`~langchain-openai` and import as `from :class:`~langchain_openai import ChatOpenAI``.\n",
      "  chat = ChatOpenAI(model_name=model_name, temperature=0.0)\n"
     ]
    },
    {
     "name": "stdout",
     "output_type": "stream",
     "text": [
      "gpt-4o-mini-2024-07-18\n"
     ]
    },
    {
     "name": "stderr",
     "output_type": "stream",
     "text": [
      "100%|███████████████████████████████████████████████████████████████████████████████████████████████████████████████████████████████████████████████████████████████████| 1001/1001 [17:08<00:00,  1.03s/it]"
     ]
    },
    {
     "name": "stdout",
     "output_type": "stream",
     "text": [
      "{'raw_total_accuracy': 33, 'total_accuracy': 0.0165, 'total_accuracy_on_valid': 0.0165, 'num_valid': 2000, 'num_examples': 2000}\n",
      "----\n"
     ]
    },
    {
     "name": "stderr",
     "output_type": "stream",
     "text": [
      "\n"
     ]
    }
   ],
   "source": [
    "model_name=\"gpt-4o-mini-2024-07-18\" # Untrained gpt-4o-mini\n",
    "chat = ChatOpenAI(model_name=model_name, temperature=0.0)\n",
    "print(model_name)\n",
    "chat_eval = eval_chat_model(chat, test_set)\n",
    "print(chat_eval)\n",
    "print(\"----\")\n",
    "eval_results[model_name] = chat_eval"
   ]
  },
  {
   "cell_type": "code",
   "execution_count": 23,
   "id": "cc837ea7",
   "metadata": {},
   "outputs": [
    {
     "name": "stdout",
     "output_type": "stream",
     "text": [
      "ft:gpt-4o-mini-2024-07-18:uedin:semantic-inequiv-bob-run-0-round-6-generation-0:AyS2gJFd\n"
     ]
    },
    {
     "name": "stderr",
     "output_type": "stream",
     "text": [
      "100%|███████████████████████████████████████████████████████████████████████████████████████████████████████████████████████████████████████████████████████████████████| 1001/1001 [21:12<00:00,  1.27s/it]"
     ]
    },
    {
     "name": "stdout",
     "output_type": "stream",
     "text": [
      "{'raw_total_accuracy': 107, 'total_accuracy': 0.0535, 'total_accuracy_on_valid': 0.0535, 'num_valid': 2000, 'num_examples': 2000}\n",
      "----\n"
     ]
    },
    {
     "name": "stderr",
     "output_type": "stream",
     "text": [
      "\n"
     ]
    }
   ],
   "source": [
    "model_name=\"ft:gpt-4o-mini-2024-07-18:uedin:semantic-inequiv-bob-run-0-round-6-generation-0:AyS2gJFd\" # gpt-4o-mini finetuned as 1st gen \"Bob\" evaluator\n",
    "chat = ChatOpenAI(model_name=model_name, temperature=0.0)\n",
    "print(model_name)\n",
    "chat_eval = eval_chat_model(chat, test_set)\n",
    "print(chat_eval)\n",
    "print(\"----\")\n",
    "eval_results[model_name] = chat_eval"
   ]
  },
  {
   "cell_type": "code",
   "execution_count": 80,
   "id": "a2c8575a",
   "metadata": {},
   "outputs": [
    {
     "name": "stdout",
     "output_type": "stream",
     "text": [
      "gpt-4o-mini-2024-07-18\n"
     ]
    },
    {
     "name": "stderr",
     "output_type": "stream",
     "text": [
      "100%|█████████████████████████████████████████████████████████████████████████████████████████████████████████████████████████████████████████████████████████████████| 1001/1001 [4:34:47<00:00, 16.47s/it]"
     ]
    },
    {
     "name": "stdout",
     "output_type": "stream",
     "text": [
      "{'raw_total_accuracy': 38, 'total_accuracy': 0.019, 'total_accuracy_on_valid': 0.019, 'num_valid': 2000, 'num_examples': 2000}\n",
      "----\n"
     ]
    },
    {
     "name": "stderr",
     "output_type": "stream",
     "text": [
      "\n"
     ]
    }
   ],
   "source": [
    "model_name=\"gpt-4o-mini-2024-07-18\" # Untrained gpt-4o-mini in CoT mode\n",
    "chat = ChatOpenAI(model_name=model_name, temperature=0.0)\n",
    "print(model_name)\n",
    "chat_eval = eval_chat_model(chat, test_set, cot_mode=True)\n",
    "print(chat_eval)\n",
    "print(\"----\")\n",
    "eval_results[\"cot_\"+model_name] = chat_eval"
   ]
  },
  {
   "cell_type": "code",
   "execution_count": 81,
   "id": "29322abd-431c-4940-8aa7-cd0cf852f72f",
   "metadata": {},
   "outputs": [
    {
     "name": "stdout",
     "output_type": "stream",
     "text": [
      "ft:gpt-4o-mini-2024-07-18:uedin:semantic-inequiv-bob-run-0-round-6-generation-0:AyS2gJFd\n"
     ]
    },
    {
     "name": "stderr",
     "output_type": "stream",
     "text": [
      "100%|█████████████████████████████████████████████████████████████████████████████████████████████████████████████████████████████████████████████████████████████████| 1001/1001 [3:35:47<00:00, 12.94s/it]"
     ]
    },
    {
     "name": "stdout",
     "output_type": "stream",
     "text": [
      "{'raw_total_accuracy': 46, 'total_accuracy': 0.023, 'total_accuracy_on_valid': 0.023, 'num_valid': 2000, 'num_examples': 2000}\n",
      "----\n"
     ]
    },
    {
     "name": "stderr",
     "output_type": "stream",
     "text": [
      "\n"
     ]
    }
   ],
   "source": [
    "model_name=\"ft:gpt-4o-mini-2024-07-18:uedin:semantic-inequiv-bob-run-0-round-6-generation-0:AyS2gJFd\" # gpt-4o-mini finetuned as 1st gen \"Bob\" evaluator in CoT mode\n",
    "chat = ChatOpenAI(model_name=model_name, temperature=0.0)\n",
    "print(model_name)\n",
    "chat_eval = eval_chat_model(chat, test_set, cot_mode=True)\n",
    "print(chat_eval)\n",
    "print(\"----\")\n",
    "eval_results[\"cot_\"+model_name] = chat_eval"
   ]
  },
  {
   "cell_type": "code",
   "execution_count": 101,
   "id": "05331305-c165-4144-afb0-f6bd532c8f9e",
   "metadata": {},
   "outputs": [
    {
     "name": "stdout",
     "output_type": "stream",
     "text": [
      "o3-mini-2025-01-31\n"
     ]
    },
    {
     "name": "stderr",
     "output_type": "stream",
     "text": [
      "100%|█████████████████████████████████████████████████████████████████████████████████████████████████████████████████████████████████████████████████████████████████| 1001/1001 [4:10:03<00:00, 14.99s/it]"
     ]
    },
    {
     "name": "stdout",
     "output_type": "stream",
     "text": [
      "{'raw_total_accuracy': 682, 'total_accuracy': 0.341, 'total_accuracy_on_valid': 0.341, 'num_valid': 2000, 'num_examples': 2000}\n",
      "----\n"
     ]
    },
    {
     "name": "stderr",
     "output_type": "stream",
     "text": [
      "\n"
     ]
    }
   ],
   "source": [
    "model_name=\"o3-mini-2025-01-31\" # Untrained o3-mini\n",
    "chat = ChatOpenAI(model_name=model_name, temperature=1)\n",
    "print(model_name)\n",
    "chat_eval = eval_chat_model(chat, test_set)\n",
    "print(chat_eval)\n",
    "print(\"----\")\n",
    "eval_results[model_name] = chat_eval"
   ]
  },
  {
   "cell_type": "code",
   "execution_count": 109,
   "id": "cdecab93-be3e-46d7-9e01-e28292c48e58",
   "metadata": {},
   "outputs": [
    {
     "name": "stdout",
     "output_type": "stream",
     "text": [
      "o1-2024-12-17\n"
     ]
    },
    {
     "name": "stderr",
     "output_type": "stream",
     "text": [
      "100%|████████████████████████████████████████████████████████████████████████████████████████████████████████████████████████████████████████████████████| 101/101 [1:24:40<00:00, 50.30s/it]"
     ]
    },
    {
     "name": "stdout",
     "output_type": "stream",
     "text": [
      "{'raw_total_accuracy': 115, 'total_accuracy': 0.575, 'total_accuracy_on_valid': 0.575, 'num_valid': 200, 'num_examples': 200}\n",
      "----\n"
     ]
    },
    {
     "name": "stderr",
     "output_type": "stream",
     "text": [
      "\n"
     ]
    }
   ],
   "source": [
    "model_name=\"o1-2024-12-17\" # Untrained o1\n",
    "chat = ChatOpenAI(model_name=model_name, temperature=1)\n",
    "print(model_name)\n",
    "chat_eval = eval_chat_model(chat, test_set, fraction_to_test=0.1)\n",
    "print(chat_eval)\n",
    "print(\"----\")\n",
    "eval_results[model_name] = chat_eval"
   ]
  },
  {
   "cell_type": "code",
   "execution_count": 164,
   "id": "157e6e2e-fe48-4ff9-964a-f2e3c5298094",
   "metadata": {},
   "outputs": [
    {
     "name": "stdout",
     "output_type": "stream",
     "text": [
      "accounts/fireworks/models/deepseek-r1\n"
     ]
    },
    {
     "name": "stderr",
     "output_type": "stream",
     "text": [
      "100%|███████████████████████████████████████████████████████████████████████████████████████████████████████████████████████████████████████████████████| 101/101 [3:07:23<00:00, 111.32s/it]"
     ]
    },
    {
     "name": "stdout",
     "output_type": "stream",
     "text": [
      "{'raw_total_accuracy': 188, 'total_accuracy': 0.94, 'total_accuracy_on_valid': 0.9740932642487047, 'num_valid': 193, 'num_examples': 200}\n",
      "----\n"
     ]
    },
    {
     "name": "stderr",
     "output_type": "stream",
     "text": [
      "\n"
     ]
    }
   ],
   "source": [
    "model_name=\"accounts/fireworks/models/deepseek-r1\" # Untrained DeepSeek-r1\n",
    "chat = ChatFireworks(\n",
    "    model=\"accounts/fireworks/models/deepseek-r1\",\n",
    "    temperature=0.6,\n",
    "    timeout=None,\n",
    "    max_retries=2,\n",
    "    max_tokens=6000,\n",
    ")\n",
    "print(model_name)\n",
    "chat_eval = eval_chat_model(chat, test_set, fraction_to_test=0.1, deepseek_mode=True)\n",
    "print(chat_eval)\n",
    "print(\"----\")\n",
    "eval_results[\"deepseek-r1\"] = chat_eval"
   ]
  },
  {
   "cell_type": "code",
   "execution_count": 167,
   "id": "f5895753-8bb3-433c-9849-2fd960939295",
   "metadata": {},
   "outputs": [
    {
     "name": "stdout",
     "output_type": "stream",
     "text": [
      "o3-mini-2025-01-31\n"
     ]
    },
    {
     "name": "stderr",
     "output_type": "stream",
     "text": [
      "  6%|█████████                                                                                                                                           | 61/1001 [26:55<7:23:33, 28.31s/it]Error code: 400 - {'error': {'message': 'Invalid prompt: your prompt was flagged as potentially violating our usage policy. Please try again with a different prompt: https://platform.openai.com/docs/guides/reasoning#advice-on-prompting', 'type': 'invalid_request_error', 'param': None, 'code': 'invalid_prompt'}}\n",
      "  8%|███████████▉                                                                                                                                        | 81/1001 [38:25<7:51:28, 30.75s/it]Error code: 400 - {'error': {'message': 'Invalid prompt: your prompt was flagged as potentially violating our usage policy. Please try again with a different prompt: https://platform.openai.com/docs/guides/reasoning#advice-on-prompting', 'type': 'invalid_request_error', 'param': None, 'code': 'invalid_prompt'}}\n",
      " 18%|██████████████████████████▏                                                                                                                      | 181/1001 [1:22:09<6:03:12, 26.58s/it]Error code: 400 - {'error': {'message': 'Invalid prompt: your prompt was flagged as potentially violating our usage policy. Please try again with a different prompt: https://platform.openai.com/docs/guides/reasoning#advice-on-prompting', 'type': 'invalid_request_error', 'param': None, 'code': 'invalid_prompt'}}\n",
      " 38%|███████████████████████████████████████████████████████▏                                                                                         | 381/1001 [2:58:38<4:57:58, 28.84s/it]Error code: 400 - {'error': {'message': 'Invalid prompt: your prompt was flagged as potentially violating our usage policy. Please try again with a different prompt: https://platform.openai.com/docs/guides/reasoning#advice-on-prompting', 'type': 'invalid_request_error', 'param': None, 'code': 'invalid_prompt'}}\n",
      " 48%|█████████████████████████████████████████████████████████████████████▋                                                                           | 481/1001 [3:39:07<3:31:32, 24.41s/it]Error code: 400 - {'error': {'message': 'Invalid prompt: your prompt was flagged as potentially violating our usage policy. Please try again with a different prompt: https://platform.openai.com/docs/guides/reasoning#advice-on-prompting', 'type': 'invalid_request_error', 'param': None, 'code': 'invalid_prompt'}}\n",
      " 50%|████████████████████████████████████████████████████████████████████████▌                                                                        | 501/1001 [3:50:44<3:49:28, 27.54s/it]Error code: 400 - {'error': {'message': 'Invalid prompt: your prompt was flagged as potentially violating our usage policy. Please try again with a different prompt: https://platform.openai.com/docs/guides/reasoning#advice-on-prompting', 'type': 'invalid_request_error', 'param': None, 'code': 'invalid_prompt'}}\n",
      " 86%|██████████████████████████████████████████████████████████████████████████████████████████████████████████████████████████████▍                    | 861/1001 [6:08:40<50:20, 21.58s/it]Error code: 400 - {'error': {'message': 'Invalid prompt: your prompt was flagged as potentially violating our usage policy. Please try again with a different prompt: https://platform.openai.com/docs/guides/reasoning#advice-on-prompting', 'type': 'invalid_request_error', 'param': None, 'code': 'invalid_prompt'}}\n",
      " 88%|█████████████████████████████████████████████████████████████████████████████████████████████████████████████████████████████████▍                 | 881/1001 [6:18:11<47:20, 23.67s/it]Error code: 400 - {'error': {'message': 'Invalid prompt: your prompt was flagged as potentially violating our usage policy. Please try again with a different prompt: https://platform.openai.com/docs/guides/reasoning#advice-on-prompting', 'type': 'invalid_request_error', 'param': None, 'code': 'invalid_prompt'}}\n",
      " 94%|██████████████████████████████████████████████████████████████████████████████████████████████████████████████████████████████████████████▏        | 941/1001 [6:38:42<21:12, 21.21s/it]Error code: 400 - {'error': {'message': 'Invalid prompt: your prompt was flagged as potentially violating our usage policy. Please try again with a different prompt: https://platform.openai.com/docs/guides/reasoning#advice-on-prompting', 'type': 'invalid_request_error', 'param': None, 'code': 'invalid_prompt'}}\n",
      " 98%|████████████████████████████████████████████████████████████████████████████████████████████████████████████████████████████████████████████████   | 981/1001 [6:52:06<06:53, 20.69s/it]Error code: 400 - {'error': {'message': 'Invalid prompt: your prompt was flagged as potentially violating our usage policy. Please try again with a different prompt: https://platform.openai.com/docs/guides/reasoning#advice-on-prompting', 'type': 'invalid_request_error', 'param': None, 'code': 'invalid_prompt'}}\n",
      "100%|██████████████████████████████████████████████████████████████████████████████████████████████████████████████████████████████████████████████████| 1001/1001 [7:01:57<00:00, 25.29s/it]"
     ]
    },
    {
     "name": "stdout",
     "output_type": "stream",
     "text": [
      "{'raw_total_accuracy': 924, 'total_accuracy': 0.462, 'total_accuracy_on_valid': 0.4626940410615924, 'num_valid': 1997, 'num_examples': 2000}\n",
      "----\n"
     ]
    },
    {
     "name": "stderr",
     "output_type": "stream",
     "text": [
      "\n"
     ]
    }
   ],
   "source": [
    "model_name=\"o3-mini-2025-01-31\" # Untrained o3-mini with DeepSeek-style CoT prompt\n",
    "chat = ChatOpenAI(model_name=model_name, temperature=1)\n",
    "print(model_name)\n",
    "chat_eval = eval_chat_model(chat, test_set, deepseek_mode=True)\n",
    "print(chat_eval)\n",
    "print(\"----\")\n",
    "eval_results[\"ds_\"+model_name] = chat_eval"
   ]
  },
  {
   "cell_type": "code",
   "execution_count": 168,
   "id": "a06e16ca-e73f-4e45-8b1c-d1d05664c973",
   "metadata": {},
   "outputs": [
    {
     "name": "stdout",
     "output_type": "stream",
     "text": [
      "o1-2024-12-17\n"
     ]
    },
    {
     "name": "stderr",
     "output_type": "stream",
     "text": [
      "  0%|                                                                                                                                                                | 0/101 [00:00<?, ?it/s]Error code: 400 - {'error': {'message': 'Invalid prompt: your prompt was flagged as potentially violating our usage policy. Please try again with a different prompt: https://platform.openai.com/docs/guides/reasoning#advice-on-prompting', 'type': 'invalid_request_error', 'param': None, 'code': 'invalid_prompt'}}\n",
      "100%|████████████████████████████████████████████████████████████████████████████████████████████████████████████████████████████████████████████████████| 101/101 [2:41:25<00:00, 95.90s/it]"
     ]
    },
    {
     "name": "stdout",
     "output_type": "stream",
     "text": [
      "{'raw_total_accuracy': 144, 'total_accuracy': 0.72, 'total_accuracy_on_valid': 0.72, 'num_valid': 200, 'num_examples': 200}\n",
      "----\n"
     ]
    },
    {
     "name": "stderr",
     "output_type": "stream",
     "text": [
      "\n"
     ]
    }
   ],
   "source": [
    "model_name=\"o1-2024-12-17\" # Untrained o1 with DeepSeek-style CoT prompt\n",
    "chat = ChatOpenAI(model_name=model_name, temperature=1)\n",
    "print(model_name)\n",
    "chat_eval = eval_chat_model(chat, test_set, fraction_to_test=0.1, deepseek_mode=True)\n",
    "print(chat_eval)\n",
    "print(\"----\")\n",
    "eval_results[\"ds_\"+model_name] = chat_eval"
   ]
  },
  {
   "cell_type": "code",
   "execution_count": 176,
   "id": "50a516f0-cf59-4f74-bece-e818b50e1a79",
   "metadata": {},
   "outputs": [
    {
     "name": "stdout",
     "output_type": "stream",
     "text": [
      "deepseek-r1-distill-llama-70b\n"
     ]
    },
    {
     "name": "stderr",
     "output_type": "stream",
     "text": [
      "100%|███████████████████████████████████████████████████████████████████████████████████████████████████████████████████████████████████████████████████| 101/101 [3:01:39<00:00, 107.91s/it]"
     ]
    },
    {
     "name": "stdout",
     "output_type": "stream",
     "text": [
      "{'raw_total_accuracy': 149, 'total_accuracy': 0.745, 'total_accuracy_on_valid': 0.7563451776649747, 'num_valid': 197, 'num_examples': 200}\n",
      "----\n"
     ]
    },
    {
     "name": "stderr",
     "output_type": "stream",
     "text": [
      "\n"
     ]
    }
   ],
   "source": [
    "model_name=\"deepseek-r1-distill-llama-70b\" # Untrained DeepSeek-r1-distill-llama-70b\n",
    "chat = ChatFireworks(\n",
    "    model=f\"accounts/{fireworks_account_name}/deployedModels/deepseek-r1-distill-llama-70b-{fireworks_deepseek_r1_distill_llama_7b_model_id}\",\n",
    "    temperature=0.6,\n",
    "    timeout=None,\n",
    "    max_retries=2,\n",
    "    max_tokens=6000,\n",
    ")\n",
    "print(model_name)\n",
    "chat_eval = eval_chat_model(chat, test_set, fraction_to_test=0.1, deepseek_mode=True)\n",
    "print(chat_eval)\n",
    "print(\"----\")\n",
    "eval_results[model_name] = chat_eval"
   ]
  },
  {
   "cell_type": "code",
   "execution_count": 16,
   "id": "8f3244dc-eddf-45f7-81b3-5100d51100bf",
   "metadata": {},
   "outputs": [
    {
     "name": "stderr",
     "output_type": "stream",
     "text": [
      "/tmp/ipykernel_155469/1717994585.py:2: LangChainDeprecationWarning: The class `ChatFireworks` was deprecated in LangChain 0.0.26 and will be removed in 1.0. An updated version of the class exists in the :class:`~langchain-fireworks package and should be used instead. To use it run `pip install -U :class:`~langchain-fireworks` and import as `from :class:`~langchain_fireworks import ChatFireworks``.\n",
      "  chat = ChatFireworks(\n"
     ]
    },
    {
     "name": "stdout",
     "output_type": "stream",
     "text": [
      "ft-sineq-deepseek-r1-distill-llama-70b\n"
     ]
    },
    {
     "name": "stderr",
     "output_type": "stream",
     "text": [
      "  0%|                                                                                                                                                                               | 0/101 [00:00<?, ?it/s]Server error '504 Gateway Timeout' for url 'https://api.fireworks.ai/inference/v1/chat/completions'\n",
      "For more information check: https://developer.mozilla.org/en-US/docs/Web/HTTP/Status/504\n",
      "Server error '504 Gateway Timeout' for url 'https://api.fireworks.ai/inference/v1/chat/completions'\n",
      "For more information check: https://developer.mozilla.org/en-US/docs/Web/HTTP/Status/504\n",
      "Server error '504 Gateway Timeout' for url 'https://api.fireworks.ai/inference/v1/chat/completions'\n",
      "For more information check: https://developer.mozilla.org/en-US/docs/Web/HTTP/Status/504\n",
      "Server error '504 Gateway Timeout' for url 'https://api.fireworks.ai/inference/v1/chat/completions'\n",
      "For more information check: https://developer.mozilla.org/en-US/docs/Web/HTTP/Status/504\n",
      "Server error '504 Gateway Timeout' for url 'https://api.fireworks.ai/inference/v1/chat/completions'\n",
      "For more information check: https://developer.mozilla.org/en-US/docs/Web/HTTP/Status/504\n",
      "Server error '504 Gateway Timeout' for url 'https://api.fireworks.ai/inference/v1/chat/completions'\n",
      "For more information check: https://developer.mozilla.org/en-US/docs/Web/HTTP/Status/504\n",
      "Server error '504 Gateway Timeout' for url 'https://api.fireworks.ai/inference/v1/chat/completions'\n",
      "For more information check: https://developer.mozilla.org/en-US/docs/Web/HTTP/Status/504\n",
      "Server error '504 Gateway Timeout' for url 'https://api.fireworks.ai/inference/v1/chat/completions'\n",
      "For more information check: https://developer.mozilla.org/en-US/docs/Web/HTTP/Status/504\n",
      "Server error '504 Gateway Timeout' for url 'https://api.fireworks.ai/inference/v1/chat/completions'\n",
      "For more information check: https://developer.mozilla.org/en-US/docs/Web/HTTP/Status/504\n",
      "Server error '504 Gateway Timeout' for url 'https://api.fireworks.ai/inference/v1/chat/completions'\n",
      "For more information check: https://developer.mozilla.org/en-US/docs/Web/HTTP/Status/504\n",
      "Server error '504 Gateway Timeout' for url 'https://api.fireworks.ai/inference/v1/chat/completions'\n",
      "For more information check: https://developer.mozilla.org/en-US/docs/Web/HTTP/Status/504\n",
      "Server error '504 Gateway Timeout' for url 'https://api.fireworks.ai/inference/v1/chat/completions'\n",
      "For more information check: https://developer.mozilla.org/en-US/docs/Web/HTTP/Status/504\n",
      " 20%|███████████████████████████████▉                                                                                                                                 | 20/101 [1:21:38<5:30:38, 244.92s/it]\n"
     ]
    },
    {
     "ename": "KeyboardInterrupt",
     "evalue": "",
     "output_type": "error",
     "traceback": [
      "\u001b[0;31m---------------------------------------------------------------------------\u001b[0m",
      "\u001b[0;31mHTTPStatusError\u001b[0m                           Traceback (most recent call last)",
      "File \u001b[0;32m/mnt/lofn0/amiceli/adversarial_code_gen/surtr-env/lib/python3.10/site-packages/backoff/_sync.py:105\u001b[0m, in \u001b[0;36mretry_exception.<locals>.retry\u001b[0;34m(*args, **kwargs)\u001b[0m\n\u001b[1;32m    104\u001b[0m \u001b[38;5;28;01mtry\u001b[39;00m:\n\u001b[0;32m--> 105\u001b[0m     ret \u001b[38;5;241m=\u001b[39m \u001b[43mtarget\u001b[49m\u001b[43m(\u001b[49m\u001b[38;5;241;43m*\u001b[39;49m\u001b[43margs\u001b[49m\u001b[43m,\u001b[49m\u001b[43m \u001b[49m\u001b[38;5;241;43m*\u001b[39;49m\u001b[38;5;241;43m*\u001b[39;49m\u001b[43mkwargs\u001b[49m\u001b[43m)\u001b[49m\n\u001b[1;32m    106\u001b[0m \u001b[38;5;28;01mexcept\u001b[39;00m exception \u001b[38;5;28;01mas\u001b[39;00m e:\n",
      "Cell \u001b[0;32mIn[10], line 7\u001b[0m, in \u001b[0;36mchat_llm_batch\u001b[0;34m(chat_model, batch_messages, **kwargs)\u001b[0m\n\u001b[1;32m      6\u001b[0m \u001b[38;5;28mprint\u001b[39m(exc, file\u001b[38;5;241m=\u001b[39msys\u001b[38;5;241m.\u001b[39mstderr)\n\u001b[0;32m----> 7\u001b[0m \u001b[38;5;28;01mraise\u001b[39;00m(exc)\n",
      "Cell \u001b[0;32mIn[10], line 4\u001b[0m, in \u001b[0;36mchat_llm_batch\u001b[0;34m(chat_model, batch_messages, **kwargs)\u001b[0m\n\u001b[1;32m      3\u001b[0m \u001b[38;5;28;01mtry\u001b[39;00m:\n\u001b[0;32m----> 4\u001b[0m     \u001b[38;5;28;01mreturn\u001b[39;00m \u001b[43mchat_model\u001b[49m\u001b[38;5;241;43m.\u001b[39;49m\u001b[43mgenerate\u001b[49m\u001b[43m(\u001b[49m\u001b[43mbatch_messages\u001b[49m\u001b[43m,\u001b[49m\u001b[43m \u001b[49m\u001b[38;5;241;43m*\u001b[39;49m\u001b[38;5;241;43m*\u001b[39;49m\u001b[43mkwargs\u001b[49m\u001b[43m)\u001b[49m\n\u001b[1;32m      5\u001b[0m \u001b[38;5;28;01mexcept\u001b[39;00m \u001b[38;5;167;01mException\u001b[39;00m \u001b[38;5;28;01mas\u001b[39;00m exc:\n",
      "File \u001b[0;32m/mnt/lofn0/amiceli/adversarial_code_gen/surtr-env/lib/python3.10/site-packages/langchain_core/language_models/chat_models.py:690\u001b[0m, in \u001b[0;36mBaseChatModel.generate\u001b[0;34m(self, messages, stop, callbacks, tags, metadata, run_name, run_id, **kwargs)\u001b[0m\n\u001b[1;32m    688\u001b[0m \u001b[38;5;28;01mtry\u001b[39;00m:\n\u001b[1;32m    689\u001b[0m     results\u001b[38;5;241m.\u001b[39mappend(\n\u001b[0;32m--> 690\u001b[0m         \u001b[38;5;28;43mself\u001b[39;49m\u001b[38;5;241;43m.\u001b[39;49m\u001b[43m_generate_with_cache\u001b[49m\u001b[43m(\u001b[49m\n\u001b[1;32m    691\u001b[0m \u001b[43m            \u001b[49m\u001b[43mm\u001b[49m\u001b[43m,\u001b[49m\n\u001b[1;32m    692\u001b[0m \u001b[43m            \u001b[49m\u001b[43mstop\u001b[49m\u001b[38;5;241;43m=\u001b[39;49m\u001b[43mstop\u001b[49m\u001b[43m,\u001b[49m\n\u001b[1;32m    693\u001b[0m \u001b[43m            \u001b[49m\u001b[43mrun_manager\u001b[49m\u001b[38;5;241;43m=\u001b[39;49m\u001b[43mrun_managers\u001b[49m\u001b[43m[\u001b[49m\u001b[43mi\u001b[49m\u001b[43m]\u001b[49m\u001b[43m \u001b[49m\u001b[38;5;28;43;01mif\u001b[39;49;00m\u001b[43m \u001b[49m\u001b[43mrun_managers\u001b[49m\u001b[43m \u001b[49m\u001b[38;5;28;43;01melse\u001b[39;49;00m\u001b[43m \u001b[49m\u001b[38;5;28;43;01mNone\u001b[39;49;00m\u001b[43m,\u001b[49m\n\u001b[1;32m    694\u001b[0m \u001b[43m            \u001b[49m\u001b[38;5;241;43m*\u001b[39;49m\u001b[38;5;241;43m*\u001b[39;49m\u001b[43mkwargs\u001b[49m\u001b[43m,\u001b[49m\n\u001b[1;32m    695\u001b[0m \u001b[43m        \u001b[49m\u001b[43m)\u001b[49m\n\u001b[1;32m    696\u001b[0m     )\n\u001b[1;32m    697\u001b[0m \u001b[38;5;28;01mexcept\u001b[39;00m \u001b[38;5;167;01mBaseException\u001b[39;00m \u001b[38;5;28;01mas\u001b[39;00m e:\n",
      "File \u001b[0;32m/mnt/lofn0/amiceli/adversarial_code_gen/surtr-env/lib/python3.10/site-packages/langchain_core/language_models/chat_models.py:925\u001b[0m, in \u001b[0;36mBaseChatModel._generate_with_cache\u001b[0;34m(self, messages, stop, run_manager, **kwargs)\u001b[0m\n\u001b[1;32m    924\u001b[0m \u001b[38;5;28;01mif\u001b[39;00m inspect\u001b[38;5;241m.\u001b[39msignature(\u001b[38;5;28mself\u001b[39m\u001b[38;5;241m.\u001b[39m_generate)\u001b[38;5;241m.\u001b[39mparameters\u001b[38;5;241m.\u001b[39mget(\u001b[38;5;124m\"\u001b[39m\u001b[38;5;124mrun_manager\u001b[39m\u001b[38;5;124m\"\u001b[39m):\n\u001b[0;32m--> 925\u001b[0m     result \u001b[38;5;241m=\u001b[39m \u001b[38;5;28;43mself\u001b[39;49m\u001b[38;5;241;43m.\u001b[39;49m\u001b[43m_generate\u001b[49m\u001b[43m(\u001b[49m\n\u001b[1;32m    926\u001b[0m \u001b[43m        \u001b[49m\u001b[43mmessages\u001b[49m\u001b[43m,\u001b[49m\u001b[43m \u001b[49m\u001b[43mstop\u001b[49m\u001b[38;5;241;43m=\u001b[39;49m\u001b[43mstop\u001b[49m\u001b[43m,\u001b[49m\u001b[43m \u001b[49m\u001b[43mrun_manager\u001b[49m\u001b[38;5;241;43m=\u001b[39;49m\u001b[43mrun_manager\u001b[49m\u001b[43m,\u001b[49m\u001b[43m \u001b[49m\u001b[38;5;241;43m*\u001b[39;49m\u001b[38;5;241;43m*\u001b[39;49m\u001b[43mkwargs\u001b[49m\n\u001b[1;32m    927\u001b[0m \u001b[43m    \u001b[49m\u001b[43m)\u001b[49m\n\u001b[1;32m    928\u001b[0m \u001b[38;5;28;01melse\u001b[39;00m:\n",
      "File \u001b[0;32m/mnt/lofn0/amiceli/adversarial_code_gen/surtr-env/lib/python3.10/site-packages/langchain_community/chat_models/fireworks.py:152\u001b[0m, in \u001b[0;36mChatFireworks._generate\u001b[0;34m(self, messages, stop, run_manager, **kwargs)\u001b[0m\n\u001b[1;32m    146\u001b[0m params \u001b[38;5;241m=\u001b[39m {\n\u001b[1;32m    147\u001b[0m     \u001b[38;5;124m\"\u001b[39m\u001b[38;5;124mmodel\u001b[39m\u001b[38;5;124m\"\u001b[39m: \u001b[38;5;28mself\u001b[39m\u001b[38;5;241m.\u001b[39mmodel,\n\u001b[1;32m    148\u001b[0m     \u001b[38;5;124m\"\u001b[39m\u001b[38;5;124mmessages\u001b[39m\u001b[38;5;124m\"\u001b[39m: message_dicts,\n\u001b[1;32m    149\u001b[0m     \u001b[38;5;241m*\u001b[39m\u001b[38;5;241m*\u001b[39m\u001b[38;5;28mself\u001b[39m\u001b[38;5;241m.\u001b[39mmodel_kwargs,\n\u001b[1;32m    150\u001b[0m     \u001b[38;5;241m*\u001b[39m\u001b[38;5;241m*\u001b[39mkwargs,\n\u001b[1;32m    151\u001b[0m }\n\u001b[0;32m--> 152\u001b[0m response \u001b[38;5;241m=\u001b[39m \u001b[43mcompletion_with_retry\u001b[49m\u001b[43m(\u001b[49m\n\u001b[1;32m    153\u001b[0m \u001b[43m    \u001b[49m\u001b[38;5;28;43mself\u001b[39;49m\u001b[43m,\u001b[49m\n\u001b[1;32m    154\u001b[0m \u001b[43m    \u001b[49m\u001b[38;5;28;43mself\u001b[39;49m\u001b[38;5;241;43m.\u001b[39;49m\u001b[43muse_retry\u001b[49m\u001b[43m,\u001b[49m\n\u001b[1;32m    155\u001b[0m \u001b[43m    \u001b[49m\u001b[43mrun_manager\u001b[49m\u001b[38;5;241;43m=\u001b[39;49m\u001b[43mrun_manager\u001b[49m\u001b[43m,\u001b[49m\n\u001b[1;32m    156\u001b[0m \u001b[43m    \u001b[49m\u001b[43mstop\u001b[49m\u001b[38;5;241;43m=\u001b[39;49m\u001b[43mstop\u001b[49m\u001b[43m,\u001b[49m\n\u001b[1;32m    157\u001b[0m \u001b[43m    \u001b[49m\u001b[38;5;241;43m*\u001b[39;49m\u001b[38;5;241;43m*\u001b[39;49m\u001b[43mparams\u001b[49m\u001b[43m,\u001b[49m\n\u001b[1;32m    158\u001b[0m \u001b[43m\u001b[49m\u001b[43m)\u001b[49m\n\u001b[1;32m    159\u001b[0m \u001b[38;5;28;01mreturn\u001b[39;00m \u001b[38;5;28mself\u001b[39m\u001b[38;5;241m.\u001b[39m_create_chat_result(response)\n",
      "File \u001b[0;32m/mnt/lofn0/amiceli/adversarial_code_gen/surtr-env/lib/python3.10/site-packages/langchain_community/chat_models/fireworks.py:310\u001b[0m, in \u001b[0;36mcompletion_with_retry\u001b[0;34m(llm, use_retry, run_manager, **kwargs)\u001b[0m\n\u001b[1;32m    306\u001b[0m     \u001b[38;5;28;01mreturn\u001b[39;00m fireworks\u001b[38;5;241m.\u001b[39mclient\u001b[38;5;241m.\u001b[39mChatCompletion\u001b[38;5;241m.\u001b[39mcreate(\n\u001b[1;32m    307\u001b[0m         \u001b[38;5;241m*\u001b[39m\u001b[38;5;241m*\u001b[39mkwargs,\n\u001b[1;32m    308\u001b[0m     )\n\u001b[0;32m--> 310\u001b[0m \u001b[38;5;28;01mreturn\u001b[39;00m \u001b[43m_completion_with_retry\u001b[49m\u001b[43m(\u001b[49m\u001b[38;5;241;43m*\u001b[39;49m\u001b[38;5;241;43m*\u001b[39;49m\u001b[43mkwargs\u001b[49m\u001b[43m)\u001b[49m\n",
      "File \u001b[0;32m/mnt/lofn0/amiceli/adversarial_code_gen/surtr-env/lib/python3.10/site-packages/tenacity/__init__.py:336\u001b[0m, in \u001b[0;36mBaseRetrying.wraps.<locals>.wrapped_f\u001b[0;34m(*args, **kw)\u001b[0m\n\u001b[1;32m    335\u001b[0m wrapped_f\u001b[38;5;241m.\u001b[39mstatistics \u001b[38;5;241m=\u001b[39m copy\u001b[38;5;241m.\u001b[39mstatistics  \u001b[38;5;66;03m# type: ignore[attr-defined]\u001b[39;00m\n\u001b[0;32m--> 336\u001b[0m \u001b[38;5;28;01mreturn\u001b[39;00m \u001b[43mcopy\u001b[49m\u001b[43m(\u001b[49m\u001b[43mf\u001b[49m\u001b[43m,\u001b[49m\u001b[43m \u001b[49m\u001b[38;5;241;43m*\u001b[39;49m\u001b[43margs\u001b[49m\u001b[43m,\u001b[49m\u001b[43m \u001b[49m\u001b[38;5;241;43m*\u001b[39;49m\u001b[38;5;241;43m*\u001b[39;49m\u001b[43mkw\u001b[49m\u001b[43m)\u001b[49m\n",
      "File \u001b[0;32m/mnt/lofn0/amiceli/adversarial_code_gen/surtr-env/lib/python3.10/site-packages/tenacity/__init__.py:475\u001b[0m, in \u001b[0;36mRetrying.__call__\u001b[0;34m(self, fn, *args, **kwargs)\u001b[0m\n\u001b[1;32m    474\u001b[0m \u001b[38;5;28;01mwhile\u001b[39;00m \u001b[38;5;28;01mTrue\u001b[39;00m:\n\u001b[0;32m--> 475\u001b[0m     do \u001b[38;5;241m=\u001b[39m \u001b[38;5;28;43mself\u001b[39;49m\u001b[38;5;241;43m.\u001b[39;49m\u001b[43miter\u001b[49m\u001b[43m(\u001b[49m\u001b[43mretry_state\u001b[49m\u001b[38;5;241;43m=\u001b[39;49m\u001b[43mretry_state\u001b[49m\u001b[43m)\u001b[49m\n\u001b[1;32m    476\u001b[0m     \u001b[38;5;28;01mif\u001b[39;00m \u001b[38;5;28misinstance\u001b[39m(do, DoAttempt):\n",
      "File \u001b[0;32m/mnt/lofn0/amiceli/adversarial_code_gen/surtr-env/lib/python3.10/site-packages/tenacity/__init__.py:376\u001b[0m, in \u001b[0;36mBaseRetrying.iter\u001b[0;34m(self, retry_state)\u001b[0m\n\u001b[1;32m    375\u001b[0m \u001b[38;5;28;01mfor\u001b[39;00m action \u001b[38;5;129;01min\u001b[39;00m \u001b[38;5;28mself\u001b[39m\u001b[38;5;241m.\u001b[39miter_state\u001b[38;5;241m.\u001b[39mactions:\n\u001b[0;32m--> 376\u001b[0m     result \u001b[38;5;241m=\u001b[39m \u001b[43maction\u001b[49m\u001b[43m(\u001b[49m\u001b[43mretry_state\u001b[49m\u001b[43m)\u001b[49m\n\u001b[1;32m    377\u001b[0m \u001b[38;5;28;01mreturn\u001b[39;00m result\n",
      "File \u001b[0;32m/mnt/lofn0/amiceli/adversarial_code_gen/surtr-env/lib/python3.10/site-packages/tenacity/__init__.py:398\u001b[0m, in \u001b[0;36mBaseRetrying._post_retry_check_actions.<locals>.<lambda>\u001b[0;34m(rs)\u001b[0m\n\u001b[1;32m    397\u001b[0m \u001b[38;5;28;01mif\u001b[39;00m \u001b[38;5;129;01mnot\u001b[39;00m (\u001b[38;5;28mself\u001b[39m\u001b[38;5;241m.\u001b[39miter_state\u001b[38;5;241m.\u001b[39mis_explicit_retry \u001b[38;5;129;01mor\u001b[39;00m \u001b[38;5;28mself\u001b[39m\u001b[38;5;241m.\u001b[39miter_state\u001b[38;5;241m.\u001b[39mretry_run_result):\n\u001b[0;32m--> 398\u001b[0m     \u001b[38;5;28mself\u001b[39m\u001b[38;5;241m.\u001b[39m_add_action_func(\u001b[38;5;28;01mlambda\u001b[39;00m rs: \u001b[43mrs\u001b[49m\u001b[38;5;241;43m.\u001b[39;49m\u001b[43moutcome\u001b[49m\u001b[38;5;241;43m.\u001b[39;49m\u001b[43mresult\u001b[49m\u001b[43m(\u001b[49m\u001b[43m)\u001b[49m)\n\u001b[1;32m    399\u001b[0m     \u001b[38;5;28;01mreturn\u001b[39;00m\n",
      "File \u001b[0;32m/usr/lib/python3.10/concurrent/futures/_base.py:451\u001b[0m, in \u001b[0;36mFuture.result\u001b[0;34m(self, timeout)\u001b[0m\n\u001b[1;32m    450\u001b[0m \u001b[38;5;28;01melif\u001b[39;00m \u001b[38;5;28mself\u001b[39m\u001b[38;5;241m.\u001b[39m_state \u001b[38;5;241m==\u001b[39m FINISHED:\n\u001b[0;32m--> 451\u001b[0m     \u001b[38;5;28;01mreturn\u001b[39;00m \u001b[38;5;28;43mself\u001b[39;49m\u001b[38;5;241;43m.\u001b[39;49m\u001b[43m__get_result\u001b[49m\u001b[43m(\u001b[49m\u001b[43m)\u001b[49m\n\u001b[1;32m    453\u001b[0m \u001b[38;5;28mself\u001b[39m\u001b[38;5;241m.\u001b[39m_condition\u001b[38;5;241m.\u001b[39mwait(timeout)\n",
      "File \u001b[0;32m/usr/lib/python3.10/concurrent/futures/_base.py:403\u001b[0m, in \u001b[0;36mFuture.__get_result\u001b[0;34m(self)\u001b[0m\n\u001b[1;32m    402\u001b[0m \u001b[38;5;28;01mtry\u001b[39;00m:\n\u001b[0;32m--> 403\u001b[0m     \u001b[38;5;28;01mraise\u001b[39;00m \u001b[38;5;28mself\u001b[39m\u001b[38;5;241m.\u001b[39m_exception\n\u001b[1;32m    404\u001b[0m \u001b[38;5;28;01mfinally\u001b[39;00m:\n\u001b[1;32m    405\u001b[0m     \u001b[38;5;66;03m# Break a reference cycle with the exception in self._exception\u001b[39;00m\n",
      "File \u001b[0;32m/mnt/lofn0/amiceli/adversarial_code_gen/surtr-env/lib/python3.10/site-packages/tenacity/__init__.py:478\u001b[0m, in \u001b[0;36mRetrying.__call__\u001b[0;34m(self, fn, *args, **kwargs)\u001b[0m\n\u001b[1;32m    477\u001b[0m \u001b[38;5;28;01mtry\u001b[39;00m:\n\u001b[0;32m--> 478\u001b[0m     result \u001b[38;5;241m=\u001b[39m \u001b[43mfn\u001b[49m\u001b[43m(\u001b[49m\u001b[38;5;241;43m*\u001b[39;49m\u001b[43margs\u001b[49m\u001b[43m,\u001b[49m\u001b[43m \u001b[49m\u001b[38;5;241;43m*\u001b[39;49m\u001b[38;5;241;43m*\u001b[39;49m\u001b[43mkwargs\u001b[49m\u001b[43m)\u001b[49m\n\u001b[1;32m    479\u001b[0m \u001b[38;5;28;01mexcept\u001b[39;00m \u001b[38;5;167;01mBaseException\u001b[39;00m:  \u001b[38;5;66;03m# noqa: B902\u001b[39;00m\n",
      "File \u001b[0;32m/mnt/lofn0/amiceli/adversarial_code_gen/surtr-env/lib/python3.10/site-packages/langchain_community/chat_models/fireworks.py:306\u001b[0m, in \u001b[0;36mcompletion_with_retry.<locals>._completion_with_retry\u001b[0;34m(**kwargs)\u001b[0m\n\u001b[1;32m    305\u001b[0m \u001b[38;5;250m\u001b[39m\u001b[38;5;124;03m\"\"\"Use tenacity to retry the completion call.\"\"\"\u001b[39;00m\n\u001b[0;32m--> 306\u001b[0m \u001b[38;5;28;01mreturn\u001b[39;00m \u001b[43mfireworks\u001b[49m\u001b[38;5;241;43m.\u001b[39;49m\u001b[43mclient\u001b[49m\u001b[38;5;241;43m.\u001b[39;49m\u001b[43mChatCompletion\u001b[49m\u001b[38;5;241;43m.\u001b[39;49m\u001b[43mcreate\u001b[49m\u001b[43m(\u001b[49m\n\u001b[1;32m    307\u001b[0m \u001b[43m    \u001b[49m\u001b[38;5;241;43m*\u001b[39;49m\u001b[38;5;241;43m*\u001b[39;49m\u001b[43mkwargs\u001b[49m\u001b[43m,\u001b[49m\n\u001b[1;32m    308\u001b[0m \u001b[43m\u001b[49m\u001b[43m)\u001b[49m\n",
      "File \u001b[0;32m/mnt/lofn0/amiceli/adversarial_code_gen/surtr-env/lib/python3.10/site-packages/fireworks/client/base_completion.py:81\u001b[0m, in \u001b[0;36mBaseCompletion.create\u001b[0;34m(cls, model, prompt_or_messages, request_timeout, stream, client, extra_headers, **kwargs)\u001b[0m\n\u001b[1;32m     80\u001b[0m \u001b[38;5;28;01melse\u001b[39;00m:\n\u001b[0;32m---> 81\u001b[0m     \u001b[38;5;28;01mreturn\u001b[39;00m \u001b[38;5;28;43mcls\u001b[39;49m\u001b[38;5;241;43m.\u001b[39;49m\u001b[43m_create_non_streaming\u001b[49m\u001b[43m(\u001b[49m\n\u001b[1;32m     82\u001b[0m \u001b[43m        \u001b[49m\u001b[43mmodel\u001b[49m\u001b[43m,\u001b[49m\n\u001b[1;32m     83\u001b[0m \u001b[43m        \u001b[49m\u001b[43mrequest_timeout\u001b[49m\u001b[43m,\u001b[49m\n\u001b[1;32m     84\u001b[0m \u001b[43m        \u001b[49m\u001b[43mclient\u001b[49m\u001b[38;5;241;43m=\u001b[39;49m\u001b[43mclient\u001b[49m\u001b[43m,\u001b[49m\n\u001b[1;32m     85\u001b[0m \u001b[43m        \u001b[49m\u001b[43mextra_headers\u001b[49m\u001b[38;5;241;43m=\u001b[39;49m\u001b[43mextra_headers\u001b[49m\u001b[43m,\u001b[49m\n\u001b[1;32m     86\u001b[0m \u001b[43m        \u001b[49m\u001b[38;5;241;43m*\u001b[39;49m\u001b[38;5;241;43m*\u001b[39;49m\u001b[43mkwargs\u001b[49m\u001b[43m,\u001b[49m\n\u001b[1;32m     87\u001b[0m \u001b[43m    \u001b[49m\u001b[43m)\u001b[49m\n",
      "File \u001b[0;32m/mnt/lofn0/amiceli/adversarial_code_gen/surtr-env/lib/python3.10/site-packages/fireworks/client/base_completion.py:180\u001b[0m, in \u001b[0;36mBaseCompletion._create_non_streaming\u001b[0;34m(cls, model, request_timeout, client, extra_headers, **kwargs)\u001b[0m\n\u001b[1;32m    179\u001b[0m data \u001b[38;5;241m=\u001b[39m {\u001b[38;5;124m\"\u001b[39m\u001b[38;5;124mmodel\u001b[39m\u001b[38;5;124m\"\u001b[39m: model, \u001b[38;5;124m\"\u001b[39m\u001b[38;5;124mstream\u001b[39m\u001b[38;5;124m\"\u001b[39m: \u001b[38;5;28;01mFalse\u001b[39;00m, \u001b[38;5;241m*\u001b[39m\u001b[38;5;241m*\u001b[39mkwargs}\n\u001b[0;32m--> 180\u001b[0m response \u001b[38;5;241m=\u001b[39m \u001b[43mclient\u001b[49m\u001b[38;5;241;43m.\u001b[39;49m\u001b[43mpost_request_non_streaming\u001b[49m\u001b[43m(\u001b[49m\n\u001b[1;32m    181\u001b[0m \u001b[43m    \u001b[49m\u001b[38;5;124;43mf\u001b[39;49m\u001b[38;5;124;43m\"\u001b[39;49m\u001b[38;5;132;43;01m{\u001b[39;49;00m\u001b[43mclient\u001b[49m\u001b[38;5;241;43m.\u001b[39;49m\u001b[43mbase_url\u001b[49m\u001b[38;5;132;43;01m}\u001b[39;49;00m\u001b[38;5;124;43m/\u001b[39;49m\u001b[38;5;132;43;01m{\u001b[39;49;00m\u001b[38;5;28;43mcls\u001b[39;49m\u001b[38;5;241;43m.\u001b[39;49m\u001b[43mendpoint\u001b[49m\u001b[38;5;132;43;01m}\u001b[39;49;00m\u001b[38;5;124;43m\"\u001b[39;49m\u001b[43m,\u001b[49m\n\u001b[1;32m    182\u001b[0m \u001b[43m    \u001b[49m\u001b[43mdata\u001b[49m\u001b[38;5;241;43m=\u001b[39;49m\u001b[43mdata\u001b[49m\u001b[43m,\u001b[49m\n\u001b[1;32m    183\u001b[0m \u001b[43m    \u001b[49m\u001b[43mextra_headers\u001b[49m\u001b[38;5;241;43m=\u001b[39;49m\u001b[43mextra_headers\u001b[49m\u001b[43m,\u001b[49m\n\u001b[1;32m    184\u001b[0m \u001b[43m\u001b[49m\u001b[43m)\u001b[49m\n\u001b[1;32m    185\u001b[0m \u001b[38;5;28;01mreturn\u001b[39;00m \u001b[38;5;28mcls\u001b[39m\u001b[38;5;241m.\u001b[39mresponse_class(\u001b[38;5;241m*\u001b[39m\u001b[38;5;241m*\u001b[39mresponse)\n",
      "File \u001b[0;32m/mnt/lofn0/amiceli/adversarial_code_gen/surtr-env/lib/python3.10/site-packages/fireworks/client/api_client.py:162\u001b[0m, in \u001b[0;36mFireworksClient.post_request_non_streaming\u001b[0;34m(self, url, data, extra_headers)\u001b[0m\n\u001b[1;32m    159\u001b[0m response \u001b[38;5;241m=\u001b[39m \u001b[38;5;28mself\u001b[39m\u001b[38;5;241m.\u001b[39m_client\u001b[38;5;241m.\u001b[39mpost(\n\u001b[1;32m    160\u001b[0m     url, json\u001b[38;5;241m=\u001b[39mdata, headers\u001b[38;5;241m=\u001b[39m\u001b[38;5;28mself\u001b[39m\u001b[38;5;241m.\u001b[39m_get_headers(extra_headers)\n\u001b[1;32m    161\u001b[0m )\n\u001b[0;32m--> 162\u001b[0m \u001b[38;5;28;43mself\u001b[39;49m\u001b[38;5;241;43m.\u001b[39;49m\u001b[43m_error_handling\u001b[49m\u001b[43m(\u001b[49m\u001b[43mresponse\u001b[49m\u001b[43m)\u001b[49m\n\u001b[1;32m    163\u001b[0m \u001b[38;5;28;01mreturn\u001b[39;00m response\u001b[38;5;241m.\u001b[39mjson()\n",
      "File \u001b[0;32m/mnt/lofn0/amiceli/adversarial_code_gen/surtr-env/lib/python3.10/site-packages/fireworks/client/api_client.py:124\u001b[0m, in \u001b[0;36mFireworksClient._error_handling\u001b[0;34m(self, resp)\u001b[0m\n\u001b[1;32m    123\u001b[0m     resp\u001b[38;5;241m.\u001b[39mread()\n\u001b[0;32m--> 124\u001b[0m \u001b[38;5;28;43mself\u001b[39;49m\u001b[38;5;241;43m.\u001b[39;49m\u001b[43m_raise_for_status\u001b[49m\u001b[43m(\u001b[49m\u001b[43mresp\u001b[49m\u001b[43m)\u001b[49m\n",
      "File \u001b[0;32m/mnt/lofn0/amiceli/adversarial_code_gen/surtr-env/lib/python3.10/site-packages/fireworks/client/api_client.py:114\u001b[0m, in \u001b[0;36mFireworksClient._raise_for_status\u001b[0;34m(self, response)\u001b[0m\n\u001b[1;32m    113\u001b[0m \u001b[38;5;28mself\u001b[39m\u001b[38;5;241m.\u001b[39m_raise_for(response\u001b[38;5;241m.\u001b[39mstatus_code, get_error_message)\n\u001b[0;32m--> 114\u001b[0m \u001b[43mresponse\u001b[49m\u001b[38;5;241;43m.\u001b[39;49m\u001b[43mraise_for_status\u001b[49m\u001b[43m(\u001b[49m\u001b[43m)\u001b[49m\n",
      "File \u001b[0;32m/mnt/lofn0/amiceli/adversarial_code_gen/surtr-env/lib/python3.10/site-packages/httpx/_models.py:761\u001b[0m, in \u001b[0;36mResponse.raise_for_status\u001b[0;34m(self)\u001b[0m\n\u001b[1;32m    760\u001b[0m message \u001b[38;5;241m=\u001b[39m message\u001b[38;5;241m.\u001b[39mformat(\u001b[38;5;28mself\u001b[39m, error_type\u001b[38;5;241m=\u001b[39merror_type)\n\u001b[0;32m--> 761\u001b[0m \u001b[38;5;28;01mraise\u001b[39;00m HTTPStatusError(message, request\u001b[38;5;241m=\u001b[39mrequest, response\u001b[38;5;241m=\u001b[39m\u001b[38;5;28mself\u001b[39m)\n",
      "\u001b[0;31mHTTPStatusError\u001b[0m: Server error '504 Gateway Timeout' for url 'https://api.fireworks.ai/inference/v1/chat/completions'\nFor more information check: https://developer.mozilla.org/en-US/docs/Web/HTTP/Status/504",
      "\nDuring handling of the above exception, another exception occurred:\n",
      "\u001b[0;31mKeyboardInterrupt\u001b[0m                         Traceback (most recent call last)",
      "Cell \u001b[0;32mIn[16], line 10\u001b[0m\n\u001b[1;32m      2\u001b[0m chat \u001b[38;5;241m=\u001b[39m ChatFireworks(\n\u001b[1;32m      3\u001b[0m     model\u001b[38;5;241m=\u001b[39mfireworks_deepseek_r1_distill_llama_7b_finetuned_model_fullpath,\n\u001b[1;32m      4\u001b[0m     temperature\u001b[38;5;241m=\u001b[39m\u001b[38;5;241m0.6\u001b[39m,\n\u001b[0;32m   (...)\u001b[0m\n\u001b[1;32m      7\u001b[0m     max_tokens\u001b[38;5;241m=\u001b[39m\u001b[38;5;241m6000\u001b[39m,\n\u001b[1;32m      8\u001b[0m )\n\u001b[1;32m      9\u001b[0m \u001b[38;5;28mprint\u001b[39m(model_name)\n\u001b[0;32m---> 10\u001b[0m chat_eval \u001b[38;5;241m=\u001b[39m \u001b[43meval_chat_model\u001b[49m\u001b[43m(\u001b[49m\u001b[43mchat\u001b[49m\u001b[43m,\u001b[49m\u001b[43m \u001b[49m\u001b[43mtest_set\u001b[49m\u001b[43m,\u001b[49m\u001b[43m \u001b[49m\u001b[43mfraction_to_test\u001b[49m\u001b[38;5;241;43m=\u001b[39;49m\u001b[38;5;241;43m0.1\u001b[39;49m\u001b[43m,\u001b[49m\u001b[43m \u001b[49m\u001b[43mdeepseek_mode\u001b[49m\u001b[38;5;241;43m=\u001b[39;49m\u001b[38;5;28;43;01mTrue\u001b[39;49;00m\u001b[43m)\u001b[49m\n\u001b[1;32m     11\u001b[0m \u001b[38;5;28mprint\u001b[39m(chat_eval)\n\u001b[1;32m     12\u001b[0m \u001b[38;5;28mprint\u001b[39m(\u001b[38;5;124m\"\u001b[39m\u001b[38;5;124m----\u001b[39m\u001b[38;5;124m\"\u001b[39m)\n",
      "Cell \u001b[0;32mIn[10], line 138\u001b[0m, in \u001b[0;36meval_chat_model\u001b[0;34m(chat_model, test_set, cot_mode, fraction_to_test, deepseek_mode)\u001b[0m\n\u001b[1;32m    136\u001b[0m \u001b[38;5;28;01mfor\u001b[39;00m i \u001b[38;5;129;01min\u001b[39;00m tqdm(\u001b[38;5;28mrange\u001b[39m(effective_test_set_size \u001b[38;5;241m+\u001b[39m \u001b[38;5;241m1\u001b[39m)):\n\u001b[1;32m    137\u001b[0m     \u001b[38;5;28;01mif\u001b[39;00m (i \u001b[38;5;241m>\u001b[39m\u001b[38;5;241m=\u001b[39m effective_test_set_size) \u001b[38;5;129;01mor\u001b[39;00m (\u001b[38;5;28mlen\u001b[39m(batch) \u001b[38;5;241m>\u001b[39m\u001b[38;5;241m=\u001b[39m batch_size):\n\u001b[0;32m--> 138\u001b[0m         b_accuracy, b_num_valid \u001b[38;5;241m=\u001b[39m \u001b[43mbatch_eval_func\u001b[49m\u001b[43m(\u001b[49m\u001b[43mchat_model\u001b[49m\u001b[43m,\u001b[49m\u001b[43m \u001b[49m\u001b[43mbatch\u001b[49m\u001b[43m,\u001b[49m\u001b[43m \u001b[49m\u001b[38;5;28;43;01mFalse\u001b[39;49;00m\u001b[43m)\u001b[49m\n\u001b[1;32m    139\u001b[0m         raw_total_accuracy \u001b[38;5;241m+\u001b[39m\u001b[38;5;241m=\u001b[39m b_accuracy\n\u001b[1;32m    140\u001b[0m         num_valid \u001b[38;5;241m+\u001b[39m\u001b[38;5;241m=\u001b[39m b_num_valid\n",
      "Cell \u001b[0;32mIn[10], line 112\u001b[0m, in \u001b[0;36meval_chat_model_batch_deepseek_r1\u001b[0;34m(chat_model, batch, switch_order)\u001b[0m\n\u001b[1;32m    110\u001b[0m     batch_messages\u001b[38;5;241m.\u001b[39mappend(x_messages)\n\u001b[1;32m    111\u001b[0m     y_batch\u001b[38;5;241m.\u001b[39mappend(y)\n\u001b[0;32m--> 112\u001b[0m llm_batch_response \u001b[38;5;241m=\u001b[39m \u001b[43mchat_llm_batch\u001b[49m\u001b[43m(\u001b[49m\u001b[43mchat_model\u001b[49m\u001b[43m,\u001b[49m\u001b[43m \u001b[49m\u001b[43mbatch_messages\u001b[49m\u001b[43m)\u001b[49m\n\u001b[1;32m    113\u001b[0m \u001b[38;5;28;01mfor\u001b[39;00m i, gen \u001b[38;5;129;01min\u001b[39;00m \u001b[38;5;28menumerate\u001b[39m(llm_batch_response\u001b[38;5;241m.\u001b[39mgenerations):\n\u001b[1;32m    114\u001b[0m     match \u001b[38;5;241m=\u001b[39m re\u001b[38;5;241m.\u001b[39msearch(\u001b[38;5;124mr\u001b[39m\u001b[38;5;124m'\u001b[39m\u001b[38;5;130;01m\\\\\u001b[39;00m\u001b[38;5;124mboxed\u001b[39m\u001b[38;5;124m\\\u001b[39m\u001b[38;5;124m{\u001b[39m\u001b[38;5;124m(-?\u001b[39m\u001b[38;5;124m\\\u001b[39m\u001b[38;5;124md+)\u001b[39m\u001b[38;5;124m\\\u001b[39m\u001b[38;5;124m}\u001b[39m\u001b[38;5;124m'\u001b[39m, gen[\u001b[38;5;241m0\u001b[39m]\u001b[38;5;241m.\u001b[39mtext) \u001b[38;5;66;03m# DeepSeek-r1 output within \\boxed{}\u001b[39;00m\n",
      "File \u001b[0;32m/mnt/lofn0/amiceli/adversarial_code_gen/surtr-env/lib/python3.10/site-packages/backoff/_sync.py:127\u001b[0m, in \u001b[0;36mretry_exception.<locals>.retry\u001b[0;34m(*args, **kwargs)\u001b[0m\n\u001b[1;32m    122\u001b[0m         \u001b[38;5;28;01mraise\u001b[39;00m e\n\u001b[1;32m    124\u001b[0m     _call_handlers(on_backoff, \u001b[38;5;241m*\u001b[39m\u001b[38;5;241m*\u001b[39mdetails, wait\u001b[38;5;241m=\u001b[39mseconds,\n\u001b[1;32m    125\u001b[0m                    exception\u001b[38;5;241m=\u001b[39me)\n\u001b[0;32m--> 127\u001b[0m     \u001b[43mtime\u001b[49m\u001b[38;5;241;43m.\u001b[39;49m\u001b[43msleep\u001b[49m\u001b[43m(\u001b[49m\u001b[43mseconds\u001b[49m\u001b[43m)\u001b[49m\n\u001b[1;32m    128\u001b[0m \u001b[38;5;28;01melse\u001b[39;00m:\n\u001b[1;32m    129\u001b[0m     _call_handlers(on_success, \u001b[38;5;241m*\u001b[39m\u001b[38;5;241m*\u001b[39mdetails)\n",
      "\u001b[0;31mKeyboardInterrupt\u001b[0m: "
     ]
    }
   ],
   "source": [
    "# Failed run\n",
    "model_name=\"ft-sineq-deepseek-r1-distill-llama-70b\" # DeepSeek-r1-distill-llama-70b finetuned as 1st gen \"Bob\" evaluator, with data reformatted in DeepSeek style\n",
    "chat = ChatFireworks(\n",
    "    model=fireworks_deepseek_r1_distill_llama_7b_finetuned_model_fullpath,\n",
    "    temperature=0.6,\n",
    "    timeout=None,\n",
    "    max_retries=2,\n",
    "    max_tokens=6000,\n",
    ")\n",
    "print(model_name)\n",
    "chat_eval = eval_chat_model(chat, test_set, fraction_to_test=0.1, deepseek_mode=True)\n",
    "print(chat_eval)\n",
    "print(\"----\")\n",
    "eval_results[model_name] = chat_eval"
   ]
  },
  {
   "cell_type": "code",
   "execution_count": null,
   "id": "f84dc2c4-a25a-4346-b381-2e3c03a83ab6",
   "metadata": {},
   "outputs": [],
   "source": []
  },
  {
   "cell_type": "code",
   "execution_count": 210,
   "id": "81b9df05",
   "metadata": {},
   "outputs": [],
   "source": [
    "import json\n",
    "import matplotlib.pyplot as plt\n",
    "import numpy as np\n",
    "from pathlib import Path"
   ]
  },
  {
   "cell_type": "code",
   "execution_count": 211,
   "id": "2ab4c70d",
   "metadata": {},
   "outputs": [],
   "source": [
    "out_file_name = \"eval_chat_llms_results.json\""
   ]
  },
  {
   "cell_type": "code",
   "execution_count": 212,
   "id": "1438aa8c",
   "metadata": {},
   "outputs": [],
   "source": [
    "with open(out_file_name, \"w\") as out_fs:\n",
    "    json.dump(eval_results, out_fs)"
   ]
  },
  {
   "cell_type": "code",
   "execution_count": null,
   "id": "906ada92-4350-49a4-a803-83b92670c46f",
   "metadata": {},
   "outputs": [],
   "source": []
  },
  {
   "cell_type": "code",
   "execution_count": null,
   "id": "eff0a0fc-3db9-4564-89c6-076b50cf65c9",
   "metadata": {},
   "outputs": [],
   "source": []
  },
  {
   "cell_type": "code",
   "execution_count": null,
   "id": "733358a0",
   "metadata": {},
   "outputs": [],
   "source": []
  },
  {
   "cell_type": "code",
   "execution_count": 213,
   "id": "9c51c0c9",
   "metadata": {},
   "outputs": [],
   "source": [
    "plt.rcParams.update({'font.size': 12.0})\n",
    "plt.rcParams.update({'figure.titlesize': 'small'})\n",
    "plt.rcParams.update({'legend.fontsize': 'small'})"
   ]
  },
  {
   "cell_type": "code",
   "execution_count": 214,
   "id": "b9a0fc45-305b-4bac-84c4-fae406532e75",
   "metadata": {},
   "outputs": [],
   "source": [
    "def select_results(eval_results, model_ids):\n",
    "    rv = dict()\n",
    "    for k, v in model_ids.items():\n",
    "        rv[v] = eval_results[k]\n",
    "    return rv"
   ]
  },
  {
   "cell_type": "code",
   "execution_count": 243,
   "id": "20ab4444",
   "metadata": {},
   "outputs": [
    {
     "data": {
      "image/png": "[encoded data removed]",
      "text/plain": [
       "<Figure size 640x480 with 1 Axes>"
      ]
     },
     "metadata": {},
     "output_type": "display_data"
    }
   ],
   "source": [
    "title = \"Classification accuracy of LLMs (non-reasoning)\"\n",
    "\n",
    "model_ids = {\n",
    "    \"gpt-4o-mini-2024-07-18\": \"gp4-4o-mini\",\n",
    "    \"ft:gpt-4o-mini-2024-07-18:uedin:semantic-inequiv-bob-run-0-round-6-generation-0:AyS2gJFd\": \"sinq-gp4-4o-mini (ours)\",\n",
    "    \"cot_gpt-4o-mini-2024-07-18\": \"gp4-4o-mini CoT\",\n",
    "    \"cot_ft:gpt-4o-mini-2024-07-18:uedin:semantic-inequiv-bob-run-0-round-6-generation-0:AyS2gJFd\": \"sinq-gp4-4o-mini CoT (ours)\"\n",
    "}\n",
    "\n",
    "selected_eval_results = select_results(eval_results, model_ids)\n",
    "\n",
    "model_names_succinct = list(selected_eval_results.keys()) #[\"-\".join(model_name.split(\"-\")[:-1]) for model_name in selected_eval_results.keys()]\n",
    "ind = np.arange(len(model_names_succinct))\n",
    "width = 0.25\n",
    "\n",
    "pos_vals = [100.0 * selected_eval_results[model_name]['total_accuracy'] for model_name in selected_eval_results.keys()]\n",
    "plt.bar(ind, pos_vals, width, label='Correct', color='blue')\n",
    "\n",
    "neg_vals = [100.0 * (selected_eval_results[model_name]['num_examples'] - selected_eval_results[model_name]['raw_total_accuracy']) / selected_eval_results[model_name]['num_examples'] for model_name in selected_eval_results.keys()]\n",
    "plt.bar(ind+width, neg_vals, width, label='Incorrect', color='red')\n",
    "\n",
    "invalid_vals = [100.0 * (1.0 - (selected_eval_results[model_name]['num_valid'] / selected_eval_results[model_name]['num_examples'])) for model_name in selected_eval_results.keys()]\n",
    "plt.bar(ind+2*width, invalid_vals, width, label='Invalid', color='black')\n",
    "\n",
    "plt.xlabel(\"Model\")\n",
    "plt.title(title)\n",
    "plt.ylim([0, 105])\n",
    "plt.yticks(range(0, 110, 10))\n",
    "plt.xticks(ind + (width), model_names_succinct, rotation=30, ha='right')\n",
    "ax = plt.gca()\n",
    "for label in ax.get_xticklabels():\n",
    "    if \"(ours)\" in  label.get_text():\n",
    "        label.set_fontweight(\"bold\")\n",
    "plt.draw()\n",
    "plt.legend(bbox_to_anchor=(1.05, 1.0), loc='upper left')\n",
    "plt.tight_layout()\n",
    "\n",
    "plt.savefig(Path(\"./\", \"chat_llms_classsification_plot.svg\"), format=\"svg\")\n",
    "plt.savefig(Path(\"./\", \"chat_llms_classsification_plot.png\"), format=\"png\")\n",
    "plt.savefig(Path(\"./\", \"chat_llms_classsification_plot.pdf\"), format=\"pdf\")"
   ]
  },
  {
   "cell_type": "code",
   "execution_count": 241,
   "id": "6d219fbe-c452-4ab8-85a7-17613619322f",
   "metadata": {},
   "outputs": [
    {
     "data": {
      "image/png": "[encoded data removed]",
      "text/plain": [
       "<Figure size 640x480 with 1 Axes>"
      ]
     },
     "metadata": {},
     "output_type": "display_data"
    }
   ],
   "source": [
    "title = \"Classification accuracy of reasoning LLMs\"\n",
    "\n",
    "model_ids = {\n",
    "    \"deepseek-r1-distill-llama-70b\": \"r1-llama-70b\",\n",
    "    \"deepseek-r1\": \"r1\",\n",
    "    \"o3-mini-2025-01-31\": \"o3-mini\",\n",
    "    \"o1-2024-12-17\": \"o1\",\n",
    "    \"ds_o3-mini-2025-01-31\": \"o3-mini (r1 prompt)\",\n",
    "    \"ds_o1-2024-12-17\": \"o1 (r1 prompt)\"\n",
    "}\n",
    "\n",
    "selected_eval_results = select_results(eval_results, model_ids)\n",
    "\n",
    "model_names_succinct = list(selected_eval_results.keys()) #[\"-\".join(model_name.split(\"-\")[:-1]) for model_name in selected_eval_results.keys()]\n",
    "ind = np.arange(len(model_names_succinct))\n",
    "width = 0.25\n",
    "\n",
    "pos_vals = [100.0 * selected_eval_results[model_name]['total_accuracy'] for model_name in selected_eval_results.keys()]\n",
    "plt.bar(ind, pos_vals, width, label='Correct', color='blue')\n",
    "\n",
    "neg_vals = [100.0 * (selected_eval_results[model_name]['num_examples'] - selected_eval_results[model_name]['raw_total_accuracy']) / selected_eval_results[model_name]['num_examples'] for model_name in selected_eval_results.keys()]\n",
    "plt.bar(ind+width, neg_vals, width, label='Incorrect', color='red')\n",
    "\n",
    "invalid_vals = [100.0 * (1.0 - (selected_eval_results[model_name]['num_valid'] / selected_eval_results[model_name]['num_examples'])) for model_name in selected_eval_results.keys()]\n",
    "plt.bar(ind+2*width, invalid_vals, width, label='Invalid', color='black')\n",
    "\n",
    "plt.xlabel(\"Model\")\n",
    "plt.title(title)\n",
    "plt.ylim([0, 105])\n",
    "plt.yticks(range(0, 110, 10))\n",
    "plt.xticks(ind + (width), model_names_succinct, rotation=30, ha='right')\n",
    "ax = plt.gca()\n",
    "for label in ax.get_xticklabels():\n",
    "    if \"(ours)\" in  label.get_text():\n",
    "        label.set_fontweight(\"bold\")\n",
    "plt.draw()\n",
    "plt.legend(bbox_to_anchor=(1.05, 1.0), loc='upper left')\n",
    "plt.tight_layout()\n",
    "\n",
    "plt.savefig(Path(\"./\", \"chat_llms_reasoning_classsification_plot.svg\"), format=\"svg\")\n",
    "plt.savefig(Path(\"./\", \"chat_llms_reasoning_classsification_plot.png\"), format=\"png\")\n",
    "plt.savefig(Path(\"./\", \"chat_llms_reasoning_classsification_plot.pdf\"), format=\"pdf\")"
   ]
  },
  {
   "cell_type": "code",
   "execution_count": 13,
   "id": "e6ce861b",
   "metadata": {},
   "outputs": [
    {
     "data": {
      "text/plain": [
       "{'gpt-4o-mini-2024-07-18': {'raw_total_accuracy': 33,\n",
       "  'total_accuracy': 0.0165,\n",
       "  'total_accuracy_on_valid': 0.0165,\n",
       "  'num_valid': 2000,\n",
       "  'num_examples': 2000},\n",
       " 'ft:gpt-4o-mini-2024-07-18:uedin:semantic-inequiv-bob-run-0-round-6-generation-0:AyS2gJFd': {'raw_total_accuracy': 107,\n",
       "  'total_accuracy': 0.0535,\n",
       "  'total_accuracy_on_valid': 0.0535,\n",
       "  'num_valid': 2000,\n",
       "  'num_examples': 2000},\n",
       " 'cot_gpt-4o-mini-2024-07-18': {'raw_total_accuracy': 38,\n",
       "  'total_accuracy': 0.019,\n",
       "  'total_accuracy_on_valid': 0.019,\n",
       "  'num_valid': 2000,\n",
       "  'num_examples': 2000},\n",
       " 'cot_ft:gpt-4o-mini-2024-07-18:uedin:semantic-inequiv-bob-run-0-round-6-generation-0:AyS2gJFd': {'raw_total_accuracy': 46,\n",
       "  'total_accuracy': 0.023,\n",
       "  'total_accuracy_on_valid': 0.023,\n",
       "  'num_valid': 2000,\n",
       "  'num_examples': 2000},\n",
       " 'o3-mini-2025-01-31': {'raw_total_accuracy': 682,\n",
       "  'total_accuracy': 0.341,\n",
       "  'total_accuracy_on_valid': 0.341,\n",
       "  'num_valid': 2000,\n",
       "  'num_examples': 2000},\n",
       " 'o1-2024-12-17': {'raw_total_accuracy': 115,\n",
       "  'total_accuracy': 0.575,\n",
       "  'total_accuracy_on_valid': 0.575,\n",
       "  'num_valid': 200,\n",
       "  'num_examples': 200},\n",
       " 'deepseek-r1': {'raw_total_accuracy': 188,\n",
       "  'total_accuracy': 0.94,\n",
       "  'total_accuracy_on_valid': 0.9740932642487047,\n",
       "  'num_valid': 193,\n",
       "  'num_examples': 200},\n",
       " 'deepseek-r1-distill-llama-70b': {'raw_total_accuracy': 149,\n",
       "  'total_accuracy': 0.745,\n",
       "  'total_accuracy_on_valid': 0.7563451776649747,\n",
       "  'num_valid': 197,\n",
       "  'num_examples': 200},\n",
       " 'ds_o1-2024-12-17': {'raw_total_accuracy': 144,\n",
       "  'total_accuracy': 0.72,\n",
       "  'total_accuracy_on_valid': 0.72,\n",
       "  'num_valid': 200,\n",
       "  'num_examples': 200},\n",
       " 'ds_o3-mini-2025-01-31': {'raw_total_accuracy': 924,\n",
       "  'total_accuracy': 0.462,\n",
       "  'total_accuracy_on_valid': 0.4626940410615924,\n",
       "  'num_valid': 1997,\n",
       "  'num_examples': 2000}}"
      ]
     },
     "execution_count": 13,
     "metadata": {},
     "output_type": "execute_result"
    }
   ],
   "source": [
    "eval_results"
   ]
  },
  {
   "cell_type": "code",
   "execution_count": 244,
   "id": "5f9b7e1f",
   "metadata": {},
   "outputs": [],
   "source": [
    "from IPython.display import Image"
   ]
  },
  {
   "cell_type": "code",
   "execution_count": 245,
   "id": "5865c575",
   "metadata": {},
   "outputs": [
    {
     "data": {
      "image/png": "[encoded data removed]",
      "text/plain": [
       "<IPython.core.display.Image object>"
      ]
     },
     "execution_count": 245,
     "metadata": {},
     "output_type": "execute_result"
    }
   ],
   "source": [
    "Image(\"./chat_llms_classsification_plot.png\")"
   ]
  },
  {
   "cell_type": "code",
   "execution_count": null,
   "id": "5478fd1f-08cf-459e-acb0-3a9e130b1893",
   "metadata": {},
   "outputs": [],
   "source": []
  },
  {
   "cell_type": "code",
   "execution_count": null,
   "id": "7b33ac4e-5128-4f2b-b90d-de583384c7f3",
   "metadata": {},
   "outputs": [],
   "source": []
  }
 ],
 "metadata": {
  "kernelspec": {
   "display_name": "Python 3 (ipykernel)",
   "language": "python",
   "name": "python3"
  },
  "language_info": {
   "codemirror_mode": {
    "name": "ipython",
    "version": 3
   },
   "file_extension": ".py",
   "mimetype": "text/x-python",
   "name": "python",
   "nbconvert_exporter": "python",
   "pygments_lexer": "ipython3",
   "version": "3.10.15"
  }
 },
 "nbformat": 4,
 "nbformat_minor": 5
}
